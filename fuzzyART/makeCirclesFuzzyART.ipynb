{
 "cells": [
  {
   "cell_type": "markdown",
   "id": "5ef6b192",
   "metadata": {},
   "source": [
    "# Fuzzy ART na biblioteca Make Circles"
   ]
  },
  {
   "cell_type": "markdown",
   "id": "1fef2ada",
   "metadata": {},
   "source": []
  }
 ],
 "metadata": {
  "language_info": {
   "name": "python"
  }
 },
 "nbformat": 4,
 "nbformat_minor": 5
}
