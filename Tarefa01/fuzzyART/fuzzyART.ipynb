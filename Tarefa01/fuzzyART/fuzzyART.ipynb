{
 "cells": [
  {
   "cell_type": "markdown",
   "id": "5366f8ac",
   "metadata": {},
   "source": [
    "# Fuzzy ART"
   ]
  },
  {
   "cell_type": "markdown",
   "id": "6e667800",
   "metadata": {},
   "source": [
    "Esse algoritmo é usado em tarefas de aprendizado não supervisionado.\n",
    "\n",
    "Ele utiliza o operador lógico 'fuzzy AND'."
   ]
  },
  {
   "cell_type": "markdown",
   "id": "d0597b9d",
   "metadata": {},
   "source": [
    "## Importando bibliotecas"
   ]
  },
  {
   "cell_type": "markdown",
   "id": "6d80f9bf",
   "metadata": {},
   "source": [
    "Usaremos a base de dados MNIST (Modified National Institute of Standards and Technology). Ela contém imagens de dígitos escritos à mão."
   ]
  },
  {
   "cell_type": "code",
   "execution_count": 1,
   "id": "72a0da89",
   "metadata": {},
   "outputs": [
    {
     "name": "stderr",
     "output_type": "stream",
     "text": [
      "2025-10-16 17:32:45.142691: I external/local_xla/xla/tsl/cuda/cudart_stub.cc:31] Could not find cuda drivers on your machine, GPU will not be used.\n",
      "2025-10-16 17:32:45.153819: I tensorflow/core/util/port.cc:153] oneDNN custom operations are on. You may see slightly different numerical results due to floating-point round-off errors from different computation orders. To turn them off, set the environment variable `TF_ENABLE_ONEDNN_OPTS=0`.\n",
      "2025-10-16 17:32:45.673544: I tensorflow/core/platform/cpu_feature_guard.cc:210] This TensorFlow binary is optimized to use available CPU instructions in performance-critical operations.\n",
      "To enable the following instructions: AVX2 AVX_VNNI FMA, in other operations, rebuild TensorFlow with the appropriate compiler flags.\n",
      "2025-10-16 17:32:48.219010: I tensorflow/core/util/port.cc:153] oneDNN custom operations are on. You may see slightly different numerical results due to floating-point round-off errors from different computation orders. To turn them off, set the environment variable `TF_ENABLE_ONEDNN_OPTS=0`.\n",
      "2025-10-16 17:32:48.221381: I external/local_xla/xla/tsl/cuda/cudart_stub.cc:31] Could not find cuda drivers on your machine, GPU will not be used.\n"
     ]
    }
   ],
   "source": [
    "from artlib import FuzzyART\n",
    "import numpy as np\n",
    "from tensorflow.keras.datasets import mnist"
   ]
  },
  {
   "cell_type": "markdown",
   "id": "00197e72",
   "metadata": {},
   "source": [
    "## Carregando a base de dados"
   ]
  },
  {
   "cell_type": "code",
   "execution_count": 2,
   "id": "487a24e8",
   "metadata": {},
   "outputs": [],
   "source": [
    "n_dim = 28*28\n",
    "(X_train, _), (X_test, _) = mnist.load_data()\n",
    "X_train = X_train.reshape((-1, n_dim)) # flatten images\n",
    "X_test = X_test.reshape((-1, n_dim))"
   ]
  },
  {
   "cell_type": "markdown",
   "id": "e3e3895c",
   "metadata": {},
   "source": [
    "## Inicializando o modelo Fuzzy ART "
   ]
  },
  {
   "cell_type": "code",
   "execution_count": 3,
   "id": "ce0ac4a1",
   "metadata": {},
   "outputs": [],
   "source": [
    "model = FuzzyART(rho=0.7, alpha = 0.0, beta=1.0)"
   ]
  },
  {
   "cell_type": "markdown",
   "id": "cd1fec71",
   "metadata": {},
   "source": [
    "## Normalização"
   ]
  },
  {
   "cell_type": "markdown",
   "id": "4b64b4cc",
   "metadata": {},
   "source": [
    "Essa parte é opcional. Aqui, dizemos ao modelo os limites dos dados para a normalização."
   ]
  },
  {
   "cell_type": "code",
   "execution_count": 4,
   "id": "16e865a9",
   "metadata": {},
   "outputs": [],
   "source": [
    "lower_bounds = np.array([0.]*n_dim)\n",
    "upper_bounds = np.array([255.]*n_dim)\n",
    "model.set_data_bounds(lower_bounds, upper_bounds)"
   ]
  },
  {
   "cell_type": "markdown",
   "id": "bdbe7376",
   "metadata": {},
   "source": [
    "## Preparando os dados"
   ]
  },
  {
   "cell_type": "markdown",
   "id": "646068dd",
   "metadata": {},
   "source": [
    "Essa função faz o pré-processamento dos dados."
   ]
  },
  {
   "cell_type": "code",
   "execution_count": 5,
   "id": "534b8f98",
   "metadata": {},
   "outputs": [],
   "source": [
    "train_X_prep = model.prepare_data(X_train)\n",
    "test_X_prep = model.prepare_data(X_test)"
   ]
  },
  {
   "cell_type": "markdown",
   "id": "e62ff8f8",
   "metadata": {},
   "source": [
    "## Fazendo o \"fit\" e as predições"
   ]
  },
  {
   "cell_type": "code",
   "execution_count": 6,
   "id": "8c0f7570",
   "metadata": {},
   "outputs": [
    {
     "ename": "KeyboardInterrupt",
     "evalue": "",
     "output_type": "error",
     "traceback": [
      "\u001b[0;31m---------------------------------------------------------------------------\u001b[0m",
      "\u001b[0;31mKeyboardInterrupt\u001b[0m                         Traceback (most recent call last)",
      "Cell \u001b[0;32mIn[6], line 2\u001b[0m\n\u001b[1;32m      1\u001b[0m \u001b[38;5;66;03m# Fit the model\u001b[39;00m\n\u001b[0;32m----> 2\u001b[0m model\u001b[38;5;241m.\u001b[39mfit(train_X_prep)\n\u001b[1;32m      4\u001b[0m \u001b[38;5;66;03m# Predict data labels\u001b[39;00m\n\u001b[1;32m      5\u001b[0m predictions \u001b[38;5;241m=\u001b[39m model\u001b[38;5;241m.\u001b[39mpredict(test_X_prep)\n",
      "File \u001b[0;32m~/Downloads/anaconda3/lib/python3.12/site-packages/artlib/common/BaseART.py:667\u001b[0m, in \u001b[0;36mBaseART.fit\u001b[0;34m(self, X, y, match_reset_func, max_iter, match_tracking, epsilon, verbose, leave_progress_bar)\u001b[0m\n\u001b[1;32m    665\u001b[0m \u001b[38;5;28;01mfor\u001b[39;00m i, x \u001b[38;5;129;01min\u001b[39;00m x_iter:\n\u001b[1;32m    666\u001b[0m     \u001b[38;5;28mself\u001b[39m\u001b[38;5;241m.\u001b[39mpre_step_fit(X)\n\u001b[0;32m--> 667\u001b[0m     c \u001b[38;5;241m=\u001b[39m \u001b[38;5;28mself\u001b[39m\u001b[38;5;241m.\u001b[39mstep_fit(\n\u001b[1;32m    668\u001b[0m         x,\n\u001b[1;32m    669\u001b[0m         match_reset_func\u001b[38;5;241m=\u001b[39mmatch_reset_func,\n\u001b[1;32m    670\u001b[0m         match_tracking\u001b[38;5;241m=\u001b[39mmatch_tracking,\n\u001b[1;32m    671\u001b[0m         epsilon\u001b[38;5;241m=\u001b[39mepsilon,\n\u001b[1;32m    672\u001b[0m     )\n\u001b[1;32m    673\u001b[0m     \u001b[38;5;28mself\u001b[39m\u001b[38;5;241m.\u001b[39mlabels_[i] \u001b[38;5;241m=\u001b[39m c\n\u001b[1;32m    674\u001b[0m     \u001b[38;5;28mself\u001b[39m\u001b[38;5;241m.\u001b[39mpost_step_fit(X)\n",
      "File \u001b[0;32m~/Downloads/anaconda3/lib/python3.12/site-packages/artlib/common/BaseART.py:531\u001b[0m, in \u001b[0;36mBaseART.step_fit\u001b[0;34m(self, x, match_reset_func, match_tracking, epsilon)\u001b[0m\n\u001b[1;32m    529\u001b[0m w \u001b[38;5;241m=\u001b[39m \u001b[38;5;28mself\u001b[39m\u001b[38;5;241m.\u001b[39mW[c_]\n\u001b[1;32m    530\u001b[0m cache \u001b[38;5;241m=\u001b[39m T_cache[c_]\n\u001b[0;32m--> 531\u001b[0m m, cache \u001b[38;5;241m=\u001b[39m \u001b[38;5;28mself\u001b[39m\u001b[38;5;241m.\u001b[39mmatch_criterion_bin(\n\u001b[1;32m    532\u001b[0m     x, w, params\u001b[38;5;241m=\u001b[39m\u001b[38;5;28mself\u001b[39m\u001b[38;5;241m.\u001b[39mparams, cache\u001b[38;5;241m=\u001b[39mcache, op\u001b[38;5;241m=\u001b[39mmt_operator\n\u001b[1;32m    533\u001b[0m )\n\u001b[1;32m    534\u001b[0m \u001b[38;5;28;01mif\u001b[39;00m match_tracking \u001b[38;5;129;01min\u001b[39;00m [\u001b[38;5;124m\"\u001b[39m\u001b[38;5;124mMT~\u001b[39m\u001b[38;5;124m\"\u001b[39m] \u001b[38;5;129;01mand\u001b[39;00m match_reset_func \u001b[38;5;129;01mis\u001b[39;00m \u001b[38;5;129;01mnot\u001b[39;00m \u001b[38;5;28;01mNone\u001b[39;00m:\n\u001b[1;32m    535\u001b[0m     no_match_reset \u001b[38;5;241m=\u001b[39m \u001b[38;5;28;01mTrue\u001b[39;00m\n",
      "File \u001b[0;32m~/Downloads/anaconda3/lib/python3.12/site-packages/artlib/common/BaseART.py:330\u001b[0m, in \u001b[0;36mBaseART.match_criterion_bin\u001b[0;34m(self, i, w, params, cache, op)\u001b[0m\n\u001b[1;32m    303\u001b[0m \u001b[38;5;28;01mdef\u001b[39;00m \u001b[38;5;21mmatch_criterion_bin\u001b[39m(\n\u001b[1;32m    304\u001b[0m     \u001b[38;5;28mself\u001b[39m,\n\u001b[1;32m    305\u001b[0m     i: np\u001b[38;5;241m.\u001b[39mndarray,\n\u001b[0;32m   (...)\u001b[0m\n\u001b[1;32m    309\u001b[0m     op: Callable \u001b[38;5;241m=\u001b[39m operator\u001b[38;5;241m.\u001b[39mge,\n\u001b[1;32m    310\u001b[0m ) \u001b[38;5;241m-\u001b[39m\u001b[38;5;241m>\u001b[39m Tuple[\u001b[38;5;28mbool\u001b[39m, Dict]:\n\u001b[1;32m    311\u001b[0m \u001b[38;5;250m    \u001b[39m\u001b[38;5;124;03m\"\"\"Get the binary match criterion of the cluster.\u001b[39;00m\n\u001b[1;32m    312\u001b[0m \n\u001b[1;32m    313\u001b[0m \u001b[38;5;124;03m    Parameters\u001b[39;00m\n\u001b[0;32m   (...)\u001b[0m\n\u001b[1;32m    328\u001b[0m \n\u001b[1;32m    329\u001b[0m \u001b[38;5;124;03m    \"\"\"\u001b[39;00m\n\u001b[0;32m--> 330\u001b[0m     M, cache \u001b[38;5;241m=\u001b[39m \u001b[38;5;28mself\u001b[39m\u001b[38;5;241m.\u001b[39mmatch_criterion(i, w, params\u001b[38;5;241m=\u001b[39mparams, cache\u001b[38;5;241m=\u001b[39mcache)\n\u001b[1;32m    331\u001b[0m     M_bin \u001b[38;5;241m=\u001b[39m op(M, params[\u001b[38;5;124m\"\u001b[39m\u001b[38;5;124mrho\u001b[39m\u001b[38;5;124m\"\u001b[39m])\n\u001b[1;32m    332\u001b[0m     \u001b[38;5;28;01mif\u001b[39;00m cache \u001b[38;5;129;01mis\u001b[39;00m \u001b[38;5;28;01mNone\u001b[39;00m:\n",
      "File \u001b[0;32m~/Downloads/anaconda3/lib/python3.12/site-packages/artlib/elementary/FuzzyART.py:301\u001b[0m, in \u001b[0;36mFuzzyART.match_criterion\u001b[0;34m(self, i, w, params, cache)\u001b[0m\n\u001b[1;32m    273\u001b[0m \u001b[38;5;28;01mdef\u001b[39;00m \u001b[38;5;21mmatch_criterion\u001b[39m(\n\u001b[1;32m    274\u001b[0m     \u001b[38;5;28mself\u001b[39m,\n\u001b[1;32m    275\u001b[0m     i: np\u001b[38;5;241m.\u001b[39mndarray,\n\u001b[0;32m   (...)\u001b[0m\n\u001b[1;32m    278\u001b[0m     cache: Optional[\u001b[38;5;28mdict\u001b[39m] \u001b[38;5;241m=\u001b[39m \u001b[38;5;28;01mNone\u001b[39;00m,\n\u001b[1;32m    279\u001b[0m ) \u001b[38;5;241m-\u001b[39m\u001b[38;5;241m>\u001b[39m Tuple[\u001b[38;5;28mfloat\u001b[39m, Optional[Dict]]:\n\u001b[1;32m    280\u001b[0m \u001b[38;5;250m    \u001b[39m\u001b[38;5;124;03m\"\"\"Get the match criterion of the cluster.\u001b[39;00m\n\u001b[1;32m    281\u001b[0m \n\u001b[1;32m    282\u001b[0m \u001b[38;5;124;03m    Parameters\u001b[39;00m\n\u001b[0;32m   (...)\u001b[0m\n\u001b[1;32m    299\u001b[0m \n\u001b[1;32m    300\u001b[0m \u001b[38;5;124;03m    \"\"\"\u001b[39;00m\n\u001b[0;32m--> 301\u001b[0m     \u001b[38;5;28;01mreturn\u001b[39;00m _match_criterion_numba(i, w, \u001b[38;5;28mself\u001b[39m\u001b[38;5;241m.\u001b[39mdim_original), cache\n",
      "\u001b[0;31mKeyboardInterrupt\u001b[0m: "
     ]
    }
   ],
   "source": [
    "# Fit the model\n",
    "model.fit(train_X_prep)\n",
    "\n",
    "# Predict data labels\n",
    "predictions = model.predict(test_X_prep)"
   ]
  }
 ],
 "metadata": {
  "kernelspec": {
   "display_name": "base",
   "language": "python",
   "name": "python3"
  },
  "language_info": {
   "codemirror_mode": {
    "name": "ipython",
    "version": 3
   },
   "file_extension": ".py",
   "mimetype": "text/x-python",
   "name": "python",
   "nbconvert_exporter": "python",
   "pygments_lexer": "ipython3",
   "version": "3.12.7"
  }
 },
 "nbformat": 4,
 "nbformat_minor": 5
}
