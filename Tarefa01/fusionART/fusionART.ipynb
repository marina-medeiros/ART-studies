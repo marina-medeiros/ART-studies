{
 "cells": [
  {
   "cell_type": "code",
   "execution_count": null,
   "id": "5f3eb970",
   "metadata": {},
   "outputs": [],
   "source": [
    "from artlib import FuzzyART, HypersphereART, FusionART\n",
    "import numpy as np\n",
    "\n",
    "# Your dataset\n",
    "X_train = np.array([...]) # shape (n_samples, n_features_X)\n",
    "y_train = np.array([...]) # shape (n_samples, n_features_y)\n",
    "test_X = np.array([...])\n",
    "\n",
    "# Initialize the Fuzzy ART model\n",
    "module_x = FuzzyART(rho=0.0, alpha = 0.0, beta=1.0)\n",
    "\n",
    "# Initialize the Hypersphere ART model\n",
    "r_hat = 0.5*np.sqrt(X_train.shape[1]) # no restriction on hyperpshere size\n",
    "module_y = HypersphereART(rho=0.0, alpha = 0.0, beta=1.0, r_hat=r_hat)\n",
    "\n",
    "# Initialize the FusionARTMAP model\n",
    "gamma_values = [0.5, 0.5] # eqaul weight to both channels\n",
    "channel_dims = [\n",
    "  2*X_train.shape[1], # fuzzy ART complement codes data so channel dim is 2*n_features\n",
    "  y_train.shape[1]\n",
    "]\n",
    "model = FusionART(\n",
    "  modules=[module_x, module_y],\n",
    "  gamma_values=gamma_values,\n",
    "  channel_dims=channel_dims\n",
    ")\n",
    "\n",
    "# Prepare Data\n",
    "train_Xy = model.join_channel_data(channel_data=[X_train, y_train])\n",
    "train_Xy_prep = model.prepare_data(train_Xy)\n",
    "test_Xy = model.join_channel_data(channel_data=[X_train], skip_channels=[1])\n",
    "test_Xy_prep = model.prepare_data(test_Xy)\n",
    "\n",
    "# Fit the model\n",
    "model.fit(train_Xy_prep)\n",
    "\n",
    "# Predict y-channel values and clip X values outside previously observed ranges\n",
    "pred_y = model.predict_regression(test_Xy_prep, target_channels=[1], clip=True)"
   ]
  }
 ],
 "metadata": {
  "kernelspec": {
   "display_name": "base",
   "language": "python",
   "name": "python3"
  },
  "language_info": {
   "codemirror_mode": {
    "name": "ipython",
    "version": 3
   },
   "file_extension": ".py",
   "mimetype": "text/x-python",
   "name": "python",
   "nbconvert_exporter": "python",
   "pygments_lexer": "ipython3",
   "version": "3.12.7"
  }
 },
 "nbformat": 4,
 "nbformat_minor": 5
}
