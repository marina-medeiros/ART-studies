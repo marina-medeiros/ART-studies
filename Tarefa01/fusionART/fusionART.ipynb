{
 "cells": [
  {
   "cell_type": "code",
   "execution_count": null,
   "id": "5f3eb970",
   "metadata": {},
   "outputs": [],
   "source": [
    "from artlib import FuzzyART, HypersphereART, FusionART\n",
    "import numpy as np\n",
    "\n",
    "# Your dataset\n",
    "X_train = np.array([...]) # shape (n_samples, n_features_X)\n",
    "y_train = np.array([...]) # shape (n_samples, n_features_y)\n",
    "test_X = np.array([...])\n",
    "\n",
    "# Initialize the Fuzzy ART model\n",
    "module_x = FuzzyART(rho=0.0, alpha = 0.0, beta=1.0)\n",
    "\n",
    "# Initialize the Hypersphere ART model\n",
    "r_hat = 0.5*np.sqrt(X_train.shape[1]) # no restriction on hyperpshere size\n",
    "module_y = HypersphereART(rho=0.0, alpha = 0.0, beta=1.0, r_hat=r_hat)\n",
    "\n",
    "# Initialize the FusionARTMAP model\n",
    "gamma_values = [0.5, 0.5] # eqaul weight to both channels\n",
    "channel_dims = [\n",
    "  2*X_train.shape[1], # fuzzy ART complement codes data so channel dim is 2*n_features\n",
    "  y_train.shape[1]\n",
    "]\n",
    "model = FusionART(\n",
    "  modules=[module_x, module_y],\n",
    "  gamma_values=gamma_values,\n",
    "  channel_dims=channel_dims\n",
    ")\n",
    "\n",
    "# Prepare Data\n",
    "train_Xy = model.join_channel_data(channel_data=[X_train, y_train])\n",
    "train_Xy_prep = model.prepare_data(train_Xy)\n",
    "test_Xy = model.join_channel_data(channel_data=[X_train], skip_channels=[1])\n",
    "test_Xy_prep = model.prepare_data(test_Xy)\n",
    "\n",
    "# Fit the model\n",
    "model.fit(train_Xy_prep)\n",
    "\n",
    "# Predict y-channel values and clip X values outside previously observed ranges\n",
    "pred_y = model.predict_regression(test_Xy_prep, target_channels=[1], clip=True)"
   ]
  },
  {
   "cell_type": "code",
   "execution_count": 1,
   "id": "4fcfd7bf",
   "metadata": {},
   "outputs": [
    {
     "ename": "ValueError",
     "evalue": "all the input arrays must have same number of dimensions, but the array at index 0 has 2 dimension(s) and the array at index 1 has 1 dimension(s)",
     "output_type": "error",
     "traceback": [
      "\u001b[0;31m---------------------------------------------------------------------------\u001b[0m",
      "\u001b[0;31mValueError\u001b[0m                                Traceback (most recent call last)",
      "Cell \u001b[0;32mIn[1], line 33\u001b[0m\n\u001b[1;32m     28\u001b[0m model \u001b[38;5;241m=\u001b[39m FusionART(\n\u001b[1;32m     29\u001b[0m     modules\u001b[38;5;241m=\u001b[39m[module_x, module_y], gamma_values\u001b[38;5;241m=\u001b[39mgamma_values, channel_dims\u001b[38;5;241m=\u001b[39mchannel_dims\n\u001b[1;32m     30\u001b[0m )\n\u001b[1;32m     32\u001b[0m \u001b[38;5;66;03m# Prepare Data\u001b[39;00m\n\u001b[0;32m---> 33\u001b[0m train_Xy \u001b[38;5;241m=\u001b[39m model\u001b[38;5;241m.\u001b[39mjoin_channel_data(channel_data\u001b[38;5;241m=\u001b[39m[X_train, y_train])\n\u001b[1;32m     34\u001b[0m train_Xy_prep \u001b[38;5;241m=\u001b[39m model\u001b[38;5;241m.\u001b[39mprepare_data(train_Xy)\n\u001b[1;32m     35\u001b[0m test_Xy \u001b[38;5;241m=\u001b[39m model\u001b[38;5;241m.\u001b[39mjoin_channel_data(channel_data\u001b[38;5;241m=\u001b[39m[X_train], skip_channels\u001b[38;5;241m=\u001b[39m[\u001b[38;5;241m1\u001b[39m])\n",
      "File \u001b[0;32m~/Downloads/anaconda3/lib/python3.12/site-packages/artlib/fusion/FusionART.py:826\u001b[0m, in \u001b[0;36mFusionART.join_channel_data\u001b[0;34m(self, channel_data, skip_channels)\u001b[0m\n\u001b[1;32m    815\u001b[0m     \u001b[38;5;28;01melse\u001b[39;00m:\n\u001b[1;32m    816\u001b[0m         formatted_channel_data\u001b[38;5;241m.\u001b[39mappend(\n\u001b[1;32m    817\u001b[0m             \u001b[38;5;241m0.5\u001b[39m\n\u001b[1;32m    818\u001b[0m             \u001b[38;5;241m*\u001b[39m np\u001b[38;5;241m.\u001b[39mones(\n\u001b[0;32m   (...)\u001b[0m\n\u001b[1;32m    823\u001b[0m             )\n\u001b[1;32m    824\u001b[0m         )\n\u001b[0;32m--> 826\u001b[0m X \u001b[38;5;241m=\u001b[39m np\u001b[38;5;241m.\u001b[39mhstack(formatted_channel_data)\n\u001b[1;32m    827\u001b[0m \u001b[38;5;28;01mreturn\u001b[39;00m X\n",
      "File \u001b[0;32m~/Downloads/anaconda3/lib/python3.12/site-packages/numpy/core/shape_base.py:359\u001b[0m, in \u001b[0;36mhstack\u001b[0;34m(tup, dtype, casting)\u001b[0m\n\u001b[1;32m    357\u001b[0m     \u001b[38;5;28;01mreturn\u001b[39;00m _nx\u001b[38;5;241m.\u001b[39mconcatenate(arrs, \u001b[38;5;241m0\u001b[39m, dtype\u001b[38;5;241m=\u001b[39mdtype, casting\u001b[38;5;241m=\u001b[39mcasting)\n\u001b[1;32m    358\u001b[0m \u001b[38;5;28;01melse\u001b[39;00m:\n\u001b[0;32m--> 359\u001b[0m     \u001b[38;5;28;01mreturn\u001b[39;00m _nx\u001b[38;5;241m.\u001b[39mconcatenate(arrs, \u001b[38;5;241m1\u001b[39m, dtype\u001b[38;5;241m=\u001b[39mdtype, casting\u001b[38;5;241m=\u001b[39mcasting)\n",
      "\u001b[0;31mValueError\u001b[0m: all the input arrays must have same number of dimensions, but the array at index 0 has 2 dimension(s) and the array at index 1 has 1 dimension(s)"
     ]
    }
   ],
   "source": [
    "from artlib import FuzzyART, HypersphereART, FusionART\n",
    "from sklearn.datasets import load_iris\n",
    "from sklearn.model_selection import train_test_split\n",
    "import numpy as np\n",
    "\n",
    "X, y = load_iris(return_X_y=True)\n",
    "\n",
    "X_train, X_test, y_train, y_test = train_test_split(\n",
    "    X, y, test_size=0.4, random_state=42\n",
    ")\n",
    "\n",
    "# Initialize the Fuzzy ART model\n",
    "module_x = FuzzyART(rho=0.0, alpha=0.0, beta=1.0)\n",
    "\n",
    "# Initialize the Hypersphere ART model\n",
    "r_hat = 0.5 * np.sqrt(X_train.shape[1])  # no restriction on hyperpshere size\n",
    "module_y = HypersphereART(rho=0.0, alpha=0.0, beta=1.0, r_hat=r_hat)\n",
    "\n",
    "# Initialize the FusionARTMAP model\n",
    "gamma_values = [0.5, 0.5]  # eqaul weight to both channels\n",
    "channel_dims = [\n",
    "    2\n",
    "    * X_train.shape[\n",
    "        1\n",
    "    ],  # fuzzy ART complement codes data so channel dim is 2*n_features\n",
    "    1,\n",
    "]\n",
    "model = FusionART(\n",
    "    modules=[module_x, module_y], gamma_values=gamma_values, channel_dims=channel_dims\n",
    ")\n",
    "\n",
    "# Prepare Data\n",
    "train_Xy = model.join_channel_data(channel_data=[X_train, y_train])\n",
    "train_Xy_prep = model.prepare_data(train_Xy)\n",
    "test_Xy = model.join_channel_data(channel_data=[X_train], skip_channels=[1])\n",
    "test_Xy_prep = model.prepare_data(test_Xy)\n",
    "\n",
    "# Fit the model\n",
    "model.fit(train_Xy_prep)\n",
    "\n",
    "# Predict y-channel values and clip X values outside previously observed ranges\n",
    "pred_y = model.predict_regression(test_Xy_prep, target_channels=[1], clip=True)"
   ]
  }
 ],
 "metadata": {
  "kernelspec": {
   "display_name": "base",
   "language": "python",
   "name": "python3"
  },
  "language_info": {
   "codemirror_mode": {
    "name": "ipython",
    "version": 3
   },
   "file_extension": ".py",
   "mimetype": "text/x-python",
   "name": "python",
   "nbconvert_exporter": "python",
   "pygments_lexer": "ipython3",
   "version": "3.12.7"
  }
 },
 "nbformat": 4,
 "nbformat_minor": 5
}
