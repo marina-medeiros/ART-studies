{
 "cells": [
  {
   "cell_type": "markdown",
   "id": "7c91d594",
   "metadata": {},
   "source": [
    "Não consegui fazer funcionar por problemas na biblioteca"
   ]
  }
 ],
 "metadata": {
  "language_info": {
   "name": "python"
  }
 },
 "nbformat": 4,
 "nbformat_minor": 5
}
