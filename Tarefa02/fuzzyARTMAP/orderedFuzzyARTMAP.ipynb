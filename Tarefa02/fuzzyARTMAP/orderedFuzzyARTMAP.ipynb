{
  "cells": [
    {
      "cell_type": "markdown",
      "metadata": {
        "id": "08c869a5"
      },
      "source": [
        "# Fuzzy ARTMAP com classes ordenadas"
      ]
    },
    {
      "cell_type": "markdown",
      "metadata": {
        "id": "8eefe2b7"
      },
      "source": [
        "## Importando bibliotecas"
      ]
    },
    {
      "cell_type": "code",
      "execution_count": 1,
      "metadata": {
        "colab": {
          "base_uri": "https://localhost:8080/"
        },
        "collapsed": true,
        "id": "SIPZQd1aoIDf",
        "outputId": "9b9fa6d9-a80c-4378-a6ef-0fff5da12d5e"
      },
      "outputs": [
        {
          "name": "stdout",
          "output_type": "stream",
          "text": [
            "Requirement already satisfied: artlib in /home/marina/Downloads/anaconda3/lib/python3.12/site-packages (0.1.7)\n",
            "Note: you may need to restart the kernel to use updated packages.\n"
          ]
        }
      ],
      "source": [
        "%pip install artlib"
      ]
    },
    {
      "cell_type": "code",
      "execution_count": null,
      "metadata": {
        "collapsed": true,
        "id": "10777266"
      },
      "outputs": [],
      "source": [
        "import torch\n",
        "from torchvision import datasets, transforms\n",
        "import torchvision.transforms as transforms\n",
        "from torchvision.datasets import USPS\n",
        "from artlib import FuzzyART, FuzzyARTMAP, FusionART\n",
        "from sklearn.metrics import classification_report, adjusted_rand_score, confusion_matrix, ConfusionMatrixDisplay\n",
        "import matplotlib.pyplot as plt\n",
        "import numpy as np\n",
        "import pandas as pd\n",
        "from sklearn.utils import resample\n",
        "from sklearn.preprocessing import StandardScaler\n",
        "from sklearn.model_selection import train_test_split\n",
        "from sklearn.metrics import accuracy_score"
      ]
    },
    {
      "cell_type": "markdown",
      "metadata": {},
      "source": [
        "## Métricas"
      ]
    },
    {
      "cell_type": "code",
      "execution_count": 3,
      "metadata": {},
      "outputs": [],
      "source": [
        "# # Os limites são calculados de forma diferente quando se trata de imagens\n",
        "def train_fuzzyARTMAP_images(X_train_subset, y_train_subset, X_test_subset, y_test_subset, n_dim):\n",
        "    fuzzy_artmap_model = FuzzyARTMAP(rho=0.3, alpha=0.0, beta=1.0)\n",
        "\n",
        "    lower_bounds = np.zeros(n_dim)\n",
        "    upper_bounds = np.full(n_dim, 255.0)\n",
        "    fuzzy_artmap_model.module_a.set_data_bounds(lower_bounds, upper_bounds)\n",
        "\n",
        "    train_X_fuzzy_artmap = fuzzy_artmap_model.prepare_data(X_train_subset)\n",
        "    test_X_fuzzy_artmap  = fuzzy_artmap_model.prepare_data(X_test_subset)\n",
        "\n",
        "    fuzzy_artmap_model.fit(train_X_fuzzy_artmap, y_train_subset)\n",
        "    fuzzy_artmap_predictions = fuzzy_artmap_model.predict(test_X_fuzzy_artmap, y_test_subset)\n",
        "\n",
        "    return accuracy_score(y_test_subset,fuzzy_artmap_predictions)\n",
        "\n",
        "def train_fuzzyARTMAP(X_train_subset, y_train_subset, X_test_subset, y_test_subset):\n",
        "    fuzzy_artmap_model = FuzzyARTMAP(rho=0.3, alpha=0.0, beta=1.0)\n",
        "\n",
        "    X_combined = np.concatenate([X_train_subset, X_test_subset], axis=0)\n",
        "    lower_bound, upper_bound = fuzzy_artmap_model.find_data_bounds(X_combined)\n",
        "    fuzzy_artmap_model.module_a.set_data_bounds(lower_bound, upper_bound)\n",
        "\n",
        "    train_X_fuzzy_artmap = fuzzy_artmap_model.prepare_data(X_train_subset)\n",
        "    test_X_fuzzy_artmap  = fuzzy_artmap_model.prepare_data(X_test_subset)\n",
        "\n",
        "    fuzzy_artmap_model.fit(train_X_fuzzy_artmap, y_train_subset)\n",
        "    fuzzy_artmap_predictions = fuzzy_artmap_model.predict(test_X_fuzzy_artmap, y_test_subset)\n",
        "\n",
        "    return accuracy_score(y_test_subset,fuzzy_artmap_predictions)\n",
        "\n",
        "\n",
        "def generate_acc_matrix_fuzzyARTMAP(num_tasks, X_train_sorted, y_train_sorted, X_test_sorted, y_test_sorted, images):\n",
        "    train_subsets = []\n",
        "    test_subsets = []\n",
        "\n",
        "    acc_matrix = [[0 for _ in range(num_tasks)] for _ in range(num_tasks)]\n",
        "\n",
        "    for i in range(num_tasks):\n",
        "        for j in range(num_tasks):\n",
        "            # Classes até a i-ésima (inclusive)\n",
        "            train_classes = torch.arange(0, i + 1)\n",
        "\n",
        "            # Máscara de seleção para treino: todas as classes <= i\n",
        "            mask_train = torch.isin(y_train_sorted, train_classes)\n",
        "            X_train_subset = X_train_sorted[mask_train]\n",
        "            y_train_subset = y_train_sorted[mask_train]\n",
        "\n",
        "            # Máscara de seleção para teste: apenas a classe j\n",
        "            mask_test = (y_test_sorted == j)\n",
        "            X_test_subset = X_test_sorted[mask_test]\n",
        "            y_test_subset = y_test_sorted[mask_test]\n",
        "\n",
        "            # Armazena os subconjuntos (opcional)\n",
        "            train_subsets.append((X_train_subset, y_train_subset))\n",
        "            test_subsets.append((X_test_subset, y_test_subset))\n",
        "\n",
        "            if(images):\n",
        "                acc_matrix[i][j] = train_fuzzyARTMAP_images(\n",
        "                                    X_train_subset,\n",
        "                                    y_train_subset,  # não é usado na função\n",
        "                                    X_test_subset,\n",
        "                                    y_test_subset, \n",
        "                                    16 * 16)\n",
        "            else:\n",
        "                acc_matrix[i][j] = train_fuzzyARTMAP(\n",
        "                                    X_train_subset,\n",
        "                                    y_train_subset,  # não é usado na função\n",
        "                                    X_test_subset,\n",
        "                                    y_test_subset)\n",
        "    return acc_matrix"
      ]
    },
    {
      "cell_type": "markdown",
      "metadata": {
        "id": "kjGNh0Sp3-GK"
      },
      "source": [
        "## Baixando e ordenando dados"
      ]
    },
    {
      "cell_type": "code",
      "execution_count": 4,
      "metadata": {
        "colab": {
          "base_uri": "https://localhost:8080/"
        },
        "id": "2SA-8QXLzusy",
        "outputId": "d0c55269-5a9d-416e-c42f-213c70730611"
      },
      "outputs": [
        {
          "name": "stderr",
          "output_type": "stream",
          "text": [
            "100%|██████████| 6.58M/6.58M [00:28<00:00, 231kB/s] \n",
            "100%|██████████| 1.83M/1.83M [00:07<00:00, 242kB/s] \n"
          ]
        },
        {
          "name": "stdout",
          "output_type": "stream",
          "text": [
            "(7291, 16, 16)\n"
          ]
        }
      ],
      "source": [
        "train_data = USPS(root='./USPS/', train=True, download=True)\n",
        "test_data = USPS(root='./USPS/', train=False, download=True)\n",
        "\n",
        "X_train = train_data.data\n",
        "y_train = torch.tensor(train_data.targets, dtype=torch.long)\n",
        "\n",
        "X_test = test_data.data\n",
        "y_test = torch.tensor(test_data.targets, dtype=torch.long)\n",
        "\n",
        "print(X_train.shape)\n",
        "\n",
        "# as imagens do conjunto são 16x16  \n",
        "n_dim = 16 * 16\n",
        "\n",
        "#flatten images\n",
        "X_train = X_train.reshape(-1, n_dim)\n",
        "X_test = X_test.reshape(-1, n_dim)\n",
        "\n",
        "# Ordenando dados\n",
        "sorted_indices_train = torch.argsort(y_train)\n",
        "X_train_sorted = X_train[sorted_indices_train]\n",
        "y_train_sorted = y_train[sorted_indices_train]\n",
        "\n",
        "sorted_indices_test = torch.argsort(y_test)\n",
        "X_test_sorted = X_test[sorted_indices_test]\n",
        "y_test_sorted = y_test[sorted_indices_test]"
      ]
    },
    {
      "cell_type": "code",
      "execution_count": 5,
      "metadata": {},
      "outputs": [
        {
          "name": "stdout",
          "output_type": "stream",
          "text": [
            "tensor([0, 1, 2, 3, 4, 5, 6, 7, 8, 9])\n",
            "tensor([0, 1, 2, 3, 4, 5, 6, 7, 8, 9])\n"
          ]
        },
        {
          "data": {
            "text/plain": [
              "tensor([0, 0, 0,  ..., 9, 9, 9])"
            ]
          },
          "execution_count": 5,
          "metadata": {},
          "output_type": "execute_result"
        }
      ],
      "source": [
        "print(y_train_sorted.unique())\n",
        "print(y_test_sorted.unique())\n",
        "\n",
        "y_train_sorted"
      ]
    },
    {
      "cell_type": "code",
      "execution_count": 6,
      "metadata": {},
      "outputs": [
        {
          "name": "stdout",
          "output_type": "stream",
          "text": [
            "tensor([0, 1, 2, 3, 4, 5, 6, 7, 8, 9])\n",
            "10\n"
          ]
        }
      ],
      "source": [
        "classes = y_train.unique()\n",
        "print(classes)\n",
        "num_tasks = len(classes)\n",
        "print(num_tasks)"
      ]
    },
    {
      "cell_type": "markdown",
      "metadata": {},
      "source": [
        "<font color=\"red\" oi>"
      ]
    },
    {
      "cell_type": "markdown",
      "metadata": {
        "id": "-3NYKMpe0zpo"
      },
      "source": [
        "## Fuzzy ARTMAP"
      ]
    },
    {
      "cell_type": "code",
      "execution_count": 7,
      "metadata": {
        "id": "d1G-Ak1o13w7"
      },
      "outputs": [],
      "source": [
        "fuzzy_artmap_model = FuzzyARTMAP(rho=0.3, alpha=0.0, beta=1.0)\n",
        "\n",
        "# Estabelecendo bounds\n",
        "lower_bounds = np.zeros(n_dim) ## Isso foi feito com base no exemplo que está no github da biblioteca\n",
        "upper_bounds = np.full(n_dim, 255.0)\n",
        "\n",
        "fuzzy_artmap_model.module_a.set_data_bounds(lower_bounds, upper_bounds)\n",
        "\n",
        "# Normalização e complement coding\n",
        "train_X_fuzzy_artmap = fuzzy_artmap_model.prepare_data(X_train)\n",
        "test_X_fuzzy_artmap = fuzzy_artmap_model.prepare_data(X_test)"
      ]
    },
    {
      "cell_type": "code",
      "execution_count": 8,
      "metadata": {
        "id": "DLiAJGJD_qU6"
      },
      "outputs": [],
      "source": [
        "fuzzy_artmap_model.fit(train_X_fuzzy_artmap, y_train)\n",
        "fuzzy_artmap_predictions = fuzzy_artmap_model.predict(test_X_fuzzy_artmap)"
      ]
    },
    {
      "cell_type": "code",
      "execution_count": 9,
      "metadata": {
        "id": "pqpTC7po_6Oa"
      },
      "outputs": [
        {
          "name": "stdout",
          "output_type": "stream",
          "text": [
            "\n",
            "Classification report:\n",
            "              precision    recall  f1-score   support\n",
            "\n",
            "           0       0.94      0.95      0.95       359\n",
            "           1       0.99      0.89      0.94       264\n",
            "           2       0.89      0.88      0.89       198\n",
            "           3       0.89      0.75      0.81       166\n",
            "           4       0.83      0.82      0.83       200\n",
            "           5       0.82      0.75      0.78       160\n",
            "           6       0.89      0.91      0.90       170\n",
            "           7       0.43      0.93      0.58       147\n",
            "           8       0.78      0.72      0.75       166\n",
            "           9       0.74      0.36      0.49       177\n",
            "\n",
            "    accuracy                           0.81      2007\n",
            "   macro avg       0.82      0.79      0.79      2007\n",
            "weighted avg       0.85      0.81      0.82      2007\n",
            "\n"
          ]
        },
        {
          "data": {
            "image/png": "[encoded data removed]",
            "text/plain": [
              "<Figure size 640x480 with 2 Axes>"
            ]
          },
          "metadata": {},
          "output_type": "display_data"
        }
      ],
      "source": [
        "report = classification_report(y_test, fuzzy_artmap_predictions)\n",
        "matrix = confusion_matrix(y_test, fuzzy_artmap_predictions)\n",
        "\n",
        "print(\"\\nClassification report:\")\n",
        "print(report)\n",
        "\n",
        "cm = confusion_matrix(y_test, fuzzy_artmap_predictions)\n",
        "display = ConfusionMatrixDisplay(confusion_matrix=cm)\n",
        "display.plot(cmap=plt.cm.Blues)\n",
        "plt.title(\"Matriz de Confusão - FuzzyARTMAP\")\n",
        "plt.show()"
      ]
    },
    {
      "cell_type": "markdown",
      "metadata": {},
      "source": [
        "Confundiu muito 7 e 9"
      ]
    },
    {
      "cell_type": "code",
      "execution_count": 10,
      "metadata": {},
      "outputs": [
        {
          "ename": "RuntimeError",
          "evalue": "Boolean value of Tensor with more than one value is ambiguous",
          "output_type": "error",
          "traceback": [
            "\u001b[0;31m---------------------------------------------------------------------------\u001b[0m",
            "\u001b[0;31mRuntimeError\u001b[0m                              Traceback (most recent call last)",
            "Cell \u001b[0;32mIn[10], line 1\u001b[0m\n\u001b[0;32m----> 1\u001b[0m acc_matrix \u001b[38;5;241m=\u001b[39m generate_acc_matrix_fuzzyARTMAP(num_tasks, X_train_sorted, y_train_sorted, \n\u001b[1;32m      2\u001b[0m                                             X_test_sorted, y_test_sorted, \u001b[38;5;241m1\u001b[39m)\n\u001b[1;32m      4\u001b[0m acc_matrix\n",
            "Cell \u001b[0;32mIn[3], line 59\u001b[0m, in \u001b[0;36mgenerate_acc_matrix_fuzzyARTMAP\u001b[0;34m(num_tasks, X_train_sorted, y_train_sorted, X_test_sorted, y_test_sorted, images)\u001b[0m\n\u001b[1;32m     56\u001b[0m test_subsets\u001b[38;5;241m.\u001b[39mappend((X_test_subset, y_test_subset))\n\u001b[1;32m     58\u001b[0m \u001b[38;5;28;01mif\u001b[39;00m(images):\n\u001b[0;32m---> 59\u001b[0m     acc_matrix[i][j] \u001b[38;5;241m=\u001b[39m train_fuzzyARTMAP_images(\n\u001b[1;32m     60\u001b[0m                         X_train_subset,\n\u001b[1;32m     61\u001b[0m                         y_train_subset,  \u001b[38;5;66;03m# não é usado na função\u001b[39;00m\n\u001b[1;32m     62\u001b[0m                         X_test_subset,\n\u001b[1;32m     63\u001b[0m                         y_test_subset, \n\u001b[1;32m     64\u001b[0m                         \u001b[38;5;241m16\u001b[39m \u001b[38;5;241m*\u001b[39m \u001b[38;5;241m16\u001b[39m)\n\u001b[1;32m     65\u001b[0m \u001b[38;5;28;01melse\u001b[39;00m:\n\u001b[1;32m     66\u001b[0m     acc_matrix[i][j] \u001b[38;5;241m=\u001b[39m train_fuzzyARTMAP(\n\u001b[1;32m     67\u001b[0m                         X_train_subset,\n\u001b[1;32m     68\u001b[0m                         y_train_subset,  \u001b[38;5;66;03m# não é usado na função\u001b[39;00m\n\u001b[1;32m     69\u001b[0m                         X_test_subset,\n\u001b[1;32m     70\u001b[0m                         y_test_subset)\n",
            "Cell \u001b[0;32mIn[3], line 13\u001b[0m, in \u001b[0;36mtrain_fuzzyARTMAP_images\u001b[0;34m(X_train_subset, y_train_subset, X_test_subset, y_test_subset, n_dim)\u001b[0m\n\u001b[1;32m     10\u001b[0m test_X_fuzzy_artmap  \u001b[38;5;241m=\u001b[39m fuzzy_artmap_model\u001b[38;5;241m.\u001b[39mprepare_data(X_test_subset)\n\u001b[1;32m     12\u001b[0m fuzzy_artmap_model\u001b[38;5;241m.\u001b[39mfit(train_X_fuzzy_artmap, y_train_subset)\n\u001b[0;32m---> 13\u001b[0m fuzzy_artmap_predictions \u001b[38;5;241m=\u001b[39m fuzzy_artmap_model\u001b[38;5;241m.\u001b[39mpredict(test_X_fuzzy_artmap, y_test_subset)\n\u001b[1;32m     15\u001b[0m \u001b[38;5;28;01mreturn\u001b[39;00m accuracy_score(y_test_subset,fuzzy_artmap_predictions)\n",
            "File \u001b[0;32m~/Downloads/anaconda3/lib/python3.12/site-packages/artlib/optimized/backends/cpp/FuzzyARTMAP.py:229\u001b[0m, in \u001b[0;36mFuzzyARTMAP.predict\u001b[0;34m(self, X, clip)\u001b[0m\n\u001b[1;32m    227\u001b[0m check_is_fitted(\u001b[38;5;28mself\u001b[39m)\n\u001b[1;32m    228\u001b[0m X_ \u001b[38;5;241m=\u001b[39m np\u001b[38;5;241m.\u001b[39mascontiguousarray(X, dtype\u001b[38;5;241m=\u001b[39mnp\u001b[38;5;241m.\u001b[39mfloat64)\n\u001b[0;32m--> 229\u001b[0m \u001b[38;5;28;01mif\u001b[39;00m clip:\n\u001b[1;32m    230\u001b[0m     X_ \u001b[38;5;241m=\u001b[39m np\u001b[38;5;241m.\u001b[39mclip(X_, \u001b[38;5;28mself\u001b[39m\u001b[38;5;241m.\u001b[39mmodule_a\u001b[38;5;241m.\u001b[39md_min_, \u001b[38;5;28mself\u001b[39m\u001b[38;5;241m.\u001b[39mmodule_a\u001b[38;5;241m.\u001b[39md_max_)\n\u001b[1;32m    231\u001b[0m \u001b[38;5;28mself\u001b[39m\u001b[38;5;241m.\u001b[39mmodule_a\u001b[38;5;241m.\u001b[39mvalidate_data(X_)\n",
            "\u001b[0;31mRuntimeError\u001b[0m: Boolean value of Tensor with more than one value is ambiguous"
          ]
        }
      ],
      "source": [
        "acc_matrix = generate_acc_matrix_fuzzyARTMAP(num_tasks, X_train_sorted, y_train_sorted, \n",
        "                                            X_test_sorted, y_test_sorted, 1)\n",
        "\n",
        "acc_matrix\n",
        "\n",
        "#print(f\"Forward transfer {forward_transfer(num_tasks, acc_matrix)}\")\n",
        "#print(f\"Backward transfer {backward_transfer(num_tasks, acc_matrix)}\")\n",
        "#print(f\"Average Accuracy {average_accuracy(num_tasks, acc_matrix)}\")\n",
        "\n"
      ]
    }
  ],
  "metadata": {
    "colab": {
      "collapsed_sections": [
        "6w4BE74LtjLR",
        "-3NYKMpe0zpo"
      ],
      "provenance": []
    },
    "kernelspec": {
      "display_name": "base",
      "language": "python",
      "name": "python3"
    },
    "language_info": {
      "codemirror_mode": {
        "name": "ipython",
        "version": 3
      },
      "file_extension": ".py",
      "mimetype": "text/x-python",
      "name": "python",
      "nbconvert_exporter": "python",
      "pygments_lexer": "ipython3",
      "version": "3.12.7"
    }
  },
  "nbformat": 4,
  "nbformat_minor": 0
}
