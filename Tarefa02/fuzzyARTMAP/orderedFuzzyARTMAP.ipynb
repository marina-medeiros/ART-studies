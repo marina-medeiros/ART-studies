{
  "cells": [
    {
      "cell_type": "markdown",
      "metadata": {
        "id": "08c869a5"
      },
      "source": [
        "# Fuzzy ARTMAP com classes ordenadas"
      ]
    },
    {
      "cell_type": "markdown",
      "metadata": {
        "id": "8eefe2b7"
      },
      "source": [
        "## Importando bibliotecas"
      ]
    },
    {
      "cell_type": "code",
      "execution_count": 41,
      "metadata": {
        "colab": {
          "base_uri": "https://localhost:8080/"
        },
        "collapsed": true,
        "id": "SIPZQd1aoIDf",
        "outputId": "9b9fa6d9-a80c-4378-a6ef-0fff5da12d5e"
      },
      "outputs": [
        {
          "name": "stdout",
          "output_type": "stream",
          "text": [
            "Requirement already satisfied: artlib in /home/marina/Downloads/anaconda3/lib/python3.12/site-packages (0.1.7)\n",
            "Note: you may need to restart the kernel to use updated packages.\n"
          ]
        }
      ],
      "source": [
        "%pip install artlib"
      ]
    },
    {
      "cell_type": "code",
      "execution_count": 42,
      "metadata": {
        "collapsed": true,
        "id": "10777266"
      },
      "outputs": [],
      "source": [
        "import torch\n",
        "from torchvision import datasets, transforms\n",
        "import torchvision.transforms as transforms\n",
        "from torchvision.datasets import USPS\n",
        "from artlib import FuzzyART, FuzzyARTMAP, FusionART\n",
        "from sklearn.metrics import classification_report, adjusted_rand_score, confusion_matrix, ConfusionMatrixDisplay\n",
        "import matplotlib.pyplot as plt\n",
        "import numpy as np\n",
        "import pandas as pd\n",
        "from sklearn.utils import resample\n",
        "from sklearn.preprocessing import StandardScaler\n",
        "from sklearn.model_selection import train_test_split\n",
        "from sklearn.metrics import accuracy_score"
      ]
    },
    {
      "cell_type": "markdown",
      "metadata": {},
      "source": [
        "## Métricas"
      ]
    },
    {
      "cell_type": "code",
      "execution_count": null,
      "metadata": {},
      "outputs": [],
      "source": [
        "def generate_acc_matrix_fuzzyARTMAP(num_tasks, X_train_sorted, y_train_sorted, X_test_sorted, y_test_sorted, images):\n",
        "    train_subsets = []\n",
        "    test_subsets = []\n",
        "\n",
        "    acc_matrix = [[0 for _ in range(num_tasks)] for _ in range(num_tasks)]\n",
        "\n",
        "    fuzzy_artmap_model = FuzzyARTMAP(rho=0.7 , alpha=0.0, beta=1.0)\n",
        "\n",
        "    if(images):\n",
        "        lower_bounds = np.zeros(16*16)\n",
        "        upper_bounds = np.full(16*16, 255.0)\n",
        "        fuzzy_artmap_model.module_a.set_data_bounds(lower_bounds, upper_bounds)\n",
        "    else:\n",
        "        X_combined = np.concatenate([X_train_subset, X_test_subset], axis=0)\n",
        "        lower_bound, upper_bound = fuzzy_artmap_model.find_data_bounds(X_combined)\n",
        "        fuzzy_artmap_model.module_a.set_data_bounds(lower_bound, upper_bound)\n",
        "\n",
        "    for i in range(num_tasks):\n",
        "        for j in range(num_tasks):\n",
        "            # Classes até a i-ésima (inclusive)\n",
        "            train_classes = torch.arange(0, i + 1)\n",
        "\n",
        "            # Máscara de seleção para treino: todas as classes <= i\n",
        "            mask_train = torch.isin(y_train_sorted, train_classes)\n",
        "            X_train_subset = X_train_sorted[mask_train]\n",
        "            y_train_subset = y_train_sorted[mask_train]\n",
        "\n",
        "            # Máscara de seleção para teste: apenas a classe j\n",
        "            mask_test = (y_test_sorted == j)\n",
        "            X_test_subset = X_test_sorted[mask_test]\n",
        "            y_test_subset = y_test_sorted[mask_test]\n",
        "\n",
        "            # Armazena os subconjuntos (opcional)\n",
        "            train_subsets.append((X_train_subset, y_train_subset))\n",
        "            test_subsets.append((X_test_subset, y_test_subset))\n",
        "\n",
        "            if X_train_subset.shape[0] == 0 or X_test_subset.shape[0] == 0:\n",
        "                print(\"Problema: subconjunto de dados vazio\")\n",
        "                acc_matrix[i][j] = 0.0\n",
        "                continue\n",
        "\n",
        "            train_X_fuzzy_artmap = fuzzy_artmap_model.prepare_data(X_train_subset)\n",
        "            test_X_fuzzy_artmap  = fuzzy_artmap_model.prepare_data(X_test_subset)\n",
        "        \n",
        "            fuzzy_artmap_model.partial_fit(train_X_fuzzy_artmap, y_train_subset)\n",
        "            fuzzy_artmap_predictions = fuzzy_artmap_model.predict(test_X_fuzzy_artmap)\n",
        "\n",
        "            acc_matrix[i][j] = accuracy_score(y_test_subset,fuzzy_artmap_predictions)\n",
        "\n",
        "    return acc_matrix"
      ]
    },
    {
      "cell_type": "code",
      "execution_count": 44,
      "metadata": {},
      "outputs": [],
      "source": [
        "def average_accuracy(num_tasks, acc_matrix):\n",
        "  denominator = num_tasks*(num_tasks+1)/2\n",
        "  acc_sum = 0\n",
        "\n",
        "  for i in range(num_tasks):\n",
        "    for j in range(i):\n",
        "      acc_sum += acc_matrix[i][j]\n",
        "\n",
        "  return (acc_sum / denominator)\n",
        "\n",
        "def backward_transfer(num_tasks, acc_matrix):\n",
        "  denominator = num_tasks*(num_tasks-1)/2\n",
        "  acc_sum = 0\n",
        "\n",
        "  for i in range(2, num_tasks):\n",
        "    for j in range(i-1):\n",
        "      acc_sum += (acc_matrix[i][j] - acc_matrix[j][j])\n",
        "\n",
        "  return (acc_sum / denominator)\n",
        "\n",
        "def forward_transfer(num_tasks, acc_matrix):\n",
        "  denominator = num_tasks*(num_tasks-1)/2\n",
        "  acc_sum = 0\n",
        "  j = 0\n",
        "\n",
        "  for i in range(j-1):\n",
        "    for j in range(2, num_tasks):\n",
        "      acc_sum = acc_sum + acc_matrix[i][j]\n",
        "\n",
        "  return (acc_sum / denominator)"
      ]
    },
    {
      "cell_type": "markdown",
      "metadata": {
        "id": "kjGNh0Sp3-GK"
      },
      "source": [
        "## Baixando e ordenando dados"
      ]
    },
    {
      "cell_type": "code",
      "execution_count": 45,
      "metadata": {
        "colab": {
          "base_uri": "https://localhost:8080/"
        },
        "id": "2SA-8QXLzusy",
        "outputId": "d0c55269-5a9d-416e-c42f-213c70730611"
      },
      "outputs": [
        {
          "name": "stdout",
          "output_type": "stream",
          "text": [
            "(7291, 16, 16)\n"
          ]
        }
      ],
      "source": [
        "train_data = USPS(root='./USPS/', train=True, download=True)\n",
        "test_data = USPS(root='./USPS/', train=False, download=True)\n",
        "\n",
        "X_train = train_data.data\n",
        "y_train = torch.tensor(train_data.targets, dtype=torch.long)\n",
        "\n",
        "X_test = test_data.data\n",
        "y_test = torch.tensor(test_data.targets, dtype=torch.long)\n",
        "\n",
        "print(X_train.shape)\n",
        "\n",
        "# as imagens do conjunto são 16x16  \n",
        "n_dim = 16 * 16\n",
        "\n",
        "#flatten images\n",
        "X_train = X_train.reshape(-1, n_dim)\n",
        "X_test = X_test.reshape(-1, n_dim)\n",
        "\n",
        "# Ordenando dados\n",
        "sorted_indices_train = torch.argsort(y_train)\n",
        "X_train_sorted = X_train[sorted_indices_train]\n",
        "y_train_sorted = y_train[sorted_indices_train]\n",
        "\n",
        "sorted_indices_test = torch.argsort(y_test)\n",
        "X_test_sorted = X_test[sorted_indices_test]\n",
        "y_test_sorted = y_test[sorted_indices_test]"
      ]
    },
    {
      "cell_type": "code",
      "execution_count": 46,
      "metadata": {},
      "outputs": [
        {
          "name": "stdout",
          "output_type": "stream",
          "text": [
            "tensor([0, 1, 2, 3, 4, 5, 6, 7, 8, 9])\n",
            "tensor([0, 1, 2, 3, 4, 5, 6, 7, 8, 9])\n"
          ]
        },
        {
          "data": {
            "text/plain": [
              "tensor([0, 0, 0,  ..., 9, 9, 9])"
            ]
          },
          "execution_count": 46,
          "metadata": {},
          "output_type": "execute_result"
        }
      ],
      "source": [
        "print(y_train_sorted.unique())\n",
        "print(y_test_sorted.unique())\n",
        "\n",
        "y_train_sorted"
      ]
    },
    {
      "cell_type": "code",
      "execution_count": 47,
      "metadata": {},
      "outputs": [
        {
          "name": "stdout",
          "output_type": "stream",
          "text": [
            "tensor([0, 1, 2, 3, 4, 5, 6, 7, 8, 9])\n",
            "10\n"
          ]
        }
      ],
      "source": [
        "classes = y_train.unique()\n",
        "print(classes)\n",
        "num_tasks = len(classes)\n",
        "print(num_tasks)"
      ]
    },
    {
      "cell_type": "markdown",
      "metadata": {
        "id": "-3NYKMpe0zpo"
      },
      "source": [
        "## Fuzzy ARTMAP"
      ]
    },
    {
      "cell_type": "code",
      "execution_count": 61,
      "metadata": {
        "id": "d1G-Ak1o13w7"
      },
      "outputs": [],
      "source": [
        "fuzzy_artmap_model = FuzzyARTMAP(rho=0.8, alpha=0.0, beta=1.0)\n",
        "\n",
        "# Estabelecendo bounds\n",
        "lower_bounds = np.zeros(n_dim) ## Isso foi feito com base no exemplo que está no github da biblioteca\n",
        "upper_bounds = np.full(n_dim, 255.0)\n",
        "\n",
        "fuzzy_artmap_model.module_a.set_data_bounds(lower_bounds, upper_bounds)\n",
        "\n",
        "# # Normalização e complement coding\n",
        "# train_X_fuzzy_artmap = fuzzy_artmap_model.prepare_data(X_train_sorted)\n",
        "# test_X_fuzzy_artmap = fuzzy_artmap_model.prepare_data(X_test_sorted)\n",
        "\n",
        "train_X_fuzzy_artmap = fuzzy_artmap_model.prepare_data(X_train)\n",
        "test_X_fuzzy_artmap = fuzzy_artmap_model.prepare_data(X_test)"
      ]
    },
    {
      "cell_type": "code",
      "execution_count": 62,
      "metadata": {
        "id": "DLiAJGJD_qU6"
      },
      "outputs": [],
      "source": [
        "fuzzy_artmap_model.fit(train_X_fuzzy_artmap, y_train)\n",
        "fuzzy_artmap_predictions = fuzzy_artmap_model.predict(test_X_fuzzy_artmap)"
      ]
    },
    {
      "cell_type": "code",
      "execution_count": 63,
      "metadata": {
        "id": "pqpTC7po_6Oa"
      },
      "outputs": [
        {
          "name": "stdout",
          "output_type": "stream",
          "text": [
            "\n",
            "Classification report:\n",
            "              precision    recall  f1-score   support\n",
            "\n",
            "           0       0.95      0.98      0.97       359\n",
            "           1       0.99      0.97      0.98       264\n",
            "           2       0.95      0.92      0.94       198\n",
            "           3       0.91      0.90      0.90       166\n",
            "           4       0.92      0.94      0.93       200\n",
            "           5       0.90      0.89      0.89       160\n",
            "           6       0.95      0.96      0.96       170\n",
            "           7       0.95      0.96      0.95       147\n",
            "           8       0.94      0.90      0.92       166\n",
            "           9       0.93      0.95      0.94       177\n",
            "\n",
            "    accuracy                           0.94      2007\n",
            "   macro avg       0.94      0.94      0.94      2007\n",
            "weighted avg       0.94      0.94      0.94      2007\n",
            "\n"
          ]
        },
        {
          "data": {
            "image/png": "[encoded data removed]",
            "text/plain": [
              "<Figure size 640x480 with 2 Axes>"
            ]
          },
          "metadata": {},
          "output_type": "display_data"
        }
      ],
      "source": [
        "report = classification_report(y_test, fuzzy_artmap_predictions)\n",
        "matrix = confusion_matrix(y_test, fuzzy_artmap_predictions)\n",
        "\n",
        "print(\"\\nClassification report:\")\n",
        "print(report)\n",
        "\n",
        "cm = confusion_matrix(y_test, fuzzy_artmap_predictions)\n",
        "display = ConfusionMatrixDisplay(confusion_matrix=cm)\n",
        "display.plot(cmap=plt.cm.Blues)\n",
        "plt.title(\"Matriz de Confusão - FuzzyARTMAP\")\n",
        "plt.show()"
      ]
    },
    {
      "cell_type": "markdown",
      "metadata": {},
      "source": [
        "Com um rho mais alto, o desempenho foi melhorando!"
      ]
    },
    {
      "cell_type": "markdown",
      "metadata": {},
      "source": [
        "## Testando função com métricas"
      ]
    },
    {
      "cell_type": "code",
      "execution_count": 51,
      "metadata": {},
      "outputs": [],
      "source": [
        "acc_matrix = generate_acc_matrix_fuzzyARTMAP(num_tasks, X_train_sorted, y_train_sorted, \n",
        "                                            X_test_sorted, y_test_sorted, 1)"
      ]
    },
    {
      "cell_type": "code",
      "execution_count": 52,
      "metadata": {},
      "outputs": [
        {
          "name": "stdout",
          "output_type": "stream",
          "text": [
            "[[1.0, 0.0, 0.0, 0.0, 0.0, 0.0, 0.0, 0.0, 0.0, 0.0], [0.9916434540389972, 0.9886363636363636, 0.0, 0.0, 0.0, 0.0, 0.0, 0.0, 0.0, 0.0], [0.9860724233983287, 0.9886363636363636, 0.9494949494949495, 0.0, 0.0, 0.0, 0.0, 0.0, 0.0, 0.0], [0.9860724233983287, 0.9886363636363636, 0.9393939393939394, 0.9397590361445783, 0.0, 0.0, 0.0, 0.0, 0.0, 0.0], [0.9860724233983287, 0.9810606060606061, 0.9343434343434344, 0.9397590361445783, 0.96, 0.0, 0.0, 0.0, 0.0, 0.0], [0.9860724233983287, 0.9810606060606061, 0.9343434343434344, 0.8795180722891566, 0.96, 0.8875, 0.0, 0.0, 0.0, 0.0], [0.9860724233983287, 0.9734848484848485, 0.9292929292929293, 0.8795180722891566, 0.955, 0.88125, 0.9411764705882353, 0.0, 0.0, 0.0], [0.9832869080779945, 0.9734848484848485, 0.9242424242424242, 0.8795180722891566, 0.94, 0.88125, 0.9411764705882353, 0.9455782312925171, 0.0, 0.0], [0.9832869080779945, 0.9734848484848485, 0.9242424242424242, 0.8674698795180723, 0.935, 0.88125, 0.9411764705882353, 0.9319727891156463, 0.8855421686746988, 0.0], [0.9832869080779945, 0.9734848484848485, 0.9242424242424242, 0.8614457831325302, 0.92, 0.85625, 0.9411764705882353, 0.8979591836734694, 0.8554216867469879, 0.9096045197740112]]\n"
          ]
        }
      ],
      "source": [
        "print(acc_matrix)"
      ]
    },
    {
      "cell_type": "code",
      "execution_count": 53,
      "metadata": {},
      "outputs": [
        {
          "name": "stdout",
          "output_type": "stream",
          "text": [
            "          0         1         2         3      4        5         6         7  \\\n",
            "0  1.000000  0.000000  0.000000  0.000000  0.000  0.00000  0.000000  0.000000   \n",
            "1  0.991643  0.988636  0.000000  0.000000  0.000  0.00000  0.000000  0.000000   \n",
            "2  0.986072  0.988636  0.949495  0.000000  0.000  0.00000  0.000000  0.000000   \n",
            "3  0.986072  0.988636  0.939394  0.939759  0.000  0.00000  0.000000  0.000000   \n",
            "4  0.986072  0.981061  0.934343  0.939759  0.960  0.00000  0.000000  0.000000   \n",
            "5  0.986072  0.981061  0.934343  0.879518  0.960  0.88750  0.000000  0.000000   \n",
            "6  0.986072  0.973485  0.929293  0.879518  0.955  0.88125  0.941176  0.000000   \n",
            "7  0.983287  0.973485  0.924242  0.879518  0.940  0.88125  0.941176  0.945578   \n",
            "8  0.983287  0.973485  0.924242  0.867470  0.935  0.88125  0.941176  0.931973   \n",
            "9  0.983287  0.973485  0.924242  0.861446  0.920  0.85625  0.941176  0.897959   \n",
            "\n",
            "          8         9  \n",
            "0  0.000000  0.000000  \n",
            "1  0.000000  0.000000  \n",
            "2  0.000000  0.000000  \n",
            "3  0.000000  0.000000  \n",
            "4  0.000000  0.000000  \n",
            "5  0.000000  0.000000  \n",
            "6  0.000000  0.000000  \n",
            "7  0.000000  0.000000  \n",
            "8  0.885542  0.000000  \n",
            "9  0.855422  0.909605  \n"
          ]
        }
      ],
      "source": [
        "acc_matrix_df = pd.DataFrame(acc_matrix)\n",
        "\n",
        "print(acc_matrix_df)"
      ]
    },
    {
      "cell_type": "code",
      "execution_count": 54,
      "metadata": {},
      "outputs": [
        {
          "name": "stdout",
          "output_type": "stream",
          "text": [
            "Forward transfer: 0.000000\n",
            "Backward transfer: -0.018544\n",
            "Average Accuracy: 0.768026\n"
          ]
        }
      ],
      "source": [
        "print(f\"Forward transfer: {forward_transfer(num_tasks, acc_matrix):.6f}\")\n",
        "print(f\"Backward transfer: {backward_transfer(num_tasks, acc_matrix):.6f}\")\n",
        "print(f\"Average Accuracy: {average_accuracy(num_tasks, acc_matrix):.6f}\")\n"
      ]
    }
  ],
  "metadata": {
    "colab": {
      "collapsed_sections": [
        "6w4BE74LtjLR",
        "-3NYKMpe0zpo"
      ],
      "provenance": []
    },
    "kernelspec": {
      "display_name": "base",
      "language": "python",
      "name": "python3"
    },
    "language_info": {
      "codemirror_mode": {
        "name": "ipython",
        "version": 3
      },
      "file_extension": ".py",
      "mimetype": "text/x-python",
      "name": "python",
      "nbconvert_exporter": "python",
      "pygments_lexer": "ipython3",
      "version": "3.12.7"
    }
  },
  "nbformat": 4,
  "nbformat_minor": 0
}
