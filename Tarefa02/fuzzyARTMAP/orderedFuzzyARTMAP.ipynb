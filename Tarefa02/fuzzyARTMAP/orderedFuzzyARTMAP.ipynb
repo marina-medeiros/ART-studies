{
  "cells": [
    {
      "cell_type": "markdown",
      "metadata": {
        "id": "08c869a5"
      },
      "source": [
        "# Fuzzy ARTMAP com classes ordenadas"
      ]
    },
    {
      "cell_type": "markdown",
      "metadata": {
        "id": "8eefe2b7"
      },
      "source": [
        "## Importando bibliotecas"
      ]
    },
    {
      "cell_type": "code",
      "execution_count": 52,
      "metadata": {
        "colab": {
          "base_uri": "https://localhost:8080/"
        },
        "collapsed": true,
        "id": "SIPZQd1aoIDf",
        "outputId": "9b9fa6d9-a80c-4378-a6ef-0fff5da12d5e"
      },
      "outputs": [
        {
          "name": "stdout",
          "output_type": "stream",
          "text": [
            "Requirement already satisfied: artlib in /home/marina/Downloads/anaconda3/lib/python3.12/site-packages (0.1.7)\n",
            "Note: you may need to restart the kernel to use updated packages.\n"
          ]
        }
      ],
      "source": [
        "%pip install artlib"
      ]
    },
    {
      "cell_type": "code",
      "execution_count": 53,
      "metadata": {
        "collapsed": true,
        "id": "10777266"
      },
      "outputs": [],
      "source": [
        "import torch\n",
        "from torchvision import datasets, transforms\n",
        "import torchvision.transforms as transforms\n",
        "from torchvision.datasets import USPS\n",
        "from artlib import FuzzyART, FuzzyARTMAP, FusionART\n",
        "from sklearn.metrics import classification_report, adjusted_rand_score, confusion_matrix, ConfusionMatrixDisplay\n",
        "import matplotlib.pyplot as plt\n",
        "import numpy as np\n",
        "import pandas as pd\n",
        "from sklearn.utils import resample\n",
        "from sklearn.preprocessing import StandardScaler\n",
        "from sklearn.model_selection import train_test_split\n",
        "from sklearn.metrics import accuracy_score"
      ]
    },
    {
      "cell_type": "markdown",
      "metadata": {},
      "source": [
        "## Métricas"
      ]
    },
    {
      "cell_type": "code",
      "execution_count": 54,
      "metadata": {},
      "outputs": [],
      "source": [
        "# # Os limites são calculados de forma diferente quando se trata de imagens\n",
        "def train_fuzzyARTMAP_images(X_train_subset, y_train_subset, X_test_subset, y_test_subset, n_dim):\n",
        "    fuzzy_artmap_model = FuzzyARTMAP(rho=0.3, alpha=0.0, beta=1.0)\n",
        "\n",
        "    # 🔧 Conversão para numpy\n",
        "    X_train_subset = X_train_subset.numpy() if isinstance(X_train_subset, torch.Tensor) else X_train_subset\n",
        "    y_train_subset = y_train_subset.numpy() if isinstance(y_train_subset, torch.Tensor) else y_train_subset\n",
        "    X_test_subset = X_test_subset.numpy() if isinstance(X_test_subset, torch.Tensor) else X_test_subset\n",
        "    y_test_subset = y_test_subset.numpy() if isinstance(y_test_subset, torch.Tensor) else y_test_subset\n",
        "\n",
        "\n",
        "    lower_bounds = np.zeros(n_dim)\n",
        "    upper_bounds = np.full(n_dim, 255.0)\n",
        "    fuzzy_artmap_model.module_a.set_data_bounds(lower_bounds, upper_bounds)\n",
        "\n",
        "    train_X_fuzzy_artmap = fuzzy_artmap_model.prepare_data(X_train_subset)\n",
        "    test_X_fuzzy_artmap  = fuzzy_artmap_model.prepare_data(X_test_subset)\n",
        "\n",
        "    fuzzy_artmap_model.partial_fit(train_X_fuzzy_artmap, y_train_subset)\n",
        "    fuzzy_artmap_predictions = fuzzy_artmap_model.predict(test_X_fuzzy_artmap)\n",
        "\n",
        "    return accuracy_score(y_test_subset,fuzzy_artmap_predictions)\n",
        "\n",
        "def train_fuzzyARTMAP(X_train_subset, y_train_subset, X_test_subset, y_test_subset):\n",
        "    fuzzy_artmap_model = FuzzyARTMAP(rho=0.3, alpha=0.0, beta=1.0)\n",
        "\n",
        "    X_combined = np.concatenate([X_train_subset, X_test_subset], axis=0)\n",
        "    lower_bound, upper_bound = fuzzy_artmap_model.find_data_bounds(X_combined)\n",
        "    fuzzy_artmap_model.module_a.set_data_bounds(lower_bound, upper_bound)\n",
        "\n",
        "    train_X_fuzzy_artmap = fuzzy_artmap_model.prepare_data(X_train_subset)\n",
        "    test_X_fuzzy_artmap  = fuzzy_artmap_model.prepare_data(X_test_subset)\n",
        "\n",
        "    fuzzy_artmap_model.partial_fit(train_X_fuzzy_artmap, y_train_subset)\n",
        "    fuzzy_artmap_predictions = fuzzy_artmap_model.predict(test_X_fuzzy_artmap)\n",
        "\n",
        "    return accuracy_score(y_test_subset,fuzzy_artmap_predictions)\n",
        "\n",
        "\n",
        "def generate_acc_matrix_fuzzyARTMAP(num_tasks, X_train_sorted, y_train_sorted, X_test_sorted, y_test_sorted, images):\n",
        "    train_subsets = []\n",
        "    test_subsets = []\n",
        "\n",
        "    acc_matrix = [[0 for _ in range(num_tasks)] for _ in range(num_tasks)]\n",
        "\n",
        "    for i in range(num_tasks):\n",
        "        for j in range(num_tasks):\n",
        "            # Classes até a i-ésima (inclusive)\n",
        "            train_classes = torch.arange(0, i + 1)\n",
        "\n",
        "            # Máscara de seleção para treino: todas as classes <= i\n",
        "            mask_train = torch.isin(y_train_sorted, train_classes)\n",
        "            X_train_subset = X_train_sorted[mask_train]\n",
        "            y_train_subset = y_train_sorted[mask_train]\n",
        "\n",
        "            # Máscara de seleção para teste: apenas a classe j\n",
        "            mask_test = (y_test_sorted == j)\n",
        "            X_test_subset = X_test_sorted[mask_test]\n",
        "            y_test_subset = y_test_sorted[mask_test]\n",
        "\n",
        "            # Armazena os subconjuntos (opcional)\n",
        "            train_subsets.append((X_train_subset, y_train_subset))\n",
        "            test_subsets.append((X_test_subset, y_test_subset))\n",
        "\n",
        "            if X_train_subset.shape[0] == 0 or X_test_subset.shape[0] == 0:\n",
        "                acc_matrix[i][j] = 0.0 # ou 0.0, dependendo do que quiser preencher\n",
        "                continue\n",
        "\n",
        "            if(images):\n",
        "                acc_matrix[i][j] = train_fuzzyARTMAP_images(\n",
        "                                    X_train_subset,\n",
        "                                    y_train_subset,  # não é usado na função\n",
        "                                    X_test_subset,\n",
        "                                    y_test_subset, \n",
        "                                    16 * 16)\n",
        "            else:\n",
        "                acc_matrix[i][j] = train_fuzzyARTMAP(\n",
        "                                    X_train_subset,\n",
        "                                    y_train_subset,  # não é usado na função\n",
        "                                    X_test_subset,\n",
        "                                    y_test_subset)\n",
        "    return acc_matrix"
      ]
    },
    {
      "cell_type": "markdown",
      "metadata": {
        "id": "kjGNh0Sp3-GK"
      },
      "source": [
        "## Baixando e ordenando dados"
      ]
    },
    {
      "cell_type": "code",
      "execution_count": 55,
      "metadata": {
        "colab": {
          "base_uri": "https://localhost:8080/"
        },
        "id": "2SA-8QXLzusy",
        "outputId": "d0c55269-5a9d-416e-c42f-213c70730611"
      },
      "outputs": [
        {
          "name": "stdout",
          "output_type": "stream",
          "text": [
            "(7291, 16, 16)\n"
          ]
        }
      ],
      "source": [
        "train_data = USPS(root='./USPS/', train=True, download=True)\n",
        "test_data = USPS(root='./USPS/', train=False, download=True)\n",
        "\n",
        "X_train = train_data.data\n",
        "y_train = torch.tensor(train_data.targets, dtype=torch.long)\n",
        "\n",
        "X_test = test_data.data\n",
        "y_test = torch.tensor(test_data.targets, dtype=torch.long)\n",
        "\n",
        "print(X_train.shape)\n",
        "\n",
        "# as imagens do conjunto são 16x16  \n",
        "n_dim = 16 * 16\n",
        "\n",
        "#flatten images\n",
        "X_train = X_train.reshape(-1, n_dim)\n",
        "X_test = X_test.reshape(-1, n_dim)\n",
        "\n",
        "# Ordenando dados\n",
        "sorted_indices_train = torch.argsort(y_train)\n",
        "X_train_sorted = X_train[sorted_indices_train]\n",
        "y_train_sorted = y_train[sorted_indices_train]\n",
        "\n",
        "sorted_indices_test = torch.argsort(y_test)\n",
        "X_test_sorted = X_test[sorted_indices_test]\n",
        "y_test_sorted = y_test[sorted_indices_test]"
      ]
    },
    {
      "cell_type": "code",
      "execution_count": 56,
      "metadata": {},
      "outputs": [
        {
          "name": "stdout",
          "output_type": "stream",
          "text": [
            "tensor([0, 1, 2, 3, 4, 5, 6, 7, 8, 9])\n",
            "tensor([0, 1, 2, 3, 4, 5, 6, 7, 8, 9])\n"
          ]
        },
        {
          "data": {
            "text/plain": [
              "tensor([0, 0, 0,  ..., 9, 9, 9])"
            ]
          },
          "execution_count": 56,
          "metadata": {},
          "output_type": "execute_result"
        }
      ],
      "source": [
        "print(y_train_sorted.unique())\n",
        "print(y_test_sorted.unique())\n",
        "\n",
        "y_train_sorted"
      ]
    },
    {
      "cell_type": "code",
      "execution_count": 57,
      "metadata": {},
      "outputs": [
        {
          "name": "stdout",
          "output_type": "stream",
          "text": [
            "tensor([0, 1, 2, 3, 4, 5, 6, 7, 8, 9])\n",
            "10\n"
          ]
        }
      ],
      "source": [
        "classes = y_train.unique()\n",
        "print(classes)\n",
        "num_tasks = len(classes)\n",
        "print(num_tasks)"
      ]
    },
    {
      "cell_type": "markdown",
      "metadata": {},
      "source": [
        "<font color=\"red\" oi>"
      ]
    },
    {
      "cell_type": "markdown",
      "metadata": {
        "id": "-3NYKMpe0zpo"
      },
      "source": [
        "## Fuzzy ARTMAP"
      ]
    },
    {
      "cell_type": "code",
      "execution_count": 58,
      "metadata": {
        "id": "d1G-Ak1o13w7"
      },
      "outputs": [],
      "source": [
        "fuzzy_artmap_model = FuzzyARTMAP(rho=0.3, alpha=0.0, beta=1.0)\n",
        "\n",
        "# Estabelecendo bounds\n",
        "lower_bounds = np.zeros(n_dim) ## Isso foi feito com base no exemplo que está no github da biblioteca\n",
        "upper_bounds = np.full(n_dim, 255.0)\n",
        "\n",
        "fuzzy_artmap_model.module_a.set_data_bounds(lower_bounds, upper_bounds)\n",
        "\n",
        "# Normalização e complement coding\n",
        "train_X_fuzzy_artmap = fuzzy_artmap_model.prepare_data(X_train_sorted)\n",
        "test_X_fuzzy_artmap = fuzzy_artmap_model.prepare_data(X_test_sorted)"
      ]
    },
    {
      "cell_type": "code",
      "execution_count": 59,
      "metadata": {
        "id": "DLiAJGJD_qU6"
      },
      "outputs": [],
      "source": [
        "fuzzy_artmap_model.partial_fit(train_X_fuzzy_artmap, y_train)\n",
        "fuzzy_artmap_predictions = fuzzy_artmap_model.predict(test_X_fuzzy_artmap)"
      ]
    },
    {
      "cell_type": "code",
      "execution_count": 60,
      "metadata": {
        "id": "pqpTC7po_6Oa"
      },
      "outputs": [
        {
          "name": "stdout",
          "output_type": "stream",
          "text": [
            "\n",
            "Classification report:\n",
            "              precision    recall  f1-score   support\n",
            "\n",
            "           0       0.18      0.30      0.22       359\n",
            "           1       0.15      0.30      0.20       264\n",
            "           2       0.15      0.11      0.13       198\n",
            "           3       0.06      0.04      0.05       166\n",
            "           4       0.07      0.06      0.06       200\n",
            "           5       0.07      0.03      0.04       160\n",
            "           6       0.06      0.04      0.04       170\n",
            "           7       0.10      0.14      0.12       147\n",
            "           8       0.02      0.01      0.01       166\n",
            "           9       0.02      0.01      0.01       177\n",
            "\n",
            "    accuracy                           0.13      2007\n",
            "   macro avg       0.09      0.10      0.09      2007\n",
            "weighted avg       0.10      0.13      0.11      2007\n",
            "\n"
          ]
        },
        {
          "data": {
            "image/png": "[encoded data removed]",
            "text/plain": [
              "<Figure size 640x480 with 2 Axes>"
            ]
          },
          "metadata": {},
          "output_type": "display_data"
        }
      ],
      "source": [
        "report = classification_report(y_test, fuzzy_artmap_predictions)\n",
        "matrix = confusion_matrix(y_test, fuzzy_artmap_predictions)\n",
        "\n",
        "print(\"\\nClassification report:\")\n",
        "print(report)\n",
        "\n",
        "cm = confusion_matrix(y_test, fuzzy_artmap_predictions)\n",
        "display = ConfusionMatrixDisplay(confusion_matrix=cm)\n",
        "display.plot(cmap=plt.cm.Blues)\n",
        "plt.title(\"Matriz de Confusão - FuzzyARTMAP\")\n",
        "plt.show()"
      ]
    },
    {
      "cell_type": "markdown",
      "metadata": {},
      "source": [
        "Confundiu muito 7 e 9"
      ]
    },
    {
      "cell_type": "code",
      "execution_count": 61,
      "metadata": {},
      "outputs": [],
      "source": [
        "acc_matrix = generate_acc_matrix_fuzzyARTMAP(num_tasks, X_train_sorted, y_train_sorted, \n",
        "                                            X_test_sorted, y_test_sorted, 1)\n"
      ]
    },
    {
      "cell_type": "code",
      "execution_count": 63,
      "metadata": {},
      "outputs": [
        {
          "name": "stdout",
          "output_type": "stream",
          "text": [
            "[[1.0, 0.0, 0.0, 0.0, 0.0, 0.0, 0.0, 0.0, 0.0, 0.0], [0.9944289693593314, 0.9886363636363636, 0.0, 0.0, 0.0, 0.0, 0.0, 0.0, 0.0, 0.0], [0.9749303621169917, 0.9734848484848485, 0.9393939393939394, 0.0, 0.0, 0.0, 0.0, 0.0, 0.0, 0.0], [0.9693593314763231, 0.9734848484848485, 0.9292929292929293, 0.927710843373494, 0.0, 0.0, 0.0, 0.0, 0.0, 0.0], [0.9610027855153204, 0.9583333333333334, 0.9040404040404041, 0.9096385542168675, 0.945, 0.0, 0.0, 0.0, 0.0, 0.0], [0.958217270194986, 0.9583333333333334, 0.9040404040404041, 0.8072289156626506, 0.945, 0.875, 0.0, 0.0, 0.0, 0.0], [0.9498607242339833, 0.9545454545454546, 0.8939393939393939, 0.8072289156626506, 0.915, 0.85, 0.9176470588235294, 0.0, 0.0, 0.0], [0.947075208913649, 0.9507575757575758, 0.8838383838383839, 0.7831325301204819, 0.87, 0.83125, 0.9176470588235294, 0.9319727891156463, 0.0, 0.0], [0.9442896935933147, 0.9507575757575758, 0.8787878787878788, 0.7650602409638554, 0.86, 0.80625, 0.8941176470588236, 0.9251700680272109, 0.6807228915662651, 0.0], [0.9442896935933147, 0.9507575757575758, 0.8787878787878788, 0.7650602409638554, 0.835, 0.80625, 0.8941176470588236, 0.9047619047619048, 0.6566265060240963, 0.3728813559322034]]\n"
          ]
        }
      ],
      "source": [
        "print(acc_matrix)"
      ]
    },
    {
      "cell_type": "code",
      "execution_count": 64,
      "metadata": {},
      "outputs": [
        {
          "name": "stdout",
          "output_type": "stream",
          "text": [
            "          0         1         2         3      4        5         6         7  \\\n",
            "0  1.000000  0.000000  0.000000  0.000000  0.000  0.00000  0.000000  0.000000   \n",
            "1  0.994429  0.988636  0.000000  0.000000  0.000  0.00000  0.000000  0.000000   \n",
            "2  0.974930  0.973485  0.939394  0.000000  0.000  0.00000  0.000000  0.000000   \n",
            "3  0.969359  0.973485  0.929293  0.927711  0.000  0.00000  0.000000  0.000000   \n",
            "4  0.961003  0.958333  0.904040  0.909639  0.945  0.00000  0.000000  0.000000   \n",
            "5  0.958217  0.958333  0.904040  0.807229  0.945  0.87500  0.000000  0.000000   \n",
            "6  0.949861  0.954545  0.893939  0.807229  0.915  0.85000  0.917647  0.000000   \n",
            "7  0.947075  0.950758  0.883838  0.783133  0.870  0.83125  0.917647  0.931973   \n",
            "8  0.944290  0.950758  0.878788  0.765060  0.860  0.80625  0.894118  0.925170   \n",
            "9  0.944290  0.950758  0.878788  0.765060  0.835  0.80625  0.894118  0.904762   \n",
            "\n",
            "          8         9  \n",
            "0  0.000000  0.000000  \n",
            "1  0.000000  0.000000  \n",
            "2  0.000000  0.000000  \n",
            "3  0.000000  0.000000  \n",
            "4  0.000000  0.000000  \n",
            "5  0.000000  0.000000  \n",
            "6  0.000000  0.000000  \n",
            "7  0.000000  0.000000  \n",
            "8  0.680723  0.000000  \n",
            "9  0.656627  0.372881  \n"
          ]
        }
      ],
      "source": [
        "acc_matrix_df = pd.DataFrame(acc_matrix)\n",
        "\n",
        "print(acc_matrix_df)"
      ]
    },
    {
      "cell_type": "code",
      "execution_count": null,
      "metadata": {},
      "outputs": [],
      "source": []
    }
  ],
  "metadata": {
    "colab": {
      "collapsed_sections": [
        "6w4BE74LtjLR",
        "-3NYKMpe0zpo"
      ],
      "provenance": []
    },
    "kernelspec": {
      "display_name": "base",
      "language": "python",
      "name": "python3"
    },
    "language_info": {
      "codemirror_mode": {
        "name": "ipython",
        "version": 3
      },
      "file_extension": ".py",
      "mimetype": "text/x-python",
      "name": "python",
      "nbconvert_exporter": "python",
      "pygments_lexer": "ipython3",
      "version": "3.12.7"
    }
  },
  "nbformat": 4,
  "nbformat_minor": 0
}
