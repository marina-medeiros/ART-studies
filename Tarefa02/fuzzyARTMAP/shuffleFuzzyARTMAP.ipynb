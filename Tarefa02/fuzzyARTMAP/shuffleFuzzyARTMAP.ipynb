{
 "cells": [
  {
   "cell_type": "markdown",
   "id": "e0067722",
   "metadata": {},
   "source": [
    "# Fuzzy ARTMAP com dados embaralhados"
   ]
  },
  {
   "cell_type": "markdown",
   "id": "a6ab984c",
   "metadata": {},
   "source": [
    "Esse modelo é formado por duas módulos de FuzzyART.\n",
    "\n",
    "O aprendizado feito é supervisionado.\n",
    "\n",
    "Aqui, embaralharemos os dados e avaliaremos o modelo usando a métrica ACC.\n",
    "\n",
    "<font color=\"red\">Dúvida:</font>\n",
    "É possível usar a average accuracy mesmo com os dados embaralhados?"
   ]
  },
  {
   "cell_type": "markdown",
   "id": "ed4af2a5",
   "metadata": {},
   "source": [
    "## Importando bibliotecas"
   ]
  },
  {
   "cell_type": "code",
   "execution_count": 2,
   "id": "4d40f2f3",
   "metadata": {},
   "outputs": [],
   "source": [
    "from torchvision import datasets, transforms\n",
    "from sklearn.utils import shuffle\n",
    "from sklearn.model_selection import train_test_split\n",
    "import numpy as np\n",
    "import matplotlib.pyplot as plt\n",
    "from artlib import FuzzyARTMAP\n",
    "from sklearn.metrics import accuracy_score\n",
    "import pandas as pd"
   ]
  },
  {
   "cell_type": "markdown",
   "id": "2ec6cd89",
   "metadata": {},
   "source": [
    "## Baixando base de dados"
   ]
  },
  {
   "cell_type": "code",
   "execution_count": 3,
   "id": "4b806a4f",
   "metadata": {},
   "outputs": [
    {
     "name": "stdout",
     "output_type": "stream",
     "text": [
      "(7291, 256) (7291,)\n"
     ]
    }
   ],
   "source": [
    "transform = transforms.ToTensor()\n",
    "dataset = datasets.USPS(root='./data', train=True, download=True, transform=transform)\n",
    "\n",
    "X = np.stack([img.numpy() for img, _ in dataset])\n",
    "y = np.array([label for _, label in dataset])\n",
    "\n",
    "# Achatar as imagens\n",
    "X = X.reshape(X.shape[0], -1)\n",
    "\n",
    "X, y = shuffle(X, y, random_state=42)\n",
    "X_train, X_test, y_train, y_test = train_test_split(X, y, test_size=0.4, random_state=0)\n",
    "\n",
    "print(X.shape, y.shape)"
   ]
  },
  {
   "cell_type": "markdown",
   "id": "ff29cb35",
   "metadata": {},
   "source": [
    "## Treinando o modelo"
   ]
  },
  {
   "cell_type": "code",
   "execution_count": 4,
   "id": "5bed1b92",
   "metadata": {},
   "outputs": [],
   "source": [
    "alphas = [0.0, 1e-1, 1.0] \n",
    "rhos   = [0.1, 0.5, 0.9]\n",
    "betas  = [1.0]\n",
    "\n",
    "results = []\n",
    "\n",
    "for alpha in alphas:\n",
    "    for rho in rhos:\n",
    "        for beta in betas:\n",
    "\n",
    "            model = FuzzyARTMAP(rho=rho, alpha=alpha, beta=beta)\n",
    "            \n",
    "            lower_bound, upper_bound = (model.module_a).find_data_bounds(X)\n",
    "            model.module_a.set_data_bounds(lower_bound, upper_bound)\n",
    "\n",
    "            # Preparar os dados (normalizados internamente pelo modelo)\n",
    "            train_X_prep = model.prepare_data(X_train)\n",
    "            test_X_prep  = model.prepare_data(X_test)\n",
    "\n",
    "            # Treinar\n",
    "            model.fit(train_X_prep, y_train)\n",
    "\n",
    "            # Prever\n",
    "            predictions = model.predict(test_X_prep)\n",
    "\n",
    "            # Calcular accuracy\n",
    "            acc = accuracy_score(y_test, predictions)\n",
    "\n",
    "            results.append({\n",
    "                'alpha': alpha,\n",
    "                'rho': rho,\n",
    "                'beta': beta,\n",
    "                'accuracy': acc\n",
    "            })\n",
    "\n",
    "\n",
    "df_results = pd.DataFrame(results)\n",
    "worst_results = df_results.sort_values(by='accuracy', ascending=True).head(10)\n",
    "best_results = df_results.sort_values(by='accuracy', ascending=True).tail(10)\n"
   ]
  },
  {
   "cell_type": "code",
   "execution_count": 6,
   "id": "706fe633",
   "metadata": {},
   "outputs": [
    {
     "name": "stdout",
     "output_type": "stream",
     "text": [
      "10 melhores combinações:\n",
      "   alpha  rho  beta  accuracy\n",
      "0    0.0  0.1   1.0  0.787796\n",
      "6    1.0  0.1   1.0  0.869729\n",
      "3    0.1  0.1   1.0  0.873157\n",
      "7    1.0  0.5   1.0  0.940007\n",
      "4    0.1  0.5   1.0  0.940692\n",
      "1    0.0  0.5   1.0  0.942407\n",
      "2    0.0  0.9   1.0  0.958176\n",
      "5    0.1  0.9   1.0  0.958176\n",
      "8    1.0  0.9   1.0  0.958176\n",
      "10 piores combinações:\n",
      "   alpha  rho  beta  accuracy\n",
      "0    0.0  0.1   1.0  0.787796\n",
      "6    1.0  0.1   1.0  0.869729\n",
      "3    0.1  0.1   1.0  0.873157\n",
      "7    1.0  0.5   1.0  0.940007\n",
      "4    0.1  0.5   1.0  0.940692\n",
      "1    0.0  0.5   1.0  0.942407\n",
      "2    0.0  0.9   1.0  0.958176\n",
      "5    0.1  0.9   1.0  0.958176\n",
      "8    1.0  0.9   1.0  0.958176\n"
     ]
    }
   ],
   "source": [
    "print(\"10 melhores combinações:\")\n",
    "print(best_results)\n",
    "\n",
    "print(\"10 piores combinações:\")\n",
    "print(worst_results)"
   ]
  }
 ],
 "metadata": {
  "kernelspec": {
   "display_name": "base",
   "language": "python",
   "name": "python3"
  },
  "language_info": {
   "codemirror_mode": {
    "name": "ipython",
    "version": 3
   },
   "file_extension": ".py",
   "mimetype": "text/x-python",
   "name": "python",
   "nbconvert_exporter": "python",
   "pygments_lexer": "ipython3",
   "version": "3.12.7"
  }
 },
 "nbformat": 4,
 "nbformat_minor": 5
}
