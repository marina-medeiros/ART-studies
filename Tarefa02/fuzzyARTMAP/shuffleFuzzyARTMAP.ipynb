{
 "cells": [
  {
   "cell_type": "markdown",
   "id": "e0067722",
   "metadata": {},
   "source": [
    "# Fuzzy ARTMAP com dados embaralhados"
   ]
  },
  {
   "cell_type": "markdown",
   "id": "a6ab984c",
   "metadata": {},
   "source": [
    "Esse modelo é formado por duas módulos de FuzzyART.\n",
    "\n",
    "O aprendizado feito é supervisionado.\n",
    "\n",
    "Aqui, embaralharemos os dados e avaliaremos o modelo usando a métrica ACC.\n",
    "\n",
    "<font color=\"red\">Dúvida:</font>\n",
    "É possível usar a average accuracy mesmo com os dados embaralhados?"
   ]
  },
  {
   "cell_type": "markdown",
   "id": "ed4af2a5",
   "metadata": {},
   "source": [
    "## Importando bibliotecas"
   ]
  },
  {
   "cell_type": "code",
   "execution_count": 4,
   "id": "4d40f2f3",
   "metadata": {},
   "outputs": [],
   "source": [
    "from torchvision import datasets, transforms\n",
    "from sklearn.utils import shuffle\n",
    "import numpy as np\n",
    "from sklearn.model_selection import train_test_split\n",
    "import matplotlib.pyplot as plt\n",
    "from artlib import FuzzyART\n",
    "from sklearn.metrics import accuracy_score\n",
    "from sklearn.metrics.cluster import adjusted_rand_score\n",
    "import pandas as pd"
   ]
  },
  {
   "cell_type": "markdown",
   "id": "2ec6cd89",
   "metadata": {},
   "source": [
    "## Baixando base de dados"
   ]
  },
  {
   "cell_type": "code",
   "execution_count": 5,
   "id": "4b806a4f",
   "metadata": {},
   "outputs": [
    {
     "name": "stdout",
     "output_type": "stream",
     "text": [
      "(7291, 1, 16, 16) (7291,)\n"
     ]
    }
   ],
   "source": [
    "transform = transforms.ToTensor()\n",
    "dataset = datasets.USPS(root='./data', train=True, download=True, transform=transform)\n",
    "\n",
    "X = np.stack([img.numpy() for img, _ in dataset])\n",
    "y = np.array([label for _, label in dataset])\n",
    "\n",
    "X, y = shuffle(X, y, random_state=42)\n",
    "\n",
    "print(X.shape, y.shape)"
   ]
  },
  {
   "cell_type": "code",
   "execution_count": 6,
   "id": "d068194a",
   "metadata": {},
   "outputs": [],
   "source": [
    "X_train, X_test, y_train, y_test = train_test_split(X, y, test_size=0.4, random_state=0)"
   ]
  },
  {
   "cell_type": "markdown",
   "id": "ff29cb35",
   "metadata": {},
   "source": [
    "## Treinando o modelo"
   ]
  },
  {
   "cell_type": "code",
   "execution_count": null,
   "id": "5bed1b92",
   "metadata": {},
   "outputs": [],
   "source": [
    "alphas = [1e-6, 1e-3, 1e-2, 1e-1, 1.0, 10.0] \n",
    "rhos   = [0.1, 0.3, 0.5, 0.7, 0.9]\n",
    "betas  = [1.0, 0.5, 0.1]\n",
    "\n",
    "results = []\n",
    "\n",
    "for alpha in alphas:\n",
    "    for rho in rhos:\n",
    "        for beta in betas:\n",
    "\n",
    "            model = FuzzyART(rho=rho, alpha=alpha, beta=beta)\n",
    "            \n",
    "            lower_bound, upper_bound = model.find_data_bounds(X)\n",
    "            model.set_data_bounds(lower_bound, upper_bound)\n",
    "\n",
    "            # Preparar os dados (normalizados internamente pelo modelo)\n",
    "            train_X_prep = model.prepare_data(X_train)\n",
    "            test_X_prep  = model.prepare_data(X_test)\n",
    "\n",
    "            # Treinar\n",
    "            model.fit(train_X_prep, y_train)\n",
    "\n",
    "            # Prever\n",
    "            predictions = model.predict(test_X_prep)\n",
    "\n",
    "            # Calcular accuracy\n",
    "            acc = accuracy_score(y_test, predictions)\n",
    "\n",
    "            results.append({\n",
    "                'alpha': alpha,\n",
    "                'rho': rho,\n",
    "                'beta': beta,\n",
    "                'accuracy': acc\n",
    "            })\n",
    "\n",
    "            #print(f\"alpha={alpha:.1e}, rho={rho}, beta={beta} → acc={acc:.3f}\")\n",
    "\n",
    "df_results = pd.DataFrame(results)\n",
    "best_results = df_results.sort_values(by='accuracy', ascending=False).head(10)\n"
   ]
  },
  {
   "cell_type": "code",
   "execution_count": 8,
   "id": "706fe633",
   "metadata": {},
   "outputs": [
    {
     "name": "stdout",
     "output_type": "stream",
     "text": [
      "10 melhores combinações:\n",
      "       alpha  rho  beta  accuracy\n",
      "42  0.010000  0.9   1.0  0.023564\n",
      "57  0.100000  0.9   1.0  0.000032\n",
      "0   0.000001  0.1   1.0  0.000000\n",
      "65  1.000000  0.3   0.1  0.000000\n",
      "64  1.000000  0.3   0.5  0.000000\n",
      "63  1.000000  0.3   1.0  0.000000\n",
      "62  1.000000  0.1   0.1  0.000000\n",
      "61  1.000000  0.1   0.5  0.000000\n",
      "60  1.000000  0.1   1.0  0.000000\n",
      "59  0.100000  0.9   0.1  0.000000\n"
     ]
    }
   ],
   "source": [
    "print(\"10 melhores combinações:\")\n",
    "print(best_results)"
   ]
  }
 ],
 "metadata": {
  "kernelspec": {
   "display_name": "base",
   "language": "python",
   "name": "python3"
  },
  "language_info": {
   "codemirror_mode": {
    "name": "ipython",
    "version": 3
   },
   "file_extension": ".py",
   "mimetype": "text/x-python",
   "name": "python",
   "nbconvert_exporter": "python",
   "pygments_lexer": "ipython3",
   "version": "3.12.7"
  }
 },
 "nbformat": 4,
 "nbformat_minor": 5
}
