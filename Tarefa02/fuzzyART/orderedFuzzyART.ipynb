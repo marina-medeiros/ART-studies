{
  "cells": [
    {
      "cell_type": "markdown",
      "metadata": {
        "id": "08c869a5"
      },
      "source": [
        "# Fuzzy ART com classes ordenadas"
      ]
    },
    {
      "cell_type": "markdown",
      "metadata": {
        "id": "8eefe2b7"
      },
      "source": [
        "## Importando bibliotecas"
      ]
    },
    {
      "cell_type": "code",
      "execution_count": 1,
      "metadata": {
        "colab": {
          "base_uri": "https://localhost:8080/"
        },
        "collapsed": true,
        "id": "SIPZQd1aoIDf",
        "outputId": "9b9fa6d9-a80c-4378-a6ef-0fff5da12d5e"
      },
      "outputs": [
        {
          "name": "stdout",
          "output_type": "stream",
          "text": [
            "Requirement already satisfied: artlib in /home/marina/Downloads/anaconda3/lib/python3.12/site-packages (0.1.7)\n",
            "Note: you may need to restart the kernel to use updated packages.\n"
          ]
        }
      ],
      "source": [
        "%pip install artlib"
      ]
    },
    {
      "cell_type": "code",
      "execution_count": 2,
      "metadata": {
        "collapsed": true,
        "id": "10777266"
      },
      "outputs": [],
      "source": [
        "import torch\n",
        "from torchvision import datasets, transforms\n",
        "import torchvision.transforms as transforms\n",
        "from torchvision.datasets import USPS\n",
        "from artlib import FuzzyART, FuzzyARTMAP, FusionART\n",
        "from sklearn.metrics import classification_report, adjusted_rand_score, confusion_matrix, ConfusionMatrixDisplay\n",
        "import matplotlib.pyplot as plt\n",
        "import numpy as np\n",
        "import pandas as pd\n",
        "from sklearn.utils import resample\n",
        "from pyclustertend import vat\n",
        "from sklearn.preprocessing import StandardScaler\n",
        "from sklearn.model_selection import train_test_split"
      ]
    },
    {
      "cell_type": "markdown",
      "metadata": {},
      "source": [
        "## Métricas"
      ]
    },
    {
      "cell_type": "code",
      "execution_count": 3,
      "metadata": {},
      "outputs": [],
      "source": [
        "# Os limites são calculados de forma diferente quando se trata de imagens\n",
        "def train_fuzzyART_images(X_train_subset, y_train_subset, X_test_subset, y_test_subset, n_dim):\n",
        "    fuzzy_art_model = FuzzyART(rho=0.3, alpha=0.0, beta=1.0)\n",
        "\n",
        "    lower_bounds = np.zeros(n_dim)\n",
        "    upper_bounds = np.full(n_dim, 255.0)\n",
        "    fuzzy_art_model.set_data_bounds(lower_bounds, upper_bounds)\n",
        "\n",
        "    train_X_fuzzy_art = fuzzy_art_model.prepare_data(X_train_subset)\n",
        "    test_X_fuzzy_art  = fuzzy_art_model.prepare_data(X_test_subset)\n",
        "\n",
        "    fuzzy_art_model.partial_fit(train_X_fuzzy_art)\n",
        "    fuzzy_art_predictions = fuzzy_art_model.predict(test_X_fuzzy_art)\n",
        "\n",
        "    return adjusted_rand_score(y_test_subset,fuzzy_art_predictions)\n",
        "\n",
        "\n",
        "def train_fuzzyART(X_train_subset, y_train_subset, X_test_subset, y_test_subset):\n",
        "    fuzzy_art_model = FuzzyART(rho=0.3, alpha=0.0, beta=1.0)\n",
        "\n",
        "    X_combined = np.concatenate([X_train_subset, X_test_subset], axis=0)\n",
        "    lower_bound, upper_bound = fuzzy_art_model.find_data_bounds(X_combined)\n",
        "    fuzzy_art_model.set_data_bounds(lower_bound, upper_bound)\n",
        "\n",
        "    train_X_fuzzy_art = fuzzy_art_model.prepare_data(X_train_subset)\n",
        "    test_X_fuzzy_art  = fuzzy_art_model.prepare_data(X_test_subset)\n",
        "\n",
        "    fuzzy_art_model.partial_fit(train_X_fuzzy_art)\n",
        "    fuzzy_art_predictions = fuzzy_art_model.predict(test_X_fuzzy_art)\n",
        "\n",
        "    return adjusted_rand_score(y_test_subset,fuzzy_art_predictions)\n",
        "\n",
        "\n",
        "def generate_acc_matrix_fuzzyART(num_tasks, X_train_sorted, y_train_sorted, X_test_sorted, y_test_sorted, images):\n",
        "    train_subsets = []\n",
        "    test_subsets = []\n",
        "\n",
        "    acc_matrix = [[0 for _ in range(num_tasks)] for _ in range(num_tasks)]\n",
        "\n",
        "    for i in range(num_tasks):\n",
        "        for j in range(num_tasks):\n",
        "            # Classes até a i-ésima (inclusive)\n",
        "            train_classes = torch.arange(0, i + 1)\n",
        "\n",
        "            # Máscara de seleção para treino: todas as classes <= i\n",
        "            mask_train = torch.isin(y_train_sorted, train_classes)\n",
        "            X_train_subset = X_train_sorted[mask_train]\n",
        "            y_train_subset = y_train_sorted[mask_train]\n",
        "\n",
        "            # Máscara de seleção para teste: apenas a classe j\n",
        "            mask_test = (y_test_sorted == j)\n",
        "            X_test_subset = X_test_sorted[mask_test]\n",
        "            y_test_subset = y_test_sorted[mask_test]\n",
        "\n",
        "            # Armazena os subconjuntos (opcional)\n",
        "            train_subsets.append((X_train_subset, y_train_subset))\n",
        "            test_subsets.append((X_test_subset, y_test_subset))\n",
        "\n",
        "            print(f\"Classes de treino: {torch.unique(y_train_subset)}\")\n",
        "            print(f\"Classes de teste: {torch.unique(y_test_subset)}\")\n",
        "            print(f\"Tarefa {i}, Teste classe {j}, Tamanho do treino: {len(X_train_subset)}, Tamanho do teste: {len(X_test_subset)}\")\n",
        "\n",
        "            if len(X_train_subset) == 0 or len(X_test_subset) == 0:\n",
        "                print(\"Problema: subconjunto de dados vazio\")\n",
        "                acc_matrix[i][j] = 0.0\n",
        "                continue\n",
        "\n",
        "            if(images):\n",
        "                acc_matrix[i][j] = train_fuzzyART_images(\n",
        "                                    X_train_subset,\n",
        "                                    y_train_subset,  # não é usado na função\n",
        "                                    X_test_subset,\n",
        "                                    y_test_subset, \n",
        "                                    16 * 16)\n",
        "            else:\n",
        "                acc_matrix[i][j] = train_fuzzyART(\n",
        "                                    X_train_subset,\n",
        "                                    y_train_subset,  # não é usado na função\n",
        "                                    X_test_subset,\n",
        "                                    y_test_subset)\n",
        "            \n",
        "    return acc_matrix"
      ]
    },
    {
      "cell_type": "code",
      "execution_count": 4,
      "metadata": {},
      "outputs": [],
      "source": [
        "def average_accuracy(num_tasks, acc_matrix):\n",
        "  denominator = num_tasks*(num_tasks+1)/2\n",
        "  acc_sum = 0\n",
        "\n",
        "  for i in range(num_tasks):\n",
        "    for j in range(i):\n",
        "      acc_sum += acc_matrix[i][j]\n",
        "\n",
        "  return (acc_sum / denominator)\n",
        "\n",
        "def backward_transfer(num_tasks, acc_matrix):\n",
        "  denominator = num_tasks*(num_tasks-1)/2\n",
        "  acc_sum = 0\n",
        "\n",
        "  for i in range(2, num_tasks):\n",
        "    for j in range(i-1):\n",
        "      acc_sum += (acc_matrix[i][j] - acc_matrix[j][j])\n",
        "\n",
        "  return (acc_sum / denominator)\n",
        "\n",
        "def forward_transfer(num_tasks, acc_matrix):\n",
        "  denominator = num_tasks*(num_tasks-1)/2\n",
        "  acc_sum = 0\n",
        "  j = 0\n",
        "\n",
        "  for i in range(j-1):\n",
        "    for j in range(2, num_tasks):\n",
        "      acc_sum = acc_sum + acc_matrix[i][j]\n",
        "\n",
        "  return (acc_sum / denominator)"
      ]
    },
    {
      "cell_type": "markdown",
      "metadata": {
        "id": "kjGNh0Sp3-GK"
      },
      "source": [
        "## Baixando e ordenando dados"
      ]
    },
    {
      "cell_type": "code",
      "execution_count": 5,
      "metadata": {
        "colab": {
          "base_uri": "https://localhost:8080/"
        },
        "id": "2SA-8QXLzusy",
        "outputId": "d0c55269-5a9d-416e-c42f-213c70730611"
      },
      "outputs": [
        {
          "name": "stderr",
          "output_type": "stream",
          "text": [
            "100%|██████████| 6.58M/6.58M [00:23<00:00, 277kB/s] \n",
            "100%|██████████| 1.83M/1.83M [00:04<00:00, 377kB/s] \n"
          ]
        },
        {
          "name": "stdout",
          "output_type": "stream",
          "text": [
            "(7291, 16, 16)\n"
          ]
        }
      ],
      "source": [
        "train_data = USPS(root='./USPS/', train=True, download=True)\n",
        "test_data = USPS(root='./USPS/', train=False, download=True)\n",
        "\n",
        "X_train = train_data.data\n",
        "y_train = torch.tensor(train_data.targets, dtype=torch.long)\n",
        "\n",
        "X_test = test_data.data\n",
        "y_test = torch.tensor(test_data.targets, dtype=torch.long)\n",
        "\n",
        "print(X_train.shape)\n",
        "\n",
        "# as imagens do conjunto são 16x16  \n",
        "n_dim = 16 * 16\n",
        "\n",
        "#flatten images\n",
        "X_train = X_train.reshape(-1, n_dim)\n",
        "X_test = X_test.reshape(-1, n_dim)\n",
        "\n",
        "# Ordenando dados\n",
        "sorted_indices_train = torch.argsort(y_train)\n",
        "X_train_sorted = X_train[sorted_indices_train]\n",
        "y_train_sorted = y_train[sorted_indices_train]\n",
        "\n",
        "sorted_indices_test = torch.argsort(y_test)\n",
        "X_test_sorted = X_test[sorted_indices_test]\n",
        "y_test_sorted = y_test[sorted_indices_test]"
      ]
    },
    {
      "cell_type": "code",
      "execution_count": 6,
      "metadata": {},
      "outputs": [
        {
          "name": "stdout",
          "output_type": "stream",
          "text": [
            "tensor([0, 1, 2, 3, 4, 5, 6, 7, 8, 9])\n",
            "tensor([0, 1, 2, 3, 4, 5, 6, 7, 8, 9])\n"
          ]
        },
        {
          "data": {
            "text/plain": [
              "tensor([0, 0, 0,  ..., 9, 9, 9])"
            ]
          },
          "execution_count": 6,
          "metadata": {},
          "output_type": "execute_result"
        }
      ],
      "source": [
        "print(y_train_sorted.unique())\n",
        "print(y_test_sorted.unique())\n",
        "\n",
        "y_train_sorted"
      ]
    },
    {
      "cell_type": "code",
      "execution_count": 7,
      "metadata": {},
      "outputs": [
        {
          "name": "stdout",
          "output_type": "stream",
          "text": [
            "tensor([0, 1, 2, 3, 4, 5, 6, 7, 8, 9])\n",
            "10\n"
          ]
        }
      ],
      "source": [
        "classes = y_train.unique()\n",
        "print(classes)\n",
        "num_tasks = len(classes)\n",
        "print(num_tasks)"
      ]
    },
    {
      "cell_type": "markdown",
      "metadata": {
        "id": "95zlQCtWzrkR"
      },
      "source": [
        "## Fuzzy ART"
      ]
    },
    {
      "cell_type": "markdown",
      "metadata": {
        "id": "S19EK7Ee0HyS"
      },
      "source": [
        "Aprendizado não supervionado\n"
      ]
    },
    {
      "cell_type": "code",
      "execution_count": 8,
      "metadata": {
        "id": "GMVVkFOe4FNS"
      },
      "outputs": [],
      "source": [
        "fuzzy_art_model = FuzzyART(rho=0.3, alpha=0.0, beta=1.0)\n",
        "\n",
        "# Estabelecendo bounds\n",
        "lower_bounds = np.zeros(n_dim) ## Isso foi feito com base no exemplo que está no github da biblioteca\n",
        "upper_bounds = np.full(n_dim, 255.0)\n",
        "\n",
        "fuzzy_art_model.set_data_bounds(lower_bounds, upper_bounds)\n",
        "\n",
        "# Normalização e complement coding\n",
        "train_X_fuzzy_art = fuzzy_art_model.prepare_data(X_train)\n",
        "test_X_fuzzy_art  = fuzzy_art_model.prepare_data(X_test)"
      ]
    },
    {
      "cell_type": "code",
      "execution_count": 9,
      "metadata": {
        "id": "Y-XoBt938oaS"
      },
      "outputs": [],
      "source": [
        "fuzzy_art_model.partial_fit(train_X_fuzzy_art)\n",
        "fuzzy_art_predictions = fuzzy_art_model.predict(test_X_fuzzy_art)"
      ]
    },
    {
      "cell_type": "code",
      "execution_count": 10,
      "metadata": {
        "colab": {
          "base_uri": "https://localhost:8080/"
        },
        "id": "89Psw4zP9Bg5",
        "outputId": "68fb91cc-4bb7-4002-dc29-af53cd992e61"
      },
      "outputs": [
        {
          "name": "stdout",
          "output_type": "stream",
          "text": [
            "O ARI do modelo FuzzyART foi: 0.04754222620721928\n",
            "O número de clusters foi: 284\n"
          ]
        }
      ],
      "source": [
        "ARI = adjusted_rand_score(y_test,fuzzy_art_predictions)\n",
        "print(f'O ARI do modelo FuzzyART foi: {ARI}')\n",
        "num_clusters = fuzzy_art_model.n_clusters\n",
        "print(f\"O número de clusters foi: {num_clusters}\")"
      ]
    },
    {
      "cell_type": "markdown",
      "metadata": {},
      "source": [
        "<font color=\"red\">Por que tantos clusters?</font> "
      ]
    },
    {
      "cell_type": "code",
      "execution_count": 11,
      "metadata": {},
      "outputs": [
        {
          "name": "stdout",
          "output_type": "stream",
          "text": [
            "Classes de treino: tensor([0])\n",
            "Classes de teste: tensor([0])\n",
            "Tarefa 0, Teste classe 0, Tamanho do treino: 1194, Tamanho do teste: 359\n",
            "Classes de treino: tensor([0])\n",
            "Classes de teste: tensor([1])\n",
            "Tarefa 0, Teste classe 1, Tamanho do treino: 1194, Tamanho do teste: 264\n",
            "Classes de treino: tensor([0])\n",
            "Classes de teste: tensor([2])\n",
            "Tarefa 0, Teste classe 2, Tamanho do treino: 1194, Tamanho do teste: 198\n",
            "Classes de treino: tensor([0])\n",
            "Classes de teste: tensor([3])\n",
            "Tarefa 0, Teste classe 3, Tamanho do treino: 1194, Tamanho do teste: 166\n",
            "Classes de treino: tensor([0])\n",
            "Classes de teste: tensor([4])\n",
            "Tarefa 0, Teste classe 4, Tamanho do treino: 1194, Tamanho do teste: 200\n",
            "Classes de treino: tensor([0])\n",
            "Classes de teste: tensor([5])\n",
            "Tarefa 0, Teste classe 5, Tamanho do treino: 1194, Tamanho do teste: 160\n",
            "Classes de treino: tensor([0])\n",
            "Classes de teste: tensor([6])\n",
            "Tarefa 0, Teste classe 6, Tamanho do treino: 1194, Tamanho do teste: 170\n",
            "Classes de treino: tensor([0])\n",
            "Classes de teste: tensor([7])\n",
            "Tarefa 0, Teste classe 7, Tamanho do treino: 1194, Tamanho do teste: 147\n",
            "Classes de treino: tensor([0])\n",
            "Classes de teste: tensor([8])\n",
            "Tarefa 0, Teste classe 8, Tamanho do treino: 1194, Tamanho do teste: 166\n",
            "Classes de treino: tensor([0])\n",
            "Classes de teste: tensor([9])\n",
            "Tarefa 0, Teste classe 9, Tamanho do treino: 1194, Tamanho do teste: 177\n",
            "Classes de treino: tensor([0, 1])\n",
            "Classes de teste: tensor([0])\n",
            "Tarefa 1, Teste classe 0, Tamanho do treino: 2199, Tamanho do teste: 359\n",
            "Classes de treino: tensor([0, 1])\n",
            "Classes de teste: tensor([1])\n",
            "Tarefa 1, Teste classe 1, Tamanho do treino: 2199, Tamanho do teste: 264\n",
            "Classes de treino: tensor([0, 1])\n",
            "Classes de teste: tensor([2])\n",
            "Tarefa 1, Teste classe 2, Tamanho do treino: 2199, Tamanho do teste: 198\n",
            "Classes de treino: tensor([0, 1])\n",
            "Classes de teste: tensor([3])\n",
            "Tarefa 1, Teste classe 3, Tamanho do treino: 2199, Tamanho do teste: 166\n",
            "Classes de treino: tensor([0, 1])\n",
            "Classes de teste: tensor([4])\n",
            "Tarefa 1, Teste classe 4, Tamanho do treino: 2199, Tamanho do teste: 200\n",
            "Classes de treino: tensor([0, 1])\n",
            "Classes de teste: tensor([5])\n",
            "Tarefa 1, Teste classe 5, Tamanho do treino: 2199, Tamanho do teste: 160\n",
            "Classes de treino: tensor([0, 1])\n",
            "Classes de teste: tensor([6])\n",
            "Tarefa 1, Teste classe 6, Tamanho do treino: 2199, Tamanho do teste: 170\n",
            "Classes de treino: tensor([0, 1])\n",
            "Classes de teste: tensor([7])\n",
            "Tarefa 1, Teste classe 7, Tamanho do treino: 2199, Tamanho do teste: 147\n",
            "Classes de treino: tensor([0, 1])\n",
            "Classes de teste: tensor([8])\n",
            "Tarefa 1, Teste classe 8, Tamanho do treino: 2199, Tamanho do teste: 166\n",
            "Classes de treino: tensor([0, 1])\n",
            "Classes de teste: tensor([9])\n",
            "Tarefa 1, Teste classe 9, Tamanho do treino: 2199, Tamanho do teste: 177\n",
            "Classes de treino: tensor([0, 1, 2])\n",
            "Classes de teste: tensor([0])\n",
            "Tarefa 2, Teste classe 0, Tamanho do treino: 2930, Tamanho do teste: 359\n",
            "Classes de treino: tensor([0, 1, 2])\n",
            "Classes de teste: tensor([1])\n",
            "Tarefa 2, Teste classe 1, Tamanho do treino: 2930, Tamanho do teste: 264\n",
            "Classes de treino: tensor([0, 1, 2])\n",
            "Classes de teste: tensor([2])\n",
            "Tarefa 2, Teste classe 2, Tamanho do treino: 2930, Tamanho do teste: 198\n",
            "Classes de treino: tensor([0, 1, 2])\n",
            "Classes de teste: tensor([3])\n",
            "Tarefa 2, Teste classe 3, Tamanho do treino: 2930, Tamanho do teste: 166\n",
            "Classes de treino: tensor([0, 1, 2])\n",
            "Classes de teste: tensor([4])\n",
            "Tarefa 2, Teste classe 4, Tamanho do treino: 2930, Tamanho do teste: 200\n",
            "Classes de treino: tensor([0, 1, 2])\n",
            "Classes de teste: tensor([5])\n",
            "Tarefa 2, Teste classe 5, Tamanho do treino: 2930, Tamanho do teste: 160\n",
            "Classes de treino: tensor([0, 1, 2])\n",
            "Classes de teste: tensor([6])\n",
            "Tarefa 2, Teste classe 6, Tamanho do treino: 2930, Tamanho do teste: 170\n",
            "Classes de treino: tensor([0, 1, 2])\n",
            "Classes de teste: tensor([7])\n",
            "Tarefa 2, Teste classe 7, Tamanho do treino: 2930, Tamanho do teste: 147\n",
            "Classes de treino: tensor([0, 1, 2])\n",
            "Classes de teste: tensor([8])\n",
            "Tarefa 2, Teste classe 8, Tamanho do treino: 2930, Tamanho do teste: 166\n",
            "Classes de treino: tensor([0, 1, 2])\n",
            "Classes de teste: tensor([9])\n",
            "Tarefa 2, Teste classe 9, Tamanho do treino: 2930, Tamanho do teste: 177\n",
            "Classes de treino: tensor([0, 1, 2, 3])\n",
            "Classes de teste: tensor([0])\n",
            "Tarefa 3, Teste classe 0, Tamanho do treino: 3588, Tamanho do teste: 359\n",
            "Classes de treino: tensor([0, 1, 2, 3])\n",
            "Classes de teste: tensor([1])\n",
            "Tarefa 3, Teste classe 1, Tamanho do treino: 3588, Tamanho do teste: 264\n",
            "Classes de treino: tensor([0, 1, 2, 3])\n",
            "Classes de teste: tensor([2])\n",
            "Tarefa 3, Teste classe 2, Tamanho do treino: 3588, Tamanho do teste: 198\n",
            "Classes de treino: tensor([0, 1, 2, 3])\n",
            "Classes de teste: tensor([3])\n",
            "Tarefa 3, Teste classe 3, Tamanho do treino: 3588, Tamanho do teste: 166\n",
            "Classes de treino: tensor([0, 1, 2, 3])\n",
            "Classes de teste: tensor([4])\n",
            "Tarefa 3, Teste classe 4, Tamanho do treino: 3588, Tamanho do teste: 200\n",
            "Classes de treino: tensor([0, 1, 2, 3])\n",
            "Classes de teste: tensor([5])\n",
            "Tarefa 3, Teste classe 5, Tamanho do treino: 3588, Tamanho do teste: 160\n",
            "Classes de treino: tensor([0, 1, 2, 3])\n",
            "Classes de teste: tensor([6])\n",
            "Tarefa 3, Teste classe 6, Tamanho do treino: 3588, Tamanho do teste: 170\n",
            "Classes de treino: tensor([0, 1, 2, 3])\n",
            "Classes de teste: tensor([7])\n",
            "Tarefa 3, Teste classe 7, Tamanho do treino: 3588, Tamanho do teste: 147\n",
            "Classes de treino: tensor([0, 1, 2, 3])\n",
            "Classes de teste: tensor([8])\n",
            "Tarefa 3, Teste classe 8, Tamanho do treino: 3588, Tamanho do teste: 166\n",
            "Classes de treino: tensor([0, 1, 2, 3])\n",
            "Classes de teste: tensor([9])\n",
            "Tarefa 3, Teste classe 9, Tamanho do treino: 3588, Tamanho do teste: 177\n",
            "Classes de treino: tensor([0, 1, 2, 3, 4])\n",
            "Classes de teste: tensor([0])\n",
            "Tarefa 4, Teste classe 0, Tamanho do treino: 4240, Tamanho do teste: 359\n",
            "Classes de treino: tensor([0, 1, 2, 3, 4])\n",
            "Classes de teste: tensor([1])\n",
            "Tarefa 4, Teste classe 1, Tamanho do treino: 4240, Tamanho do teste: 264\n",
            "Classes de treino: tensor([0, 1, 2, 3, 4])\n",
            "Classes de teste: tensor([2])\n",
            "Tarefa 4, Teste classe 2, Tamanho do treino: 4240, Tamanho do teste: 198\n",
            "Classes de treino: tensor([0, 1, 2, 3, 4])\n",
            "Classes de teste: tensor([3])\n",
            "Tarefa 4, Teste classe 3, Tamanho do treino: 4240, Tamanho do teste: 166\n",
            "Classes de treino: tensor([0, 1, 2, 3, 4])\n",
            "Classes de teste: tensor([4])\n",
            "Tarefa 4, Teste classe 4, Tamanho do treino: 4240, Tamanho do teste: 200\n",
            "Classes de treino: tensor([0, 1, 2, 3, 4])\n",
            "Classes de teste: tensor([5])\n",
            "Tarefa 4, Teste classe 5, Tamanho do treino: 4240, Tamanho do teste: 160\n",
            "Classes de treino: tensor([0, 1, 2, 3, 4])\n",
            "Classes de teste: tensor([6])\n",
            "Tarefa 4, Teste classe 6, Tamanho do treino: 4240, Tamanho do teste: 170\n",
            "Classes de treino: tensor([0, 1, 2, 3, 4])\n",
            "Classes de teste: tensor([7])\n",
            "Tarefa 4, Teste classe 7, Tamanho do treino: 4240, Tamanho do teste: 147\n",
            "Classes de treino: tensor([0, 1, 2, 3, 4])\n",
            "Classes de teste: tensor([8])\n",
            "Tarefa 4, Teste classe 8, Tamanho do treino: 4240, Tamanho do teste: 166\n",
            "Classes de treino: tensor([0, 1, 2, 3, 4])\n",
            "Classes de teste: tensor([9])\n",
            "Tarefa 4, Teste classe 9, Tamanho do treino: 4240, Tamanho do teste: 177\n",
            "Classes de treino: tensor([0, 1, 2, 3, 4, 5])\n",
            "Classes de teste: tensor([0])\n",
            "Tarefa 5, Teste classe 0, Tamanho do treino: 4796, Tamanho do teste: 359\n",
            "Classes de treino: tensor([0, 1, 2, 3, 4, 5])\n",
            "Classes de teste: tensor([1])\n",
            "Tarefa 5, Teste classe 1, Tamanho do treino: 4796, Tamanho do teste: 264\n",
            "Classes de treino: tensor([0, 1, 2, 3, 4, 5])\n",
            "Classes de teste: tensor([2])\n",
            "Tarefa 5, Teste classe 2, Tamanho do treino: 4796, Tamanho do teste: 198\n",
            "Classes de treino: tensor([0, 1, 2, 3, 4, 5])\n",
            "Classes de teste: tensor([3])\n",
            "Tarefa 5, Teste classe 3, Tamanho do treino: 4796, Tamanho do teste: 166\n",
            "Classes de treino: tensor([0, 1, 2, 3, 4, 5])\n",
            "Classes de teste: tensor([4])\n",
            "Tarefa 5, Teste classe 4, Tamanho do treino: 4796, Tamanho do teste: 200\n",
            "Classes de treino: tensor([0, 1, 2, 3, 4, 5])\n",
            "Classes de teste: tensor([5])\n",
            "Tarefa 5, Teste classe 5, Tamanho do treino: 4796, Tamanho do teste: 160\n",
            "Classes de treino: tensor([0, 1, 2, 3, 4, 5])\n",
            "Classes de teste: tensor([6])\n",
            "Tarefa 5, Teste classe 6, Tamanho do treino: 4796, Tamanho do teste: 170\n",
            "Classes de treino: tensor([0, 1, 2, 3, 4, 5])\n",
            "Classes de teste: tensor([7])\n",
            "Tarefa 5, Teste classe 7, Tamanho do treino: 4796, Tamanho do teste: 147\n",
            "Classes de treino: tensor([0, 1, 2, 3, 4, 5])\n",
            "Classes de teste: tensor([8])\n",
            "Tarefa 5, Teste classe 8, Tamanho do treino: 4796, Tamanho do teste: 166\n",
            "Classes de treino: tensor([0, 1, 2, 3, 4, 5])\n",
            "Classes de teste: tensor([9])\n",
            "Tarefa 5, Teste classe 9, Tamanho do treino: 4796, Tamanho do teste: 177\n",
            "Classes de treino: tensor([0, 1, 2, 3, 4, 5, 6])\n",
            "Classes de teste: tensor([0])\n",
            "Tarefa 6, Teste classe 0, Tamanho do treino: 5460, Tamanho do teste: 359\n",
            "Classes de treino: tensor([0, 1, 2, 3, 4, 5, 6])\n",
            "Classes de teste: tensor([1])\n",
            "Tarefa 6, Teste classe 1, Tamanho do treino: 5460, Tamanho do teste: 264\n",
            "Classes de treino: tensor([0, 1, 2, 3, 4, 5, 6])\n",
            "Classes de teste: tensor([2])\n",
            "Tarefa 6, Teste classe 2, Tamanho do treino: 5460, Tamanho do teste: 198\n",
            "Classes de treino: tensor([0, 1, 2, 3, 4, 5, 6])\n",
            "Classes de teste: tensor([3])\n",
            "Tarefa 6, Teste classe 3, Tamanho do treino: 5460, Tamanho do teste: 166\n",
            "Classes de treino: tensor([0, 1, 2, 3, 4, 5, 6])\n",
            "Classes de teste: tensor([4])\n",
            "Tarefa 6, Teste classe 4, Tamanho do treino: 5460, Tamanho do teste: 200\n",
            "Classes de treino: tensor([0, 1, 2, 3, 4, 5, 6])\n",
            "Classes de teste: tensor([5])\n",
            "Tarefa 6, Teste classe 5, Tamanho do treino: 5460, Tamanho do teste: 160\n",
            "Classes de treino: tensor([0, 1, 2, 3, 4, 5, 6])\n",
            "Classes de teste: tensor([6])\n",
            "Tarefa 6, Teste classe 6, Tamanho do treino: 5460, Tamanho do teste: 170\n",
            "Classes de treino: tensor([0, 1, 2, 3, 4, 5, 6])\n",
            "Classes de teste: tensor([7])\n",
            "Tarefa 6, Teste classe 7, Tamanho do treino: 5460, Tamanho do teste: 147\n",
            "Classes de treino: tensor([0, 1, 2, 3, 4, 5, 6])\n",
            "Classes de teste: tensor([8])\n",
            "Tarefa 6, Teste classe 8, Tamanho do treino: 5460, Tamanho do teste: 166\n",
            "Classes de treino: tensor([0, 1, 2, 3, 4, 5, 6])\n",
            "Classes de teste: tensor([9])\n",
            "Tarefa 6, Teste classe 9, Tamanho do treino: 5460, Tamanho do teste: 177\n",
            "Classes de treino: tensor([0, 1, 2, 3, 4, 5, 6, 7])\n",
            "Classes de teste: tensor([0])\n",
            "Tarefa 7, Teste classe 0, Tamanho do treino: 6105, Tamanho do teste: 359\n",
            "Classes de treino: tensor([0, 1, 2, 3, 4, 5, 6, 7])\n",
            "Classes de teste: tensor([1])\n",
            "Tarefa 7, Teste classe 1, Tamanho do treino: 6105, Tamanho do teste: 264\n",
            "Classes de treino: tensor([0, 1, 2, 3, 4, 5, 6, 7])\n",
            "Classes de teste: tensor([2])\n",
            "Tarefa 7, Teste classe 2, Tamanho do treino: 6105, Tamanho do teste: 198\n",
            "Classes de treino: tensor([0, 1, 2, 3, 4, 5, 6, 7])\n",
            "Classes de teste: tensor([3])\n",
            "Tarefa 7, Teste classe 3, Tamanho do treino: 6105, Tamanho do teste: 166\n",
            "Classes de treino: tensor([0, 1, 2, 3, 4, 5, 6, 7])\n",
            "Classes de teste: tensor([4])\n",
            "Tarefa 7, Teste classe 4, Tamanho do treino: 6105, Tamanho do teste: 200\n",
            "Classes de treino: tensor([0, 1, 2, 3, 4, 5, 6, 7])\n",
            "Classes de teste: tensor([5])\n",
            "Tarefa 7, Teste classe 5, Tamanho do treino: 6105, Tamanho do teste: 160\n",
            "Classes de treino: tensor([0, 1, 2, 3, 4, 5, 6, 7])\n",
            "Classes de teste: tensor([6])\n",
            "Tarefa 7, Teste classe 6, Tamanho do treino: 6105, Tamanho do teste: 170\n",
            "Classes de treino: tensor([0, 1, 2, 3, 4, 5, 6, 7])\n",
            "Classes de teste: tensor([7])\n",
            "Tarefa 7, Teste classe 7, Tamanho do treino: 6105, Tamanho do teste: 147\n",
            "Classes de treino: tensor([0, 1, 2, 3, 4, 5, 6, 7])\n",
            "Classes de teste: tensor([8])\n",
            "Tarefa 7, Teste classe 8, Tamanho do treino: 6105, Tamanho do teste: 166\n",
            "Classes de treino: tensor([0, 1, 2, 3, 4, 5, 6, 7])\n",
            "Classes de teste: tensor([9])\n",
            "Tarefa 7, Teste classe 9, Tamanho do treino: 6105, Tamanho do teste: 177\n",
            "Classes de treino: tensor([0, 1, 2, 3, 4, 5, 6, 7, 8])\n",
            "Classes de teste: tensor([0])\n",
            "Tarefa 8, Teste classe 0, Tamanho do treino: 6647, Tamanho do teste: 359\n",
            "Classes de treino: tensor([0, 1, 2, 3, 4, 5, 6, 7, 8])\n",
            "Classes de teste: tensor([1])\n",
            "Tarefa 8, Teste classe 1, Tamanho do treino: 6647, Tamanho do teste: 264\n",
            "Classes de treino: tensor([0, 1, 2, 3, 4, 5, 6, 7, 8])\n",
            "Classes de teste: tensor([2])\n",
            "Tarefa 8, Teste classe 2, Tamanho do treino: 6647, Tamanho do teste: 198\n",
            "Classes de treino: tensor([0, 1, 2, 3, 4, 5, 6, 7, 8])\n",
            "Classes de teste: tensor([3])\n",
            "Tarefa 8, Teste classe 3, Tamanho do treino: 6647, Tamanho do teste: 166\n",
            "Classes de treino: tensor([0, 1, 2, 3, 4, 5, 6, 7, 8])\n",
            "Classes de teste: tensor([4])\n",
            "Tarefa 8, Teste classe 4, Tamanho do treino: 6647, Tamanho do teste: 200\n",
            "Classes de treino: tensor([0, 1, 2, 3, 4, 5, 6, 7, 8])\n",
            "Classes de teste: tensor([5])\n",
            "Tarefa 8, Teste classe 5, Tamanho do treino: 6647, Tamanho do teste: 160\n",
            "Classes de treino: tensor([0, 1, 2, 3, 4, 5, 6, 7, 8])\n",
            "Classes de teste: tensor([6])\n",
            "Tarefa 8, Teste classe 6, Tamanho do treino: 6647, Tamanho do teste: 170\n",
            "Classes de treino: tensor([0, 1, 2, 3, 4, 5, 6, 7, 8])\n",
            "Classes de teste: tensor([7])\n",
            "Tarefa 8, Teste classe 7, Tamanho do treino: 6647, Tamanho do teste: 147\n",
            "Classes de treino: tensor([0, 1, 2, 3, 4, 5, 6, 7, 8])\n",
            "Classes de teste: tensor([8])\n",
            "Tarefa 8, Teste classe 8, Tamanho do treino: 6647, Tamanho do teste: 166\n",
            "Classes de treino: tensor([0, 1, 2, 3, 4, 5, 6, 7, 8])\n",
            "Classes de teste: tensor([9])\n",
            "Tarefa 8, Teste classe 9, Tamanho do treino: 6647, Tamanho do teste: 177\n",
            "Classes de treino: tensor([0, 1, 2, 3, 4, 5, 6, 7, 8, 9])\n",
            "Classes de teste: tensor([0])\n",
            "Tarefa 9, Teste classe 0, Tamanho do treino: 7291, Tamanho do teste: 359\n",
            "Classes de treino: tensor([0, 1, 2, 3, 4, 5, 6, 7, 8, 9])\n",
            "Classes de teste: tensor([1])\n",
            "Tarefa 9, Teste classe 1, Tamanho do treino: 7291, Tamanho do teste: 264\n",
            "Classes de treino: tensor([0, 1, 2, 3, 4, 5, 6, 7, 8, 9])\n",
            "Classes de teste: tensor([2])\n",
            "Tarefa 9, Teste classe 2, Tamanho do treino: 7291, Tamanho do teste: 198\n",
            "Classes de treino: tensor([0, 1, 2, 3, 4, 5, 6, 7, 8, 9])\n",
            "Classes de teste: tensor([3])\n",
            "Tarefa 9, Teste classe 3, Tamanho do treino: 7291, Tamanho do teste: 166\n",
            "Classes de treino: tensor([0, 1, 2, 3, 4, 5, 6, 7, 8, 9])\n",
            "Classes de teste: tensor([4])\n",
            "Tarefa 9, Teste classe 4, Tamanho do treino: 7291, Tamanho do teste: 200\n",
            "Classes de treino: tensor([0, 1, 2, 3, 4, 5, 6, 7, 8, 9])\n",
            "Classes de teste: tensor([5])\n",
            "Tarefa 9, Teste classe 5, Tamanho do treino: 7291, Tamanho do teste: 160\n",
            "Classes de treino: tensor([0, 1, 2, 3, 4, 5, 6, 7, 8, 9])\n",
            "Classes de teste: tensor([6])\n",
            "Tarefa 9, Teste classe 6, Tamanho do treino: 7291, Tamanho do teste: 170\n",
            "Classes de treino: tensor([0, 1, 2, 3, 4, 5, 6, 7, 8, 9])\n",
            "Classes de teste: tensor([7])\n",
            "Tarefa 9, Teste classe 7, Tamanho do treino: 7291, Tamanho do teste: 147\n",
            "Classes de treino: tensor([0, 1, 2, 3, 4, 5, 6, 7, 8, 9])\n",
            "Classes de teste: tensor([8])\n",
            "Tarefa 9, Teste classe 8, Tamanho do treino: 7291, Tamanho do teste: 166\n",
            "Classes de treino: tensor([0, 1, 2, 3, 4, 5, 6, 7, 8, 9])\n",
            "Classes de teste: tensor([9])\n",
            "Tarefa 9, Teste classe 9, Tamanho do treino: 7291, Tamanho do teste: 177\n"
          ]
        }
      ],
      "source": [
        "acc_matrix = generate_acc_matrix_fuzzyART(num_tasks, X_train_sorted, y_train_sorted, \n",
        "                                            X_test_sorted, y_test_sorted, 1)\n",
        "\n",
        "\n",
        "\n"
      ]
    },
    {
      "cell_type": "code",
      "execution_count": 12,
      "metadata": {},
      "outputs": [
        {
          "name": "stdout",
          "output_type": "stream",
          "text": [
            "[[0.000000 0.000000 0.000000 0.000000 0.000000 0.000000 0.000000 0.000000\n",
            "  0.000000 0.000000]\n",
            " [0.000000 0.000000 0.000000 0.000000 0.000000 0.000000 0.000000 0.000000\n",
            "  0.000000 0.000000]\n",
            " [0.000000 0.000000 0.000000 0.000000 0.000000 0.000000 0.000000 0.000000\n",
            "  0.000000 0.000000]\n",
            " [0.000000 0.000000 0.000000 0.000000 0.000000 0.000000 0.000000 0.000000\n",
            "  0.000000 0.000000]\n",
            " [0.000000 0.000000 0.000000 0.000000 0.000000 0.000000 0.000000 0.000000\n",
            "  0.000000 0.000000]\n",
            " [0.000000 0.000000 0.000000 0.000000 0.000000 0.000000 0.000000 0.000000\n",
            "  0.000000 0.000000]\n",
            " [0.000000 0.000000 0.000000 0.000000 0.000000 0.000000 0.000000 0.000000\n",
            "  0.000000 0.000000]\n",
            " [0.000000 0.000000 0.000000 0.000000 0.000000 0.000000 0.000000 0.000000\n",
            "  0.000000 0.000000]\n",
            " [0.000000 0.000000 0.000000 0.000000 0.000000 0.000000 0.000000 0.000000\n",
            "  0.000000 0.000000]\n",
            " [0.000000 0.000000 0.000000 0.000000 0.000000 0.000000 0.000000 0.000000\n",
            "  0.000000 0.000000]]\n"
          ]
        }
      ],
      "source": [
        "np.set_printoptions(precision=6, suppress=False, floatmode='fixed')\n",
        "\n",
        "print(np.array(acc_matrix))"
      ]
    },
    {
      "cell_type": "code",
      "execution_count": 13,
      "metadata": {},
      "outputs": [
        {
          "name": "stdout",
          "output_type": "stream",
          "text": [
            "Forward transfer: 0.000000\n",
            "Backward transfer: 0.000000\n",
            "Average Accuracy: 0.000000\n"
          ]
        }
      ],
      "source": [
        "print(f\"Forward transfer: {forward_transfer(num_tasks, acc_matrix):.6f}\")\n",
        "print(f\"Backward transfer: {backward_transfer(num_tasks, acc_matrix):.6f}\")\n",
        "print(f\"Average Accuracy: {average_accuracy(num_tasks, acc_matrix):.6f}\")\n"
      ]
    },
    {
      "cell_type": "markdown",
      "metadata": {},
      "source": [
        "<font color=\"red\" oi>"
      ]
    }
  ],
  "metadata": {
    "colab": {
      "collapsed_sections": [
        "6w4BE74LtjLR",
        "-3NYKMpe0zpo"
      ],
      "provenance": []
    },
    "kernelspec": {
      "display_name": "base",
      "language": "python",
      "name": "python3"
    },
    "language_info": {
      "codemirror_mode": {
        "name": "ipython",
        "version": 3
      },
      "file_extension": ".py",
      "mimetype": "text/x-python",
      "name": "python",
      "nbconvert_exporter": "python",
      "pygments_lexer": "ipython3",
      "version": "3.12.7"
    }
  },
  "nbformat": 4,
  "nbformat_minor": 0
}
