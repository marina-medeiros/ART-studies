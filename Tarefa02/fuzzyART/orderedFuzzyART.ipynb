{
  "cells": [
    {
      "cell_type": "markdown",
      "metadata": {
        "id": "08c869a5"
      },
      "source": [
        "# Fuzzy ART com classes ordenadas"
      ]
    },
    {
      "cell_type": "markdown",
      "metadata": {
        "id": "8eefe2b7"
      },
      "source": [
        "## Importando bibliotecas"
      ]
    },
    {
      "cell_type": "code",
      "execution_count": 1,
      "metadata": {
        "colab": {
          "base_uri": "https://localhost:8080/"
        },
        "collapsed": true,
        "id": "SIPZQd1aoIDf",
        "outputId": "9b9fa6d9-a80c-4378-a6ef-0fff5da12d5e"
      },
      "outputs": [
        {
          "name": "stdout",
          "output_type": "stream",
          "text": [
            "Requirement already satisfied: artlib in /home/marina/Downloads/anaconda3/lib/python3.12/site-packages (0.1.7)\n",
            "Note: you may need to restart the kernel to use updated packages.\n"
          ]
        }
      ],
      "source": [
        "%pip install artlib"
      ]
    },
    {
      "cell_type": "code",
      "execution_count": 2,
      "metadata": {
        "collapsed": true,
        "id": "10777266"
      },
      "outputs": [],
      "source": [
        "import torch\n",
        "from torchvision import datasets, transforms\n",
        "import torchvision.transforms as transforms\n",
        "from torchvision.datasets import USPS\n",
        "from artlib import FuzzyART, FuzzyARTMAP, FusionART\n",
        "from sklearn.metrics import classification_report, adjusted_rand_score, confusion_matrix, ConfusionMatrixDisplay\n",
        "import matplotlib.pyplot as plt\n",
        "import numpy as np\n",
        "import pandas as pd\n",
        "from sklearn.utils import resample\n",
        "from pyclustertend import vat\n",
        "from sklearn.preprocessing import StandardScaler\n",
        "from sklearn.model_selection import train_test_split"
      ]
    },
    {
      "cell_type": "code",
      "execution_count": 3,
      "metadata": {},
      "outputs": [],
      "source": [
        "# Os limites são calculados de forma diferente quando se trata de imagens\n",
        "def train_fuzzyART_images(X_train_subset, y_train_subset, X_test_subset, y_test_subset, n_dim):\n",
        "    fuzzy_art_model = FuzzyART(rho=0.3, alpha=0.0, beta=1.0)\n",
        "\n",
        "    lower_bounds = np.zeros(n_dim)\n",
        "    upper_bounds = np.full(n_dim, 255.0)\n",
        "    fuzzy_art_model.set_data_bounds(lower_bounds, upper_bounds)\n",
        "\n",
        "    train_X_fuzzy_art = fuzzy_art_model.prepare_data(X_train_subset)\n",
        "    test_X_fuzzy_art  = fuzzy_art_model.prepare_data(X_test_subset)\n",
        "\n",
        "    fuzzy_art_model.partial_fit(train_X_fuzzy_art)\n",
        "    fuzzy_art_predictions = fuzzy_art_model.predict(test_X_fuzzy_art)\n",
        "\n",
        "    return adjusted_rand_score(y_test_subset,fuzzy_art_predictions)\n",
        "\n",
        "\n",
        "def train_fuzzyART(X_train_subset, y_train_subset, X_test_subset, y_test_subset):\n",
        "    fuzzy_art_model = FuzzyART(rho=0.3, alpha=0.0, beta=1.0)\n",
        "\n",
        "    X_combined = np.concatenate([X_train_subset, X_test_subset], axis=0)\n",
        "    lower_bound, upper_bound = fuzzy_art_model.find_data_bounds(X_combined)\n",
        "    fuzzy_art_model.set_data_bounds(lower_bound, upper_bound)\n",
        "\n",
        "    train_X_fuzzy_art = fuzzy_art_model.prepare_data(X_train_subset)\n",
        "    test_X_fuzzy_art  = fuzzy_art_model.prepare_data(X_test_subset)\n",
        "\n",
        "    fuzzy_art_model.partial_fit(train_X_fuzzy_art)\n",
        "    fuzzy_art_predictions = fuzzy_art_model.predict(test_X_fuzzy_art)\n",
        "\n",
        "    return adjusted_rand_score(y_test_subset,fuzzy_art_predictions)\n",
        "\n",
        "\n",
        "def generate_acc_matrix_fuzzyART(num_tasks, X_train_sorted, y_train_sorted, X_test_sorted, y_test_sorted, images):\n",
        "    train_subsets = []\n",
        "    test_subsets = []\n",
        "\n",
        "    acc_matrix = [[0 for _ in range(num_tasks)] for _ in range(num_tasks)]\n",
        "\n",
        "    for i in range(num_tasks):\n",
        "        for j in range(num_tasks):\n",
        "            # Classes até a i-ésima (inclusive)\n",
        "            train_classes = torch.arange(0, i + 1)\n",
        "\n",
        "            # Máscara de seleção para treino: todas as classes <= i\n",
        "            mask_train = torch.isin(y_train_sorted, train_classes)\n",
        "            X_train_subset = X_train_sorted[mask_train]\n",
        "            y_train_subset = y_train_sorted[mask_train]\n",
        "\n",
        "            # Máscara de seleção para teste: apenas a classe j\n",
        "            mask_test = (y_test_sorted == j)\n",
        "            X_test_subset = X_test_sorted[mask_test]\n",
        "            y_test_subset = y_test_sorted[mask_test]\n",
        "\n",
        "            # Armazena os subconjuntos (opcional)\n",
        "            train_subsets.append((X_train_subset, y_train_subset))\n",
        "            test_subsets.append((X_test_subset, y_test_subset))\n",
        "\n",
        "            print(f\"Classes de treino: {torch.unique(y_train_subset)}\")\n",
        "            print(f\"Classes de teste: {torch.unique(y_test_subset)}\")\n",
        "            print(f\"Tarefa {i}, Teste classe {j}, Tamanho do treino: {len(X_train_subset)}, Tamanho do teste: {len(X_test_subset)}\")\n",
        "\n",
        "            if len(X_train_subset) == 0 or len(X_test_subset) == 0:\n",
        "                print(\"Problema: subconjunto de dados vazio\")\n",
        "                acc_matrix[i][j] = 0.0\n",
        "                continue\n",
        "\n",
        "            if(images):\n",
        "                acc_matrix[i][j] = train_fuzzyART_images(\n",
        "                                    X_train_subset,\n",
        "                                    y_train_subset,  # não é usado na função\n",
        "                                    X_test_subset,\n",
        "                                    y_test_subset, \n",
        "                                    16 * 16)\n",
        "            else:\n",
        "                acc_matrix[i][j] = train_fuzzyART(\n",
        "                                    X_train_subset,\n",
        "                                    y_train_subset,  # não é usado na função\n",
        "                                    X_test_subset,\n",
        "                                    y_test_subset)\n",
        "            \n",
        "    return acc_matrix"
      ]
    },
    {
      "cell_type": "markdown",
      "metadata": {
        "id": "kjGNh0Sp3-GK"
      },
      "source": [
        "## Baixando e ordenando dados"
      ]
    },
    {
      "cell_type": "code",
      "execution_count": 4,
      "metadata": {
        "colab": {
          "base_uri": "https://localhost:8080/"
        },
        "id": "2SA-8QXLzusy",
        "outputId": "d0c55269-5a9d-416e-c42f-213c70730611"
      },
      "outputs": [
        {
          "ename": "URLError",
          "evalue": "<urlopen error [SSL: CERTIFICATE_VERIFY_FAILED] certificate verify failed: unable to get local issuer certificate (_ssl.c:1000)>",
          "output_type": "error",
          "traceback": [
            "\u001b[0;31m---------------------------------------------------------------------------\u001b[0m",
            "\u001b[0;31mSSLCertVerificationError\u001b[0m                  Traceback (most recent call last)",
            "File \u001b[0;32m~/Downloads/anaconda3/lib/python3.12/urllib/request.py:1344\u001b[0m, in \u001b[0;36mAbstractHTTPHandler.do_open\u001b[0;34m(self, http_class, req, **http_conn_args)\u001b[0m\n\u001b[1;32m   1343\u001b[0m \u001b[38;5;28;01mtry\u001b[39;00m:\n\u001b[0;32m-> 1344\u001b[0m     h\u001b[38;5;241m.\u001b[39mrequest(req\u001b[38;5;241m.\u001b[39mget_method(), req\u001b[38;5;241m.\u001b[39mselector, req\u001b[38;5;241m.\u001b[39mdata, headers,\n\u001b[1;32m   1345\u001b[0m               encode_chunked\u001b[38;5;241m=\u001b[39mreq\u001b[38;5;241m.\u001b[39mhas_header(\u001b[38;5;124m'\u001b[39m\u001b[38;5;124mTransfer-encoding\u001b[39m\u001b[38;5;124m'\u001b[39m))\n\u001b[1;32m   1346\u001b[0m \u001b[38;5;28;01mexcept\u001b[39;00m \u001b[38;5;167;01mOSError\u001b[39;00m \u001b[38;5;28;01mas\u001b[39;00m err: \u001b[38;5;66;03m# timeout error\u001b[39;00m\n",
            "File \u001b[0;32m~/Downloads/anaconda3/lib/python3.12/http/client.py:1336\u001b[0m, in \u001b[0;36mHTTPConnection.request\u001b[0;34m(self, method, url, body, headers, encode_chunked)\u001b[0m\n\u001b[1;32m   1335\u001b[0m \u001b[38;5;250m\u001b[39m\u001b[38;5;124;03m\"\"\"Send a complete request to the server.\"\"\"\u001b[39;00m\n\u001b[0;32m-> 1336\u001b[0m \u001b[38;5;28mself\u001b[39m\u001b[38;5;241m.\u001b[39m_send_request(method, url, body, headers, encode_chunked)\n",
            "File \u001b[0;32m~/Downloads/anaconda3/lib/python3.12/http/client.py:1382\u001b[0m, in \u001b[0;36mHTTPConnection._send_request\u001b[0;34m(self, method, url, body, headers, encode_chunked)\u001b[0m\n\u001b[1;32m   1381\u001b[0m     body \u001b[38;5;241m=\u001b[39m _encode(body, \u001b[38;5;124m'\u001b[39m\u001b[38;5;124mbody\u001b[39m\u001b[38;5;124m'\u001b[39m)\n\u001b[0;32m-> 1382\u001b[0m \u001b[38;5;28mself\u001b[39m\u001b[38;5;241m.\u001b[39mendheaders(body, encode_chunked\u001b[38;5;241m=\u001b[39mencode_chunked)\n",
            "File \u001b[0;32m~/Downloads/anaconda3/lib/python3.12/http/client.py:1331\u001b[0m, in \u001b[0;36mHTTPConnection.endheaders\u001b[0;34m(self, message_body, encode_chunked)\u001b[0m\n\u001b[1;32m   1330\u001b[0m     \u001b[38;5;28;01mraise\u001b[39;00m CannotSendHeader()\n\u001b[0;32m-> 1331\u001b[0m \u001b[38;5;28mself\u001b[39m\u001b[38;5;241m.\u001b[39m_send_output(message_body, encode_chunked\u001b[38;5;241m=\u001b[39mencode_chunked)\n",
            "File \u001b[0;32m~/Downloads/anaconda3/lib/python3.12/http/client.py:1091\u001b[0m, in \u001b[0;36mHTTPConnection._send_output\u001b[0;34m(self, message_body, encode_chunked)\u001b[0m\n\u001b[1;32m   1090\u001b[0m \u001b[38;5;28;01mdel\u001b[39;00m \u001b[38;5;28mself\u001b[39m\u001b[38;5;241m.\u001b[39m_buffer[:]\n\u001b[0;32m-> 1091\u001b[0m \u001b[38;5;28mself\u001b[39m\u001b[38;5;241m.\u001b[39msend(msg)\n\u001b[1;32m   1093\u001b[0m \u001b[38;5;28;01mif\u001b[39;00m message_body \u001b[38;5;129;01mis\u001b[39;00m \u001b[38;5;129;01mnot\u001b[39;00m \u001b[38;5;28;01mNone\u001b[39;00m:\n\u001b[1;32m   1094\u001b[0m \n\u001b[1;32m   1095\u001b[0m     \u001b[38;5;66;03m# create a consistent interface to message_body\u001b[39;00m\n",
            "File \u001b[0;32m~/Downloads/anaconda3/lib/python3.12/http/client.py:1035\u001b[0m, in \u001b[0;36mHTTPConnection.send\u001b[0;34m(self, data)\u001b[0m\n\u001b[1;32m   1034\u001b[0m \u001b[38;5;28;01mif\u001b[39;00m \u001b[38;5;28mself\u001b[39m\u001b[38;5;241m.\u001b[39mauto_open:\n\u001b[0;32m-> 1035\u001b[0m     \u001b[38;5;28mself\u001b[39m\u001b[38;5;241m.\u001b[39mconnect()\n\u001b[1;32m   1036\u001b[0m \u001b[38;5;28;01melse\u001b[39;00m:\n",
            "File \u001b[0;32m~/Downloads/anaconda3/lib/python3.12/http/client.py:1477\u001b[0m, in \u001b[0;36mHTTPSConnection.connect\u001b[0;34m(self)\u001b[0m\n\u001b[1;32m   1475\u001b[0m     server_hostname \u001b[38;5;241m=\u001b[39m \u001b[38;5;28mself\u001b[39m\u001b[38;5;241m.\u001b[39mhost\n\u001b[0;32m-> 1477\u001b[0m \u001b[38;5;28mself\u001b[39m\u001b[38;5;241m.\u001b[39msock \u001b[38;5;241m=\u001b[39m \u001b[38;5;28mself\u001b[39m\u001b[38;5;241m.\u001b[39m_context\u001b[38;5;241m.\u001b[39mwrap_socket(\u001b[38;5;28mself\u001b[39m\u001b[38;5;241m.\u001b[39msock,\n\u001b[1;32m   1478\u001b[0m                                       server_hostname\u001b[38;5;241m=\u001b[39mserver_hostname)\n",
            "File \u001b[0;32m~/Downloads/anaconda3/lib/python3.12/ssl.py:455\u001b[0m, in \u001b[0;36mSSLContext.wrap_socket\u001b[0;34m(self, sock, server_side, do_handshake_on_connect, suppress_ragged_eofs, server_hostname, session)\u001b[0m\n\u001b[1;32m    449\u001b[0m \u001b[38;5;28;01mdef\u001b[39;00m \u001b[38;5;21mwrap_socket\u001b[39m(\u001b[38;5;28mself\u001b[39m, sock, server_side\u001b[38;5;241m=\u001b[39m\u001b[38;5;28;01mFalse\u001b[39;00m,\n\u001b[1;32m    450\u001b[0m                 do_handshake_on_connect\u001b[38;5;241m=\u001b[39m\u001b[38;5;28;01mTrue\u001b[39;00m,\n\u001b[1;32m    451\u001b[0m                 suppress_ragged_eofs\u001b[38;5;241m=\u001b[39m\u001b[38;5;28;01mTrue\u001b[39;00m,\n\u001b[1;32m    452\u001b[0m                 server_hostname\u001b[38;5;241m=\u001b[39m\u001b[38;5;28;01mNone\u001b[39;00m, session\u001b[38;5;241m=\u001b[39m\u001b[38;5;28;01mNone\u001b[39;00m):\n\u001b[1;32m    453\u001b[0m     \u001b[38;5;66;03m# SSLSocket class handles server_hostname encoding before it calls\u001b[39;00m\n\u001b[1;32m    454\u001b[0m     \u001b[38;5;66;03m# ctx._wrap_socket()\u001b[39;00m\n\u001b[0;32m--> 455\u001b[0m     \u001b[38;5;28;01mreturn\u001b[39;00m \u001b[38;5;28mself\u001b[39m\u001b[38;5;241m.\u001b[39msslsocket_class\u001b[38;5;241m.\u001b[39m_create(\n\u001b[1;32m    456\u001b[0m         sock\u001b[38;5;241m=\u001b[39msock,\n\u001b[1;32m    457\u001b[0m         server_side\u001b[38;5;241m=\u001b[39mserver_side,\n\u001b[1;32m    458\u001b[0m         do_handshake_on_connect\u001b[38;5;241m=\u001b[39mdo_handshake_on_connect,\n\u001b[1;32m    459\u001b[0m         suppress_ragged_eofs\u001b[38;5;241m=\u001b[39msuppress_ragged_eofs,\n\u001b[1;32m    460\u001b[0m         server_hostname\u001b[38;5;241m=\u001b[39mserver_hostname,\n\u001b[1;32m    461\u001b[0m         context\u001b[38;5;241m=\u001b[39m\u001b[38;5;28mself\u001b[39m,\n\u001b[1;32m    462\u001b[0m         session\u001b[38;5;241m=\u001b[39msession\n\u001b[1;32m    463\u001b[0m     )\n",
            "File \u001b[0;32m~/Downloads/anaconda3/lib/python3.12/ssl.py:1041\u001b[0m, in \u001b[0;36mSSLSocket._create\u001b[0;34m(cls, sock, server_side, do_handshake_on_connect, suppress_ragged_eofs, server_hostname, context, session)\u001b[0m\n\u001b[1;32m   1040\u001b[0m                 \u001b[38;5;28;01mraise\u001b[39;00m \u001b[38;5;167;01mValueError\u001b[39;00m(\u001b[38;5;124m\"\u001b[39m\u001b[38;5;124mdo_handshake_on_connect should not be specified for non-blocking sockets\u001b[39m\u001b[38;5;124m\"\u001b[39m)\n\u001b[0;32m-> 1041\u001b[0m             \u001b[38;5;28mself\u001b[39m\u001b[38;5;241m.\u001b[39mdo_handshake()\n\u001b[1;32m   1042\u001b[0m \u001b[38;5;28;01mexcept\u001b[39;00m:\n",
            "File \u001b[0;32m~/Downloads/anaconda3/lib/python3.12/ssl.py:1319\u001b[0m, in \u001b[0;36mSSLSocket.do_handshake\u001b[0;34m(self, block)\u001b[0m\n\u001b[1;32m   1318\u001b[0m         \u001b[38;5;28mself\u001b[39m\u001b[38;5;241m.\u001b[39msettimeout(\u001b[38;5;28;01mNone\u001b[39;00m)\n\u001b[0;32m-> 1319\u001b[0m     \u001b[38;5;28mself\u001b[39m\u001b[38;5;241m.\u001b[39m_sslobj\u001b[38;5;241m.\u001b[39mdo_handshake()\n\u001b[1;32m   1320\u001b[0m \u001b[38;5;28;01mfinally\u001b[39;00m:\n",
            "\u001b[0;31mSSLCertVerificationError\u001b[0m: [SSL: CERTIFICATE_VERIFY_FAILED] certificate verify failed: unable to get local issuer certificate (_ssl.c:1000)",
            "\nDuring handling of the above exception, another exception occurred:\n",
            "\u001b[0;31mURLError\u001b[0m                                  Traceback (most recent call last)",
            "Cell \u001b[0;32mIn[4], line 1\u001b[0m\n\u001b[0;32m----> 1\u001b[0m train_data \u001b[38;5;241m=\u001b[39m USPS(root\u001b[38;5;241m=\u001b[39m\u001b[38;5;124m'\u001b[39m\u001b[38;5;124m./USPS/\u001b[39m\u001b[38;5;124m'\u001b[39m, train\u001b[38;5;241m=\u001b[39m\u001b[38;5;28;01mTrue\u001b[39;00m, download\u001b[38;5;241m=\u001b[39m\u001b[38;5;28;01mTrue\u001b[39;00m)\n\u001b[1;32m      2\u001b[0m test_data \u001b[38;5;241m=\u001b[39m USPS(root\u001b[38;5;241m=\u001b[39m\u001b[38;5;124m'\u001b[39m\u001b[38;5;124m./USPS/\u001b[39m\u001b[38;5;124m'\u001b[39m, train\u001b[38;5;241m=\u001b[39m\u001b[38;5;28;01mFalse\u001b[39;00m, download\u001b[38;5;241m=\u001b[39m\u001b[38;5;28;01mTrue\u001b[39;00m)\n\u001b[1;32m      4\u001b[0m X_train \u001b[38;5;241m=\u001b[39m train_data\u001b[38;5;241m.\u001b[39mdata\n",
            "File \u001b[0;32m~/Downloads/anaconda3/lib/python3.12/site-packages/torchvision/datasets/usps.py:59\u001b[0m, in \u001b[0;36mUSPS.__init__\u001b[0;34m(self, root, train, transform, target_transform, download)\u001b[0m\n\u001b[1;32m     56\u001b[0m full_path \u001b[38;5;241m=\u001b[39m os\u001b[38;5;241m.\u001b[39mpath\u001b[38;5;241m.\u001b[39mjoin(\u001b[38;5;28mself\u001b[39m\u001b[38;5;241m.\u001b[39mroot, filename)\n\u001b[1;32m     58\u001b[0m \u001b[38;5;28;01mif\u001b[39;00m download \u001b[38;5;129;01mand\u001b[39;00m \u001b[38;5;129;01mnot\u001b[39;00m os\u001b[38;5;241m.\u001b[39mpath\u001b[38;5;241m.\u001b[39mexists(full_path):\n\u001b[0;32m---> 59\u001b[0m     download_url(url, \u001b[38;5;28mself\u001b[39m\u001b[38;5;241m.\u001b[39mroot, filename, md5\u001b[38;5;241m=\u001b[39mchecksum)\n\u001b[1;32m     61\u001b[0m \u001b[38;5;28;01mimport\u001b[39;00m \u001b[38;5;21;01mbz2\u001b[39;00m\n\u001b[1;32m     63\u001b[0m \u001b[38;5;28;01mwith\u001b[39;00m bz2\u001b[38;5;241m.\u001b[39mopen(full_path) \u001b[38;5;28;01mas\u001b[39;00m fp:\n",
            "File \u001b[0;32m~/Downloads/anaconda3/lib/python3.12/site-packages/torchvision/datasets/utils.py:118\u001b[0m, in \u001b[0;36mdownload_url\u001b[0;34m(url, root, filename, md5, max_redirect_hops)\u001b[0m\n\u001b[1;32m    115\u001b[0m     _download_file_from_remote_location(fpath, url)\n\u001b[1;32m    116\u001b[0m \u001b[38;5;28;01melse\u001b[39;00m:\n\u001b[1;32m    117\u001b[0m     \u001b[38;5;66;03m# expand redirect chain if needed\u001b[39;00m\n\u001b[0;32m--> 118\u001b[0m     url \u001b[38;5;241m=\u001b[39m _get_redirect_url(url, max_hops\u001b[38;5;241m=\u001b[39mmax_redirect_hops)\n\u001b[1;32m    120\u001b[0m     \u001b[38;5;66;03m# check if file is located on Google Drive\u001b[39;00m\n\u001b[1;32m    121\u001b[0m     file_id \u001b[38;5;241m=\u001b[39m _get_google_drive_file_id(url)\n",
            "File \u001b[0;32m~/Downloads/anaconda3/lib/python3.12/site-packages/torchvision/datasets/utils.py:63\u001b[0m, in \u001b[0;36m_get_redirect_url\u001b[0;34m(url, max_hops)\u001b[0m\n\u001b[1;32m     60\u001b[0m headers \u001b[38;5;241m=\u001b[39m {\u001b[38;5;124m\"\u001b[39m\u001b[38;5;124mMethod\u001b[39m\u001b[38;5;124m\"\u001b[39m: \u001b[38;5;124m\"\u001b[39m\u001b[38;5;124mHEAD\u001b[39m\u001b[38;5;124m\"\u001b[39m, \u001b[38;5;124m\"\u001b[39m\u001b[38;5;124mUser-Agent\u001b[39m\u001b[38;5;124m\"\u001b[39m: USER_AGENT}\n\u001b[1;32m     62\u001b[0m \u001b[38;5;28;01mfor\u001b[39;00m _ \u001b[38;5;129;01min\u001b[39;00m \u001b[38;5;28mrange\u001b[39m(max_hops \u001b[38;5;241m+\u001b[39m \u001b[38;5;241m1\u001b[39m):\n\u001b[0;32m---> 63\u001b[0m     \u001b[38;5;28;01mwith\u001b[39;00m urllib\u001b[38;5;241m.\u001b[39mrequest\u001b[38;5;241m.\u001b[39murlopen(urllib\u001b[38;5;241m.\u001b[39mrequest\u001b[38;5;241m.\u001b[39mRequest(url, headers\u001b[38;5;241m=\u001b[39mheaders)) \u001b[38;5;28;01mas\u001b[39;00m response:\n\u001b[1;32m     64\u001b[0m         \u001b[38;5;28;01mif\u001b[39;00m response\u001b[38;5;241m.\u001b[39murl \u001b[38;5;241m==\u001b[39m url \u001b[38;5;129;01mor\u001b[39;00m response\u001b[38;5;241m.\u001b[39murl \u001b[38;5;129;01mis\u001b[39;00m \u001b[38;5;28;01mNone\u001b[39;00m:\n\u001b[1;32m     65\u001b[0m             \u001b[38;5;28;01mreturn\u001b[39;00m url\n",
            "File \u001b[0;32m~/Downloads/anaconda3/lib/python3.12/urllib/request.py:215\u001b[0m, in \u001b[0;36murlopen\u001b[0;34m(url, data, timeout, cafile, capath, cadefault, context)\u001b[0m\n\u001b[1;32m    213\u001b[0m \u001b[38;5;28;01melse\u001b[39;00m:\n\u001b[1;32m    214\u001b[0m     opener \u001b[38;5;241m=\u001b[39m _opener\n\u001b[0;32m--> 215\u001b[0m \u001b[38;5;28;01mreturn\u001b[39;00m opener\u001b[38;5;241m.\u001b[39mopen(url, data, timeout)\n",
            "File \u001b[0;32m~/Downloads/anaconda3/lib/python3.12/urllib/request.py:515\u001b[0m, in \u001b[0;36mOpenerDirector.open\u001b[0;34m(self, fullurl, data, timeout)\u001b[0m\n\u001b[1;32m    512\u001b[0m     req \u001b[38;5;241m=\u001b[39m meth(req)\n\u001b[1;32m    514\u001b[0m sys\u001b[38;5;241m.\u001b[39maudit(\u001b[38;5;124m'\u001b[39m\u001b[38;5;124murllib.Request\u001b[39m\u001b[38;5;124m'\u001b[39m, req\u001b[38;5;241m.\u001b[39mfull_url, req\u001b[38;5;241m.\u001b[39mdata, req\u001b[38;5;241m.\u001b[39mheaders, req\u001b[38;5;241m.\u001b[39mget_method())\n\u001b[0;32m--> 515\u001b[0m response \u001b[38;5;241m=\u001b[39m \u001b[38;5;28mself\u001b[39m\u001b[38;5;241m.\u001b[39m_open(req, data)\n\u001b[1;32m    517\u001b[0m \u001b[38;5;66;03m# post-process response\u001b[39;00m\n\u001b[1;32m    518\u001b[0m meth_name \u001b[38;5;241m=\u001b[39m protocol\u001b[38;5;241m+\u001b[39m\u001b[38;5;124m\"\u001b[39m\u001b[38;5;124m_response\u001b[39m\u001b[38;5;124m\"\u001b[39m\n",
            "File \u001b[0;32m~/Downloads/anaconda3/lib/python3.12/urllib/request.py:532\u001b[0m, in \u001b[0;36mOpenerDirector._open\u001b[0;34m(self, req, data)\u001b[0m\n\u001b[1;32m    529\u001b[0m     \u001b[38;5;28;01mreturn\u001b[39;00m result\n\u001b[1;32m    531\u001b[0m protocol \u001b[38;5;241m=\u001b[39m req\u001b[38;5;241m.\u001b[39mtype\n\u001b[0;32m--> 532\u001b[0m result \u001b[38;5;241m=\u001b[39m \u001b[38;5;28mself\u001b[39m\u001b[38;5;241m.\u001b[39m_call_chain(\u001b[38;5;28mself\u001b[39m\u001b[38;5;241m.\u001b[39mhandle_open, protocol, protocol \u001b[38;5;241m+\u001b[39m\n\u001b[1;32m    533\u001b[0m                           \u001b[38;5;124m'\u001b[39m\u001b[38;5;124m_open\u001b[39m\u001b[38;5;124m'\u001b[39m, req)\n\u001b[1;32m    534\u001b[0m \u001b[38;5;28;01mif\u001b[39;00m result:\n\u001b[1;32m    535\u001b[0m     \u001b[38;5;28;01mreturn\u001b[39;00m result\n",
            "File \u001b[0;32m~/Downloads/anaconda3/lib/python3.12/urllib/request.py:492\u001b[0m, in \u001b[0;36mOpenerDirector._call_chain\u001b[0;34m(self, chain, kind, meth_name, *args)\u001b[0m\n\u001b[1;32m    490\u001b[0m \u001b[38;5;28;01mfor\u001b[39;00m handler \u001b[38;5;129;01min\u001b[39;00m handlers:\n\u001b[1;32m    491\u001b[0m     func \u001b[38;5;241m=\u001b[39m \u001b[38;5;28mgetattr\u001b[39m(handler, meth_name)\n\u001b[0;32m--> 492\u001b[0m     result \u001b[38;5;241m=\u001b[39m func(\u001b[38;5;241m*\u001b[39margs)\n\u001b[1;32m    493\u001b[0m     \u001b[38;5;28;01mif\u001b[39;00m result \u001b[38;5;129;01mis\u001b[39;00m \u001b[38;5;129;01mnot\u001b[39;00m \u001b[38;5;28;01mNone\u001b[39;00m:\n\u001b[1;32m    494\u001b[0m         \u001b[38;5;28;01mreturn\u001b[39;00m result\n",
            "File \u001b[0;32m~/Downloads/anaconda3/lib/python3.12/urllib/request.py:1392\u001b[0m, in \u001b[0;36mHTTPSHandler.https_open\u001b[0;34m(self, req)\u001b[0m\n\u001b[1;32m   1391\u001b[0m \u001b[38;5;28;01mdef\u001b[39;00m \u001b[38;5;21mhttps_open\u001b[39m(\u001b[38;5;28mself\u001b[39m, req):\n\u001b[0;32m-> 1392\u001b[0m     \u001b[38;5;28;01mreturn\u001b[39;00m \u001b[38;5;28mself\u001b[39m\u001b[38;5;241m.\u001b[39mdo_open(http\u001b[38;5;241m.\u001b[39mclient\u001b[38;5;241m.\u001b[39mHTTPSConnection, req,\n\u001b[1;32m   1393\u001b[0m                         context\u001b[38;5;241m=\u001b[39m\u001b[38;5;28mself\u001b[39m\u001b[38;5;241m.\u001b[39m_context)\n",
            "File \u001b[0;32m~/Downloads/anaconda3/lib/python3.12/urllib/request.py:1347\u001b[0m, in \u001b[0;36mAbstractHTTPHandler.do_open\u001b[0;34m(self, http_class, req, **http_conn_args)\u001b[0m\n\u001b[1;32m   1344\u001b[0m         h\u001b[38;5;241m.\u001b[39mrequest(req\u001b[38;5;241m.\u001b[39mget_method(), req\u001b[38;5;241m.\u001b[39mselector, req\u001b[38;5;241m.\u001b[39mdata, headers,\n\u001b[1;32m   1345\u001b[0m                   encode_chunked\u001b[38;5;241m=\u001b[39mreq\u001b[38;5;241m.\u001b[39mhas_header(\u001b[38;5;124m'\u001b[39m\u001b[38;5;124mTransfer-encoding\u001b[39m\u001b[38;5;124m'\u001b[39m))\n\u001b[1;32m   1346\u001b[0m     \u001b[38;5;28;01mexcept\u001b[39;00m \u001b[38;5;167;01mOSError\u001b[39;00m \u001b[38;5;28;01mas\u001b[39;00m err: \u001b[38;5;66;03m# timeout error\u001b[39;00m\n\u001b[0;32m-> 1347\u001b[0m         \u001b[38;5;28;01mraise\u001b[39;00m URLError(err)\n\u001b[1;32m   1348\u001b[0m     r \u001b[38;5;241m=\u001b[39m h\u001b[38;5;241m.\u001b[39mgetresponse()\n\u001b[1;32m   1349\u001b[0m \u001b[38;5;28;01mexcept\u001b[39;00m:\n",
            "\u001b[0;31mURLError\u001b[0m: <urlopen error [SSL: CERTIFICATE_VERIFY_FAILED] certificate verify failed: unable to get local issuer certificate (_ssl.c:1000)>"
          ]
        }
      ],
      "source": [
        "train_data = USPS(root='./USPS/', train=True, download=True)\n",
        "test_data = USPS(root='./USPS/', train=False, download=True)\n",
        "\n",
        "X_train = train_data.data\n",
        "y_train = torch.tensor(train_data.targets, dtype=torch.long)\n",
        "\n",
        "X_test = test_data.data\n",
        "y_test = torch.tensor(test_data.targets, dtype=torch.long)\n",
        "\n",
        "print(X_train.shape)\n",
        "\n",
        "# as imagens do conjunto são 16x16  \n",
        "n_dim = 16 * 16\n",
        "\n",
        "#flatten images\n",
        "X_train = X_train.reshape(-1, n_dim)\n",
        "X_test = X_test.reshape(-1, n_dim)\n",
        "\n",
        "# Ordenando dados\n",
        "sorted_indices_train = torch.argsort(y_train)\n",
        "X_train_sorted = X_train[sorted_indices_train]\n",
        "y_train_sorted = y_train[sorted_indices_train]\n",
        "\n",
        "sorted_indices_test = torch.argsort(y_test)\n",
        "X_test_sorted = X_test[sorted_indices_test]\n",
        "y_test_sorted = y_test[sorted_indices_test]"
      ]
    },
    {
      "cell_type": "code",
      "execution_count": null,
      "metadata": {},
      "outputs": [
        {
          "name": "stdout",
          "output_type": "stream",
          "text": [
            "tensor([0, 1, 2, 3, 4, 5, 6, 7, 8, 9])\n",
            "tensor([0, 1, 2, 3, 4, 5, 6, 7, 8, 9])\n"
          ]
        },
        {
          "data": {
            "text/plain": [
              "tensor([0, 0, 0,  ..., 9, 9, 9])"
            ]
          },
          "execution_count": 26,
          "metadata": {},
          "output_type": "execute_result"
        }
      ],
      "source": [
        "print(y_train_sorted.unique())\n",
        "print(y_test_sorted.unique())\n",
        "\n",
        "y_train_sorted"
      ]
    },
    {
      "cell_type": "code",
      "execution_count": null,
      "metadata": {},
      "outputs": [
        {
          "name": "stdout",
          "output_type": "stream",
          "text": [
            "tensor([0, 1, 2, 3, 4, 5, 6, 7, 8, 9])\n",
            "10\n"
          ]
        }
      ],
      "source": [
        "classes = y_train.unique()\n",
        "print(classes)\n",
        "num_tasks = len(classes)\n",
        "print(num_tasks)"
      ]
    },
    {
      "cell_type": "markdown",
      "metadata": {
        "id": "95zlQCtWzrkR"
      },
      "source": [
        "## Fuzzy ART"
      ]
    },
    {
      "cell_type": "markdown",
      "metadata": {
        "id": "S19EK7Ee0HyS"
      },
      "source": [
        "Aprendizado não supervionado\n"
      ]
    },
    {
      "cell_type": "code",
      "execution_count": null,
      "metadata": {
        "id": "GMVVkFOe4FNS"
      },
      "outputs": [],
      "source": [
        "fuzzy_art_model = FuzzyART(rho=0.3, alpha=0.0, beta=1.0)\n",
        "\n",
        "# Estabelecendo bounds\n",
        "lower_bounds = np.zeros(n_dim) ## Isso foi feito com base no exemplo que está no github da biblioteca\n",
        "upper_bounds = np.full(n_dim, 255.0)\n",
        "\n",
        "fuzzy_art_model.set_data_bounds(lower_bounds, upper_bounds)\n",
        "\n",
        "# Normalização e complement coding\n",
        "train_X_fuzzy_art = fuzzy_art_model.prepare_data(X_train)\n",
        "test_X_fuzzy_art  = fuzzy_art_model.prepare_data(X_test)"
      ]
    },
    {
      "cell_type": "code",
      "execution_count": null,
      "metadata": {
        "id": "Y-XoBt938oaS"
      },
      "outputs": [],
      "source": [
        "fuzzy_art_model.partial_fit(train_X_fuzzy_art)\n",
        "fuzzy_art_predictions = fuzzy_art_model.predict(test_X_fuzzy_art)"
      ]
    },
    {
      "cell_type": "code",
      "execution_count": null,
      "metadata": {
        "colab": {
          "base_uri": "https://localhost:8080/"
        },
        "id": "89Psw4zP9Bg5",
        "outputId": "68fb91cc-4bb7-4002-dc29-af53cd992e61"
      },
      "outputs": [
        {
          "name": "stdout",
          "output_type": "stream",
          "text": [
            "O ARI do modelo FuzzyART foi: 0.04754222620721928\n",
            "O número de clusters foi: 284\n"
          ]
        }
      ],
      "source": [
        "ARI = adjusted_rand_score(y_test,fuzzy_art_predictions)\n",
        "print(f'O ARI do modelo FuzzyART foi: {ARI}')\n",
        "num_clusters = fuzzy_art_model.n_clusters\n",
        "print(f\"O número de clusters foi: {num_clusters}\")"
      ]
    },
    {
      "cell_type": "markdown",
      "metadata": {},
      "source": [
        "<font color=\"red\">Por que tantos clusters?</font> "
      ]
    },
    {
      "cell_type": "code",
      "execution_count": null,
      "metadata": {},
      "outputs": [
        {
          "name": "stdout",
          "output_type": "stream",
          "text": [
            "Classes de treino: tensor([0, 1, 2, 3])\n",
            "Classes de teste: tensor([8])\n",
            "Tarefa 3, Teste classe 8, Tamanho do treino: 3588, Tamanho do teste: 166\n",
            "Classes de treino: tensor([0, 1, 2, 3])\n",
            "Classes de teste: tensor([9])\n",
            "Tarefa 3, Teste classe 9, Tamanho do treino: 3588, Tamanho do teste: 177\n",
            "Classes de treino: tensor([0, 1, 2, 3, 4])\n",
            "Classes de teste: tensor([0])\n",
            "Tarefa 4, Teste classe 0, Tamanho do treino: 4240, Tamanho do teste: 359\n",
            "Classes de treino: tensor([0, 1, 2, 3, 4])\n",
            "Classes de teste: tensor([1])\n",
            "Tarefa 4, Teste classe 1, Tamanho do treino: 4240, Tamanho do teste: 264\n",
            "Classes de treino: tensor([0, 1, 2, 3, 4])\n",
            "Classes de teste: tensor([2])\n",
            "Tarefa 4, Teste classe 2, Tamanho do treino: 4240, Tamanho do teste: 198\n",
            "Classes de treino: tensor([0, 1, 2, 3, 4])\n",
            "Classes de teste: tensor([3])\n",
            "Tarefa 4, Teste classe 3, Tamanho do treino: 4240, Tamanho do teste: 166\n",
            "Classes de treino: tensor([0, 1, 2, 3, 4])\n",
            "Classes de teste: tensor([4])\n",
            "Tarefa 4, Teste classe 4, Tamanho do treino: 4240, Tamanho do teste: 200\n",
            "Classes de treino: tensor([0, 1, 2, 3, 4])\n",
            "Classes de teste: tensor([5])\n",
            "Tarefa 4, Teste classe 5, Tamanho do treino: 4240, Tamanho do teste: 160\n",
            "Classes de treino: tensor([0, 1, 2, 3, 4])\n",
            "Classes de teste: tensor([6])\n",
            "Tarefa 4, Teste classe 6, Tamanho do treino: 4240, Tamanho do teste: 170\n",
            "Classes de treino: tensor([0, 1, 2, 3, 4])\n",
            "Classes de teste: tensor([7])\n",
            "Tarefa 4, Teste classe 7, Tamanho do treino: 4240, Tamanho do teste: 147\n",
            "Classes de treino: tensor([0, 1, 2, 3, 4])\n",
            "Classes de teste: tensor([8])\n",
            "Tarefa 4, Teste classe 8, Tamanho do treino: 4240, Tamanho do teste: 166\n",
            "Classes de treino: tensor([0, 1, 2, 3, 4])\n",
            "Classes de teste: tensor([9])\n",
            "Tarefa 4, Teste classe 9, Tamanho do treino: 4240, Tamanho do teste: 177\n",
            "Classes de treino: tensor([0, 1, 2, 3, 4, 5])\n",
            "Classes de teste: tensor([0])\n",
            "Tarefa 5, Teste classe 0, Tamanho do treino: 4796, Tamanho do teste: 359\n",
            "Classes de treino: tensor([0, 1, 2, 3, 4, 5])\n",
            "Classes de teste: tensor([1])\n",
            "Tarefa 5, Teste classe 1, Tamanho do treino: 4796, Tamanho do teste: 264\n",
            "Classes de treino: tensor([0, 1, 2, 3, 4, 5])\n",
            "Classes de teste: tensor([2])\n",
            "Tarefa 5, Teste classe 2, Tamanho do treino: 4796, Tamanho do teste: 198\n",
            "Classes de treino: tensor([0, 1, 2, 3, 4, 5])\n",
            "Classes de teste: tensor([3])\n",
            "Tarefa 5, Teste classe 3, Tamanho do treino: 4796, Tamanho do teste: 166\n",
            "Classes de treino: tensor([0, 1, 2, 3, 4, 5])\n",
            "Classes de teste: tensor([4])\n",
            "Tarefa 5, Teste classe 4, Tamanho do treino: 4796, Tamanho do teste: 200\n",
            "Classes de treino: tensor([0, 1, 2, 3, 4, 5])\n",
            "Classes de teste: tensor([5])\n",
            "Tarefa 5, Teste classe 5, Tamanho do treino: 4796, Tamanho do teste: 160\n",
            "Classes de treino: tensor([0, 1, 2, 3, 4, 5])\n",
            "Classes de teste: tensor([6])\n",
            "Tarefa 5, Teste classe 6, Tamanho do treino: 4796, Tamanho do teste: 170\n",
            "Classes de treino: tensor([0, 1, 2, 3, 4, 5])\n",
            "Classes de teste: tensor([7])\n",
            "Tarefa 5, Teste classe 7, Tamanho do treino: 4796, Tamanho do teste: 147\n",
            "Classes de treino: tensor([0, 1, 2, 3, 4, 5])\n",
            "Classes de teste: tensor([8])\n",
            "Tarefa 5, Teste classe 8, Tamanho do treino: 4796, Tamanho do teste: 166\n",
            "Classes de treino: tensor([0, 1, 2, 3, 4, 5])\n",
            "Classes de teste: tensor([9])\n",
            "Tarefa 5, Teste classe 9, Tamanho do treino: 4796, Tamanho do teste: 177\n",
            "Classes de treino: tensor([0, 1, 2, 3, 4, 5, 6])\n",
            "Classes de teste: tensor([0])\n",
            "Tarefa 6, Teste classe 0, Tamanho do treino: 5460, Tamanho do teste: 359\n",
            "Classes de treino: tensor([0, 1, 2, 3, 4, 5, 6])\n",
            "Classes de teste: tensor([1])\n",
            "Tarefa 6, Teste classe 1, Tamanho do treino: 5460, Tamanho do teste: 264\n",
            "Classes de treino: tensor([0, 1, 2, 3, 4, 5, 6])\n",
            "Classes de teste: tensor([2])\n",
            "Tarefa 6, Teste classe 2, Tamanho do treino: 5460, Tamanho do teste: 198\n",
            "Classes de treino: tensor([0, 1, 2, 3, 4, 5, 6])\n",
            "Classes de teste: tensor([3])\n",
            "Tarefa 6, Teste classe 3, Tamanho do treino: 5460, Tamanho do teste: 166\n",
            "Classes de treino: tensor([0, 1, 2, 3, 4, 5, 6])\n",
            "Classes de teste: tensor([4])\n",
            "Tarefa 6, Teste classe 4, Tamanho do treino: 5460, Tamanho do teste: 200\n",
            "Classes de treino: tensor([0, 1, 2, 3, 4, 5, 6])\n",
            "Classes de teste: tensor([5])\n",
            "Tarefa 6, Teste classe 5, Tamanho do treino: 5460, Tamanho do teste: 160\n",
            "Classes de treino: tensor([0, 1, 2, 3, 4, 5, 6])\n",
            "Classes de teste: tensor([6])\n",
            "Tarefa 6, Teste classe 6, Tamanho do treino: 5460, Tamanho do teste: 170\n",
            "Classes de treino: tensor([0, 1, 2, 3, 4, 5, 6])\n",
            "Classes de teste: tensor([7])\n",
            "Tarefa 6, Teste classe 7, Tamanho do treino: 5460, Tamanho do teste: 147\n",
            "Classes de treino: tensor([0, 1, 2, 3, 4, 5, 6])\n",
            "Classes de teste: tensor([8])\n",
            "Tarefa 6, Teste classe 8, Tamanho do treino: 5460, Tamanho do teste: 166\n",
            "Classes de treino: tensor([0, 1, 2, 3, 4, 5, 6])\n",
            "Classes de teste: tensor([9])\n",
            "Tarefa 6, Teste classe 9, Tamanho do treino: 5460, Tamanho do teste: 177\n",
            "Classes de treino: tensor([0, 1, 2, 3, 4, 5, 6, 7])\n",
            "Classes de teste: tensor([0])\n",
            "Tarefa 7, Teste classe 0, Tamanho do treino: 6105, Tamanho do teste: 359\n",
            "Classes de treino: tensor([0, 1, 2, 3, 4, 5, 6, 7])\n",
            "Classes de teste: tensor([1])\n",
            "Tarefa 7, Teste classe 1, Tamanho do treino: 6105, Tamanho do teste: 264\n",
            "Classes de treino: tensor([0, 1, 2, 3, 4, 5, 6, 7])\n",
            "Classes de teste: tensor([2])\n",
            "Tarefa 7, Teste classe 2, Tamanho do treino: 6105, Tamanho do teste: 198\n",
            "Classes de treino: tensor([0, 1, 2, 3, 4, 5, 6, 7])\n",
            "Classes de teste: tensor([3])\n",
            "Tarefa 7, Teste classe 3, Tamanho do treino: 6105, Tamanho do teste: 166\n",
            "Classes de treino: tensor([0, 1, 2, 3, 4, 5, 6, 7])\n",
            "Classes de teste: tensor([4])\n",
            "Tarefa 7, Teste classe 4, Tamanho do treino: 6105, Tamanho do teste: 200\n",
            "Classes de treino: tensor([0, 1, 2, 3, 4, 5, 6, 7])\n",
            "Classes de teste: tensor([5])\n",
            "Tarefa 7, Teste classe 5, Tamanho do treino: 6105, Tamanho do teste: 160\n",
            "Classes de treino: tensor([0, 1, 2, 3, 4, 5, 6, 7])\n",
            "Classes de teste: tensor([6])\n",
            "Tarefa 7, Teste classe 6, Tamanho do treino: 6105, Tamanho do teste: 170\n",
            "Classes de treino: tensor([0, 1, 2, 3, 4, 5, 6, 7])\n",
            "Classes de teste: tensor([7])\n",
            "Tarefa 7, Teste classe 7, Tamanho do treino: 6105, Tamanho do teste: 147\n",
            "Classes de treino: tensor([0, 1, 2, 3, 4, 5, 6, 7])\n",
            "Classes de teste: tensor([8])\n",
            "Tarefa 7, Teste classe 8, Tamanho do treino: 6105, Tamanho do teste: 166\n",
            "Classes de treino: tensor([0, 1, 2, 3, 4, 5, 6, 7])\n",
            "Classes de teste: tensor([9])\n",
            "Tarefa 7, Teste classe 9, Tamanho do treino: 6105, Tamanho do teste: 177\n",
            "Classes de treino: tensor([0, 1, 2, 3, 4, 5, 6, 7, 8])\n",
            "Classes de teste: tensor([0])\n",
            "Tarefa 8, Teste classe 0, Tamanho do treino: 6647, Tamanho do teste: 359\n",
            "Classes de treino: tensor([0, 1, 2, 3, 4, 5, 6, 7, 8])\n",
            "Classes de teste: tensor([1])\n",
            "Tarefa 8, Teste classe 1, Tamanho do treino: 6647, Tamanho do teste: 264\n",
            "Classes de treino: tensor([0, 1, 2, 3, 4, 5, 6, 7, 8])\n",
            "Classes de teste: tensor([2])\n",
            "Tarefa 8, Teste classe 2, Tamanho do treino: 6647, Tamanho do teste: 198\n",
            "Classes de treino: tensor([0, 1, 2, 3, 4, 5, 6, 7, 8])\n",
            "Classes de teste: tensor([3])\n",
            "Tarefa 8, Teste classe 3, Tamanho do treino: 6647, Tamanho do teste: 166\n",
            "Classes de treino: tensor([0, 1, 2, 3, 4, 5, 6, 7, 8])\n",
            "Classes de teste: tensor([4])\n",
            "Tarefa 8, Teste classe 4, Tamanho do treino: 6647, Tamanho do teste: 200\n",
            "Classes de treino: tensor([0, 1, 2, 3, 4, 5, 6, 7, 8])\n",
            "Classes de teste: tensor([5])\n",
            "Tarefa 8, Teste classe 5, Tamanho do treino: 6647, Tamanho do teste: 160\n",
            "Classes de treino: tensor([0, 1, 2, 3, 4, 5, 6, 7, 8])\n",
            "Classes de teste: tensor([6])\n",
            "Tarefa 8, Teste classe 6, Tamanho do treino: 6647, Tamanho do teste: 170\n",
            "Classes de treino: tensor([0, 1, 2, 3, 4, 5, 6, 7, 8])\n",
            "Classes de teste: tensor([7])\n",
            "Tarefa 8, Teste classe 7, Tamanho do treino: 6647, Tamanho do teste: 147\n",
            "Classes de treino: tensor([0, 1, 2, 3, 4, 5, 6, 7, 8])\n",
            "Classes de teste: tensor([8])\n",
            "Tarefa 8, Teste classe 8, Tamanho do treino: 6647, Tamanho do teste: 166\n",
            "Classes de treino: tensor([0, 1, 2, 3, 4, 5, 6, 7, 8])\n",
            "Classes de teste: tensor([9])\n",
            "Tarefa 8, Teste classe 9, Tamanho do treino: 6647, Tamanho do teste: 177\n",
            "Classes de treino: tensor([0, 1, 2, 3, 4, 5, 6, 7, 8, 9])\n",
            "Classes de teste: tensor([0])\n",
            "Tarefa 9, Teste classe 0, Tamanho do treino: 7291, Tamanho do teste: 359\n",
            "Classes de treino: tensor([0, 1, 2, 3, 4, 5, 6, 7, 8, 9])\n",
            "Classes de teste: tensor([1])\n",
            "Tarefa 9, Teste classe 1, Tamanho do treino: 7291, Tamanho do teste: 264\n",
            "Classes de treino: tensor([0, 1, 2, 3, 4, 5, 6, 7, 8, 9])\n",
            "Classes de teste: tensor([2])\n",
            "Tarefa 9, Teste classe 2, Tamanho do treino: 7291, Tamanho do teste: 198\n",
            "Classes de treino: tensor([0, 1, 2, 3, 4, 5, 6, 7, 8, 9])\n",
            "Classes de teste: tensor([3])\n",
            "Tarefa 9, Teste classe 3, Tamanho do treino: 7291, Tamanho do teste: 166\n",
            "Classes de treino: tensor([0, 1, 2, 3, 4, 5, 6, 7, 8, 9])\n",
            "Classes de teste: tensor([4])\n",
            "Tarefa 9, Teste classe 4, Tamanho do treino: 7291, Tamanho do teste: 200\n",
            "Classes de treino: tensor([0, 1, 2, 3, 4, 5, 6, 7, 8, 9])\n",
            "Classes de teste: tensor([5])\n",
            "Tarefa 9, Teste classe 5, Tamanho do treino: 7291, Tamanho do teste: 160\n",
            "Classes de treino: tensor([0, 1, 2, 3, 4, 5, 6, 7, 8, 9])\n",
            "Classes de teste: tensor([6])\n",
            "Tarefa 9, Teste classe 6, Tamanho do treino: 7291, Tamanho do teste: 170\n",
            "Classes de treino: tensor([0, 1, 2, 3, 4, 5, 6, 7, 8, 9])\n",
            "Classes de teste: tensor([7])\n",
            "Tarefa 9, Teste classe 7, Tamanho do treino: 7291, Tamanho do teste: 147\n",
            "Classes de treino: tensor([0, 1, 2, 3, 4, 5, 6, 7, 8, 9])\n",
            "Classes de teste: tensor([8])\n",
            "Tarefa 9, Teste classe 8, Tamanho do treino: 7291, Tamanho do teste: 166\n",
            "Classes de treino: tensor([0, 1, 2, 3, 4, 5, 6, 7, 8, 9])\n",
            "Classes de teste: tensor([9])\n",
            "Tarefa 9, Teste classe 9, Tamanho do treino: 7291, Tamanho do teste: 177\n"
          ]
        }
      ],
      "source": [
        "acc_matrix = generate_acc_matrix_fuzzyART(num_tasks, X_train_sorted, y_train_sorted, \n",
        "                                            X_test_sorted, y_test_sorted, 1)\n",
        "\n",
        "\n",
        "\n"
      ]
    },
    {
      "cell_type": "code",
      "execution_count": null,
      "metadata": {},
      "outputs": [
        {
          "name": "stdout",
          "output_type": "stream",
          "text": [
            "[[0.000000 0.000000 0.000000 0.000000 0.000000 0.000000 0.000000 0.000000\n",
            "  0.000000 0.000000]\n",
            " [0.000000 0.000000 0.000000 0.000000 0.000000 0.000000 0.000000 0.000000\n",
            "  0.000000 0.000000]\n",
            " [0.000000 0.000000 0.000000 0.000000 0.000000 0.000000 0.000000 0.000000\n",
            "  0.000000 0.000000]\n",
            " [0.000000 0.000000 0.000000 0.000000 0.000000 0.000000 0.000000 0.000000\n",
            "  0.000000 0.000000]\n",
            " [0.000000 0.000000 0.000000 0.000000 0.000000 0.000000 0.000000 0.000000\n",
            "  0.000000 0.000000]\n",
            " [0.000000 0.000000 0.000000 0.000000 0.000000 0.000000 0.000000 0.000000\n",
            "  0.000000 0.000000]\n",
            " [0.000000 0.000000 0.000000 0.000000 0.000000 0.000000 0.000000 0.000000\n",
            "  0.000000 0.000000]\n",
            " [0.000000 0.000000 0.000000 0.000000 0.000000 0.000000 0.000000 0.000000\n",
            "  0.000000 0.000000]\n",
            " [0.000000 0.000000 0.000000 0.000000 0.000000 0.000000 0.000000 0.000000\n",
            "  0.000000 0.000000]\n",
            " [0.000000 0.000000 0.000000 0.000000 0.000000 0.000000 0.000000 0.000000\n",
            "  0.000000 0.000000]]\n"
          ]
        }
      ],
      "source": [
        "np.set_printoptions(precision=6, suppress=False, floatmode='fixed')\n",
        "\n",
        "print(np.array(acc_matrix))"
      ]
    },
    {
      "cell_type": "code",
      "execution_count": null,
      "metadata": {},
      "outputs": [
        {
          "ename": "NameError",
          "evalue": "name 'forward_transfer' is not defined",
          "output_type": "error",
          "traceback": [
            "\u001b[0;31m---------------------------------------------------------------------------\u001b[0m",
            "\u001b[0;31mNameError\u001b[0m                                 Traceback (most recent call last)",
            "Cell \u001b[0;32mIn[33], line 1\u001b[0m\n\u001b[0;32m----> 1\u001b[0m \u001b[38;5;28mprint\u001b[39m(\u001b[38;5;124mf\u001b[39m\u001b[38;5;124m\"\u001b[39m\u001b[38;5;124mForward transfer: \u001b[39m\u001b[38;5;132;01m{\u001b[39;00mforward_transfer(num_tasks,\u001b[38;5;250m \u001b[39macc_matrix)\u001b[38;5;132;01m:\u001b[39;00m\u001b[38;5;124m.6f\u001b[39m\u001b[38;5;132;01m}\u001b[39;00m\u001b[38;5;124m\"\u001b[39m)\n\u001b[1;32m      2\u001b[0m \u001b[38;5;28mprint\u001b[39m(\u001b[38;5;124mf\u001b[39m\u001b[38;5;124m\"\u001b[39m\u001b[38;5;124mBackward transfer: \u001b[39m\u001b[38;5;132;01m{\u001b[39;00mbackward_transfer(num_tasks,\u001b[38;5;250m \u001b[39macc_matrix)\u001b[38;5;132;01m:\u001b[39;00m\u001b[38;5;124m.6f\u001b[39m\u001b[38;5;132;01m}\u001b[39;00m\u001b[38;5;124m\"\u001b[39m)\n\u001b[1;32m      3\u001b[0m \u001b[38;5;28mprint\u001b[39m(\u001b[38;5;124mf\u001b[39m\u001b[38;5;124m\"\u001b[39m\u001b[38;5;124mAverage Accuracy: \u001b[39m\u001b[38;5;132;01m{\u001b[39;00maverage_accuracy(num_tasks,\u001b[38;5;250m \u001b[39macc_matrix)\u001b[38;5;132;01m:\u001b[39;00m\u001b[38;5;124m.6f\u001b[39m\u001b[38;5;132;01m}\u001b[39;00m\u001b[38;5;124m\"\u001b[39m)\n",
            "\u001b[0;31mNameError\u001b[0m: name 'forward_transfer' is not defined"
          ]
        }
      ],
      "source": [
        "print(f\"Forward transfer: {forward_transfer(num_tasks, acc_matrix):.6f}\")\n",
        "print(f\"Backward transfer: {backward_transfer(num_tasks, acc_matrix):.6f}\")\n",
        "print(f\"Average Accuracy: {average_accuracy(num_tasks, acc_matrix):.6f}\")\n"
      ]
    },
    {
      "cell_type": "markdown",
      "metadata": {},
      "source": [
        "<font color=\"red\" oi>"
      ]
    }
  ],
  "metadata": {
    "colab": {
      "collapsed_sections": [
        "6w4BE74LtjLR",
        "-3NYKMpe0zpo"
      ],
      "provenance": []
    },
    "kernelspec": {
      "display_name": "base",
      "language": "python",
      "name": "python3"
    },
    "language_info": {
      "codemirror_mode": {
        "name": "ipython",
        "version": 3
      },
      "file_extension": ".py",
      "mimetype": "text/x-python",
      "name": "python",
      "nbconvert_exporter": "python",
      "pygments_lexer": "ipython3",
      "version": "3.12.7"
    }
  },
  "nbformat": 4,
  "nbformat_minor": 0
}
