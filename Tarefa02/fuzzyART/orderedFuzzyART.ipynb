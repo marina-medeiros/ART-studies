{
  "cells": [
    {
      "cell_type": "markdown",
      "metadata": {
        "id": "08c869a5"
      },
      "source": [
        "# Fuzzy ART com classes ordenadas"
      ]
    },
    {
      "cell_type": "markdown",
      "metadata": {
        "id": "8eefe2b7"
      },
      "source": [
        "## Importando bibliotecas"
      ]
    },
    {
      "cell_type": "code",
      "execution_count": 1,
      "metadata": {
        "colab": {
          "base_uri": "https://localhost:8080/"
        },
        "collapsed": true,
        "id": "SIPZQd1aoIDf",
        "outputId": "9b9fa6d9-a80c-4378-a6ef-0fff5da12d5e"
      },
      "outputs": [
        {
          "name": "stdout",
          "output_type": "stream",
          "text": [
            "Requirement already satisfied: artlib in /home/marina/Downloads/anaconda3/lib/python3.12/site-packages (0.1.7)\n",
            "Note: you may need to restart the kernel to use updated packages.\n"
          ]
        }
      ],
      "source": [
        "%pip install artlib"
      ]
    },
    {
      "cell_type": "code",
      "execution_count": 2,
      "metadata": {
        "collapsed": true,
        "id": "10777266"
      },
      "outputs": [],
      "source": [
        "import torch\n",
        "from torchvision import datasets, transforms\n",
        "import torchvision.transforms as transforms\n",
        "from torchvision.datasets import USPS\n",
        "from artlib import FuzzyART, FuzzyARTMAP, FusionART\n",
        "from sklearn.metrics import classification_report, adjusted_rand_score, confusion_matrix, ConfusionMatrixDisplay\n",
        "import matplotlib.pyplot as plt\n",
        "import numpy as np\n",
        "import pandas as pd\n",
        "from sklearn.utils import resample\n",
        "from pyclustertend import vat\n",
        "from sklearn.preprocessing import StandardScaler\n",
        "from sklearn.model_selection import train_test_split"
      ]
    },
    {
      "cell_type": "markdown",
      "metadata": {},
      "source": [
        "## Métricas"
      ]
    },
    {
      "cell_type": "markdown",
      "metadata": {},
      "source": [
        "As mesmas funcões podem ser encontradas na pasta 'dados_ordenados/metricas'"
      ]
    },
    {
      "cell_type": "code",
      "execution_count": 3,
      "metadata": {},
      "outputs": [],
      "source": [
        "def generate_acc_matrix_fuzzyART(num_tasks, X_train_sorted, y_train_sorted, X_test_sorted, y_test_sorted, images):\n",
        "    train_subsets = []\n",
        "    test_subsets = []\n",
        "\n",
        "    acc_matrix = [[0 for _ in range(num_tasks)] for _ in range(num_tasks)]\n",
        "\n",
        "    fuzzy_art_model = FuzzyART(rho=0.1, alpha=0.0, beta=1.0)\n",
        "\n",
        "    if(images):\n",
        "        lower_bounds = np.zeros(16*16)\n",
        "        upper_bounds = np.full(16*16, 255.0)\n",
        "        fuzzy_art_model.set_data_bounds(lower_bounds, upper_bounds)\n",
        "    else:\n",
        "        X_combined = np.concatenate([X_train_subset, X_test_subset], axis=0)\n",
        "        lower_bound, upper_bound = fuzzy_art_model.find_data_bounds(X_combined)\n",
        "        fuzzy_art_model.set_data_bounds(lower_bound, upper_bound)\n",
        "\n",
        "    for i in range(num_tasks):\n",
        "        for j in range(num_tasks):\n",
        "            # Classes até a i-ésima (inclusive)\n",
        "            train_classes = torch.arange(0, i + 1)\n",
        "\n",
        "            # Máscara de seleção para treino: todas as classes <= i\n",
        "            mask_train = torch.isin(y_train_sorted, train_classes)\n",
        "            X_train_subset = X_train_sorted[mask_train]\n",
        "            y_train_subset = y_train_sorted[mask_train]\n",
        "\n",
        "            # Máscara de seleção para teste: apenas a classe j\n",
        "            mask_test = (y_test_sorted == j)\n",
        "            X_test_subset = X_test_sorted[mask_test]\n",
        "            y_test_subset = y_test_sorted[mask_test]\n",
        "\n",
        "            # Armazena os subconjuntos (opcional)\n",
        "            train_subsets.append((X_train_subset, y_train_subset))\n",
        "            test_subsets.append((X_test_subset, y_test_subset))\n",
        "\n",
        "            if len(X_train_subset) == 0 or len(X_test_subset) == 0:\n",
        "                print(\"Problema: subconjunto de dados vazio\")\n",
        "                acc_matrix[i][j] = 0.0\n",
        "                continue\n",
        "        \n",
        "            train_X_fuzzy_art = fuzzy_art_model.prepare_data(X_train_subset)\n",
        "            test_X_fuzzy_art  = fuzzy_art_model.prepare_data(X_test_subset)\n",
        "\n",
        "            fuzzy_art_model.partial_fit(train_X_fuzzy_art)\n",
        "            fuzzy_art_predictions = fuzzy_art_model.predict(test_X_fuzzy_art)\n",
        "\n",
        "            acc_matrix[i][j] = adjusted_rand_score(y_test_subset, fuzzy_art_predictions)\n",
        "\n",
        "    return acc_matrix"
      ]
    },
    {
      "cell_type": "code",
      "execution_count": 4,
      "metadata": {},
      "outputs": [],
      "source": [
        "def average_accuracy(num_tasks, acc_matrix):\n",
        "  denominator = num_tasks*(num_tasks+1)/2\n",
        "  acc_sum = 0\n",
        "\n",
        "  for i in range(num_tasks):\n",
        "    for j in range(i):\n",
        "      acc_sum += acc_matrix[i][j]\n",
        "\n",
        "  return (acc_sum / denominator)\n",
        "\n",
        "def backward_transfer(num_tasks, acc_matrix):\n",
        "  denominator = num_tasks*(num_tasks-1)/2\n",
        "  acc_sum = 0\n",
        "\n",
        "  for i in range(2, num_tasks):\n",
        "    for j in range(i-1):\n",
        "      acc_sum += (acc_matrix[i][j] - acc_matrix[j][j])\n",
        "\n",
        "  return (acc_sum / denominator)\n",
        "\n",
        "def forward_transfer(num_tasks, acc_matrix):\n",
        "  denominator = num_tasks*(num_tasks-1)/2\n",
        "  acc_sum = 0\n",
        "  j = 0\n",
        "\n",
        "  for i in range(j-1):\n",
        "    for j in range(2, num_tasks):\n",
        "      acc_sum = acc_sum + acc_matrix[i][j]\n",
        "\n",
        "  return (acc_sum / denominator)"
      ]
    },
    {
      "cell_type": "markdown",
      "metadata": {
        "id": "kjGNh0Sp3-GK"
      },
      "source": [
        "## Baixando e ordenando dados"
      ]
    },
    {
      "cell_type": "code",
      "execution_count": 5,
      "metadata": {
        "colab": {
          "base_uri": "https://localhost:8080/"
        },
        "id": "2SA-8QXLzusy",
        "outputId": "d0c55269-5a9d-416e-c42f-213c70730611"
      },
      "outputs": [
        {
          "name": "stdout",
          "output_type": "stream",
          "text": [
            "(7291, 16, 16)\n"
          ]
        }
      ],
      "source": [
        "train_data = USPS(root='./USPS/', train=True, download=True)\n",
        "test_data = USPS(root='./USPS/', train=False, download=True)\n",
        "\n",
        "X_train = train_data.data\n",
        "y_train = torch.tensor(train_data.targets, dtype=torch.long)\n",
        "\n",
        "X_test = test_data.data\n",
        "y_test = torch.tensor(test_data.targets, dtype=torch.long)\n",
        "\n",
        "print(X_train.shape)\n",
        "\n",
        "# as imagens do conjunto são 16x16  \n",
        "n_dim = 16 * 16\n",
        "\n",
        "#flatten images\n",
        "X_train = X_train.reshape(-1, n_dim)\n",
        "X_test = X_test.reshape(-1, n_dim)\n",
        "\n",
        "# Ordenando dados\n",
        "sorted_indices_train = torch.argsort(y_train)\n",
        "X_train_sorted = X_train[sorted_indices_train]\n",
        "y_train_sorted = y_train[sorted_indices_train]\n",
        "\n",
        "sorted_indices_test = torch.argsort(y_test)\n",
        "X_test_sorted = X_test[sorted_indices_test]\n",
        "y_test_sorted = y_test[sorted_indices_test]"
      ]
    },
    {
      "cell_type": "code",
      "execution_count": 6,
      "metadata": {},
      "outputs": [
        {
          "name": "stdout",
          "output_type": "stream",
          "text": [
            "tensor([0, 1, 2, 3, 4, 5, 6, 7, 8, 9])\n",
            "tensor([0, 1, 2, 3, 4, 5, 6, 7, 8, 9])\n"
          ]
        },
        {
          "data": {
            "text/plain": [
              "tensor([0, 0, 0,  ..., 9, 9, 9])"
            ]
          },
          "execution_count": 6,
          "metadata": {},
          "output_type": "execute_result"
        }
      ],
      "source": [
        "print(y_train_sorted.unique())\n",
        "print(y_test_sorted.unique())\n",
        "\n",
        "y_train_sorted"
      ]
    },
    {
      "cell_type": "code",
      "execution_count": 7,
      "metadata": {},
      "outputs": [
        {
          "name": "stdout",
          "output_type": "stream",
          "text": [
            "tensor([0, 1, 2, 3, 4, 5, 6, 7, 8, 9])\n",
            "10\n"
          ]
        }
      ],
      "source": [
        "classes = y_train.unique()\n",
        "print(classes)\n",
        "num_tasks = len(classes)\n",
        "print(num_tasks)"
      ]
    },
    {
      "cell_type": "markdown",
      "metadata": {
        "id": "95zlQCtWzrkR"
      },
      "source": [
        "## Fuzzy ART"
      ]
    },
    {
      "cell_type": "markdown",
      "metadata": {
        "id": "S19EK7Ee0HyS"
      },
      "source": [
        "Aprendizado não supervionado\n"
      ]
    },
    {
      "cell_type": "code",
      "execution_count": 8,
      "metadata": {
        "id": "GMVVkFOe4FNS"
      },
      "outputs": [],
      "source": [
        "fuzzy_art_model = FuzzyART(rho=0.9, alpha=0.0, beta=1.0)\n",
        "\n",
        "# Estabelecendo bounds\n",
        "lower_bounds = np.zeros(n_dim) ## Isso foi feito com base no exemplo que está no github da biblioteca\n",
        "upper_bounds = np.full(n_dim, 255.0)\n",
        "\n",
        "fuzzy_art_model.set_data_bounds(lower_bounds, upper_bounds)\n",
        "\n",
        "# Normalização e complement coding\n",
        "train_X_fuzzy_art = fuzzy_art_model.prepare_data(X_train)\n",
        "test_X_fuzzy_art  = fuzzy_art_model.prepare_data(X_test)"
      ]
    },
    {
      "cell_type": "code",
      "execution_count": 9,
      "metadata": {
        "id": "Y-XoBt938oaS"
      },
      "outputs": [
        {
          "ename": "KeyboardInterrupt",
          "evalue": "",
          "output_type": "error",
          "traceback": [
            "\u001b[0;31m---------------------------------------------------------------------------\u001b[0m",
            "\u001b[0;31mKeyboardInterrupt\u001b[0m                         Traceback (most recent call last)",
            "Cell \u001b[0;32mIn[9], line 1\u001b[0m\n\u001b[0;32m----> 1\u001b[0m fuzzy_art_model\u001b[38;5;241m.\u001b[39mpartial_fit(train_X_fuzzy_art)\n\u001b[1;32m      2\u001b[0m fuzzy_art_predictions \u001b[38;5;241m=\u001b[39m fuzzy_art_model\u001b[38;5;241m.\u001b[39mpredict(test_X_fuzzy_art)\n",
            "File \u001b[0;32m~/Downloads/anaconda3/lib/python3.12/site-packages/artlib/common/BaseART.py:711\u001b[0m, in \u001b[0;36mBaseART.partial_fit\u001b[0;34m(self, X, match_reset_func, match_tracking, epsilon)\u001b[0m\n\u001b[1;32m    709\u001b[0m     \u001b[38;5;28mself\u001b[39m\u001b[38;5;241m.\u001b[39mlabels_ \u001b[38;5;241m=\u001b[39m np\u001b[38;5;241m.\u001b[39mpad(\u001b[38;5;28mself\u001b[39m\u001b[38;5;241m.\u001b[39mlabels_, [(\u001b[38;5;241m0\u001b[39m, X\u001b[38;5;241m.\u001b[39mshape[\u001b[38;5;241m0\u001b[39m])], mode\u001b[38;5;241m=\u001b[39m\u001b[38;5;124m\"\u001b[39m\u001b[38;5;124mconstant\u001b[39m\u001b[38;5;124m\"\u001b[39m)\n\u001b[1;32m    710\u001b[0m \u001b[38;5;28;01mfor\u001b[39;00m i, x \u001b[38;5;129;01min\u001b[39;00m \u001b[38;5;28menumerate\u001b[39m(X):\n\u001b[0;32m--> 711\u001b[0m     c \u001b[38;5;241m=\u001b[39m \u001b[38;5;28mself\u001b[39m\u001b[38;5;241m.\u001b[39mstep_fit(\n\u001b[1;32m    712\u001b[0m         x,\n\u001b[1;32m    713\u001b[0m         match_reset_func\u001b[38;5;241m=\u001b[39mmatch_reset_func,\n\u001b[1;32m    714\u001b[0m         match_tracking\u001b[38;5;241m=\u001b[39mmatch_tracking,\n\u001b[1;32m    715\u001b[0m         epsilon\u001b[38;5;241m=\u001b[39mepsilon,\n\u001b[1;32m    716\u001b[0m     )\n\u001b[1;32m    717\u001b[0m     \u001b[38;5;28mself\u001b[39m\u001b[38;5;241m.\u001b[39mlabels_[i \u001b[38;5;241m+\u001b[39m j] \u001b[38;5;241m=\u001b[39m c\n\u001b[1;32m    718\u001b[0m \u001b[38;5;28;01mreturn\u001b[39;00m \u001b[38;5;28mself\u001b[39m\n",
            "File \u001b[0;32m~/Downloads/anaconda3/lib/python3.12/site-packages/artlib/common/BaseART.py:528\u001b[0m, in \u001b[0;36mBaseART.step_fit\u001b[0;34m(self, x, match_reset_func, match_tracking, epsilon)\u001b[0m\n\u001b[1;32m    526\u001b[0m T \u001b[38;5;241m=\u001b[39m np\u001b[38;5;241m.\u001b[39marray(T_values)\n\u001b[1;32m    527\u001b[0m \u001b[38;5;28;01mwhile\u001b[39;00m \u001b[38;5;28many\u001b[39m(\u001b[38;5;241m~\u001b[39mnp\u001b[38;5;241m.\u001b[39misnan(T)):\n\u001b[0;32m--> 528\u001b[0m     c_ \u001b[38;5;241m=\u001b[39m \u001b[38;5;28mint\u001b[39m(np\u001b[38;5;241m.\u001b[39mnanargmax(T))\n\u001b[1;32m    529\u001b[0m     w \u001b[38;5;241m=\u001b[39m \u001b[38;5;28mself\u001b[39m\u001b[38;5;241m.\u001b[39mW[c_]\n\u001b[1;32m    530\u001b[0m     cache \u001b[38;5;241m=\u001b[39m T_cache[c_]\n",
            "File \u001b[0;32m~/Downloads/anaconda3/lib/python3.12/site-packages/numpy/lib/nanfunctions.py:609\u001b[0m, in \u001b[0;36mnanargmax\u001b[0;34m(a, axis, out, keepdims)\u001b[0m\n\u001b[1;32m    561\u001b[0m \u001b[38;5;129m@array_function_dispatch\u001b[39m(_nanargmax_dispatcher)\n\u001b[1;32m    562\u001b[0m \u001b[38;5;28;01mdef\u001b[39;00m \u001b[38;5;21mnanargmax\u001b[39m(a, axis\u001b[38;5;241m=\u001b[39m\u001b[38;5;28;01mNone\u001b[39;00m, out\u001b[38;5;241m=\u001b[39m\u001b[38;5;28;01mNone\u001b[39;00m, \u001b[38;5;241m*\u001b[39m, keepdims\u001b[38;5;241m=\u001b[39mnp\u001b[38;5;241m.\u001b[39m_NoValue):\n\u001b[1;32m    563\u001b[0m \u001b[38;5;250m    \u001b[39m\u001b[38;5;124;03m\"\"\"\u001b[39;00m\n\u001b[1;32m    564\u001b[0m \u001b[38;5;124;03m    Return the indices of the maximum values in the specified axis ignoring\u001b[39;00m\n\u001b[1;32m    565\u001b[0m \u001b[38;5;124;03m    NaNs. For all-NaN slices ``ValueError`` is raised. Warning: the\u001b[39;00m\n\u001b[0;32m   (...)\u001b[0m\n\u001b[1;32m    607\u001b[0m \n\u001b[1;32m    608\u001b[0m \u001b[38;5;124;03m    \"\"\"\u001b[39;00m\n\u001b[0;32m--> 609\u001b[0m     a, mask \u001b[38;5;241m=\u001b[39m _replace_nan(a, \u001b[38;5;241m-\u001b[39mnp\u001b[38;5;241m.\u001b[39minf)\n\u001b[1;32m    610\u001b[0m     \u001b[38;5;28;01mif\u001b[39;00m mask \u001b[38;5;129;01mis\u001b[39;00m \u001b[38;5;129;01mnot\u001b[39;00m \u001b[38;5;28;01mNone\u001b[39;00m:\n\u001b[1;32m    611\u001b[0m         mask \u001b[38;5;241m=\u001b[39m np\u001b[38;5;241m.\u001b[39mall(mask, axis\u001b[38;5;241m=\u001b[39maxis)\n",
            "File \u001b[0;32m~/Downloads/anaconda3/lib/python3.12/site-packages/numpy/lib/nanfunctions.py:108\u001b[0m, in \u001b[0;36m_replace_nan\u001b[0;34m(a, val)\u001b[0m\n\u001b[1;32m    106\u001b[0m \u001b[38;5;28;01mif\u001b[39;00m mask \u001b[38;5;129;01mis\u001b[39;00m \u001b[38;5;129;01mnot\u001b[39;00m \u001b[38;5;28;01mNone\u001b[39;00m:\n\u001b[1;32m    107\u001b[0m     a \u001b[38;5;241m=\u001b[39m np\u001b[38;5;241m.\u001b[39marray(a, subok\u001b[38;5;241m=\u001b[39m\u001b[38;5;28;01mTrue\u001b[39;00m, copy\u001b[38;5;241m=\u001b[39m\u001b[38;5;28;01mTrue\u001b[39;00m)\n\u001b[0;32m--> 108\u001b[0m     np\u001b[38;5;241m.\u001b[39mcopyto(a, val, where\u001b[38;5;241m=\u001b[39mmask)\n\u001b[1;32m    110\u001b[0m \u001b[38;5;28;01mreturn\u001b[39;00m a, mask\n",
            "\u001b[0;31mKeyboardInterrupt\u001b[0m: "
          ]
        }
      ],
      "source": [
        "fuzzy_art_model.partial_fit(train_X_fuzzy_art)\n",
        "fuzzy_art_predictions = fuzzy_art_model.predict(test_X_fuzzy_art)"
      ]
    },
    {
      "cell_type": "code",
      "execution_count": null,
      "metadata": {
        "colab": {
          "base_uri": "https://localhost:8080/"
        },
        "id": "89Psw4zP9Bg5",
        "outputId": "68fb91cc-4bb7-4002-dc29-af53cd992e61"
      },
      "outputs": [
        {
          "name": "stdout",
          "output_type": "stream",
          "text": [
            "O ARI do modelo FuzzyART foi: 0.03313772875665044\n",
            "O número de clusters foi: 1773\n"
          ]
        }
      ],
      "source": [
        "ARI = adjusted_rand_score(y_test,fuzzy_art_predictions)\n",
        "print(f'O ARI do modelo FuzzyART foi: {ARI}')\n",
        "num_clusters = fuzzy_art_model.n_clusters\n",
        "print(f\"O número de clusters foi: {num_clusters}\")"
      ]
    },
    {
      "cell_type": "code",
      "execution_count": null,
      "metadata": {},
      "outputs": [],
      "source": [
        "acc_matrix = generate_acc_matrix_fuzzyART(num_tasks, X_train_sorted, y_train_sorted, \n",
        "                                            X_test_sorted, y_test_sorted, 1)\n",
        "\n",
        "\n",
        "\n"
      ]
    },
    {
      "cell_type": "code",
      "execution_count": null,
      "metadata": {},
      "outputs": [
        {
          "name": "stdout",
          "output_type": "stream",
          "text": [
            "     0    1    2    3    4    5    6    7    8    9\n",
            "0  1.0  1.0  1.0  1.0  1.0  1.0  1.0  1.0  1.0  1.0\n",
            "1  1.0  1.0  1.0  1.0  1.0  1.0  1.0  1.0  1.0  1.0\n",
            "2  1.0  1.0  1.0  1.0  1.0  1.0  1.0  1.0  1.0  1.0\n",
            "3  1.0  1.0  1.0  0.0  0.0  0.0  0.0  0.0  0.0  0.0\n",
            "4  0.0  1.0  0.0  0.0  0.0  0.0  0.0  0.0  0.0  0.0\n",
            "5  0.0  1.0  0.0  0.0  0.0  0.0  0.0  0.0  0.0  0.0\n",
            "6  0.0  1.0  0.0  0.0  0.0  0.0  0.0  0.0  0.0  0.0\n",
            "7  0.0  1.0  0.0  0.0  0.0  0.0  0.0  0.0  0.0  0.0\n",
            "8  0.0  1.0  0.0  0.0  0.0  0.0  0.0  0.0  0.0  0.0\n",
            "9  0.0  1.0  0.0  0.0  0.0  0.0  0.0  0.0  0.0  0.0\n"
          ]
        }
      ],
      "source": [
        "acc_matrix_df = pd.DataFrame(acc_matrix)\n",
        "\n",
        "print(acc_matrix_df)"
      ]
    },
    {
      "cell_type": "code",
      "execution_count": null,
      "metadata": {},
      "outputs": [
        {
          "name": "stdout",
          "output_type": "stream",
          "text": [
            "Forward transfer: 0.000000\n",
            "Backward transfer: -0.266667\n",
            "Average Accuracy: 0.218182\n"
          ]
        }
      ],
      "source": [
        "print(f\"Forward transfer: {forward_transfer(num_tasks, acc_matrix):.6f}\")\n",
        "print(f\"Backward transfer: {backward_transfer(num_tasks, acc_matrix):.6f}\")\n",
        "print(f\"Average Accuracy: {average_accuracy(num_tasks, acc_matrix):.6f}\")\n"
      ]
    },
    {
      "cell_type": "markdown",
      "metadata": {},
      "source": [
        "<font color=\"red\" oi>"
      ]
    }
  ],
  "metadata": {
    "colab": {
      "collapsed_sections": [
        "6w4BE74LtjLR",
        "-3NYKMpe0zpo"
      ],
      "provenance": []
    },
    "kernelspec": {
      "display_name": "base",
      "language": "python",
      "name": "python3"
    },
    "language_info": {
      "codemirror_mode": {
        "name": "ipython",
        "version": 3
      },
      "file_extension": ".py",
      "mimetype": "text/x-python",
      "name": "python",
      "nbconvert_exporter": "python",
      "pygments_lexer": "ipython3",
      "version": "3.12.7"
    }
  },
  "nbformat": 4,
  "nbformat_minor": 0
}
