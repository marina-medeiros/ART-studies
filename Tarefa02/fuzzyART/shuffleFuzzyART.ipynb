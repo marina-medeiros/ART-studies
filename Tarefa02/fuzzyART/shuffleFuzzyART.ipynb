{
 "cells": [
  {
   "cell_type": "markdown",
   "id": "85fe31c4",
   "metadata": {},
   "source": [
    "# FuzzyART"
   ]
  },
  {
   "cell_type": "markdown",
   "id": "598a8d3d",
   "metadata": {},
   "source": [
    "Aqui, embaralharemos os dados e avaliaremos o modelo usando a métrica ARI."
   ]
  },
  {
   "cell_type": "markdown",
   "id": "10a63f15",
   "metadata": {},
   "source": [
    "## Importando bibliotecas"
   ]
  },
  {
   "cell_type": "code",
   "execution_count": 1,
   "id": "348b7bf8",
   "metadata": {},
   "outputs": [
    {
     "ename": "ModuleNotFoundError",
     "evalue": "No module named 'torchvision'",
     "output_type": "error",
     "traceback": [
      "\u001b[0;31m---------------------------------------------------------------------------\u001b[0m",
      "\u001b[0;31mModuleNotFoundError\u001b[0m                       Traceback (most recent call last)",
      "Cell \u001b[0;32mIn[1], line 1\u001b[0m\n\u001b[0;32m----> 1\u001b[0m \u001b[38;5;28;01mfrom\u001b[39;00m\u001b[38;5;250m \u001b[39m\u001b[38;5;21;01mtorchvision\u001b[39;00m\u001b[38;5;250m \u001b[39m\u001b[38;5;28;01mimport\u001b[39;00m datasets, transforms\n\u001b[1;32m      2\u001b[0m \u001b[38;5;28;01mfrom\u001b[39;00m\u001b[38;5;250m \u001b[39m\u001b[38;5;21;01msklearn\u001b[39;00m\u001b[38;5;21;01m.\u001b[39;00m\u001b[38;5;21;01mutils\u001b[39;00m\u001b[38;5;250m \u001b[39m\u001b[38;5;28;01mimport\u001b[39;00m shuffle\n\u001b[1;32m      3\u001b[0m \u001b[38;5;28;01mimport\u001b[39;00m\u001b[38;5;250m \u001b[39m\u001b[38;5;21;01mnumpy\u001b[39;00m\u001b[38;5;250m \u001b[39m\u001b[38;5;28;01mas\u001b[39;00m\u001b[38;5;250m \u001b[39m\u001b[38;5;21;01mnp\u001b[39;00m\n",
      "\u001b[0;31mModuleNotFoundError\u001b[0m: No module named 'torchvision'"
     ]
    }
   ],
   "source": [
    "from torchvision import datasets, transforms\n",
    "from sklearn.utils import shuffle\n",
    "import numpy as np\n",
    "from sklearn.model_selection import train_test_split\n",
    "import matplotlib.pyplot as plt\n",
    "from artlib import FuzzyART\n",
    "from sklearn.metrics.cluster import adjusted_rand_score\n",
    "import pandas as pd"
   ]
  },
  {
   "cell_type": "markdown",
   "id": "595f3ef4",
   "metadata": {},
   "source": [
    "## Baixando base de dados"
   ]
  },
  {
   "cell_type": "code",
   "execution_count": null,
   "id": "82355035",
   "metadata": {},
   "outputs": [
    {
     "name": "stdout",
     "output_type": "stream",
     "text": [
      "(7291, 1, 16, 16) (7291,)\n"
     ]
    }
   ],
   "source": [
    "transform = transforms.ToTensor()\n",
    "dataset = datasets.USPS(root='./data', train=True, download=True, transform=transform)\n",
    "\n",
    "X = np.stack([img.numpy() for img, _ in dataset])\n",
    "y = np.array([label for _, label in dataset])\n",
    "\n",
    "X, y = shuffle(X, y, random_state=42)\n",
    "\n",
    "print(X.shape, y.shape)"
   ]
  },
  {
   "cell_type": "code",
   "execution_count": null,
   "id": "dfc5ccf3",
   "metadata": {},
   "outputs": [],
   "source": [
    "X_train, X_test, y_train, y_test = train_test_split(X, y, test_size=0.4, random_state=0)"
   ]
  },
  {
   "cell_type": "markdown",
   "id": "5f235a7c",
   "metadata": {},
   "source": [
    "## Treinando o modelo"
   ]
  },
  {
   "cell_type": "code",
   "execution_count": null,
   "id": "eba76e9c",
   "metadata": {},
   "outputs": [],
   "source": [
    "alphas = [1e-6, 1e-3, 1e-2, 1e-1, 1.0, 10.0] \n",
    "rhos   = [0.1, 0.3, 0.5, 0.7, 0.9]\n",
    "betas  = [1.0, 0.5, 0.1]\n",
    "\n",
    "results = []\n",
    "\n",
    "for alpha in alphas:\n",
    "    for rho in rhos:\n",
    "        for beta in betas:\n",
    "\n",
    "            model = FuzzyART(rho=rho, alpha=alpha, beta=beta)\n",
    "            \n",
    "            lower_bound, upper_bound = model.find_data_bounds(X)\n",
    "            model.set_data_bounds(lower_bound, upper_bound)\n",
    "\n",
    "            # Preparar os dados (normalizados internamente pelo modelo)\n",
    "            train_X_prep = model.prepare_data(X_train)\n",
    "            test_X_prep  = model.prepare_data(X_test)\n",
    "\n",
    "            # Treinar\n",
    "            model.fit(train_X_prep, y_train)\n",
    "\n",
    "            # Prever\n",
    "            predictions = model.predict(test_X_prep)\n",
    "\n",
    "            # Calcular accuracy\n",
    "            ari = adjusted_rand_score(y_test, predictions)\n",
    "\n",
    "            results.append({\n",
    "                'alpha': alpha,\n",
    "                'rho': rho,\n",
    "                'beta': beta,\n",
    "                'ARI': ari\n",
    "            })\n",
    "\n",
    "            #print(f\"alpha={alpha:.1e}, rho={rho}, beta={beta} → acc={acc:.3f}\")\n",
    "\n",
    "df_results = pd.DataFrame(results)\n",
    "best_results = df_results.sort_values(by='ARI', ascending=False).head(10)\n"
   ]
  },
  {
   "cell_type": "code",
   "execution_count": null,
   "id": "fec8e327",
   "metadata": {},
   "outputs": [
    {
     "name": "stdout",
     "output_type": "stream",
     "text": [
      "10 melhores combinações:\n",
      "       alpha  rho  beta       ARI\n",
      "42  0.010000  0.9   1.0  0.023564\n",
      "57  0.100000  0.9   1.0  0.000032\n",
      "0   0.000001  0.1   1.0  0.000000\n",
      "65  1.000000  0.3   0.1  0.000000\n",
      "64  1.000000  0.3   0.5  0.000000\n",
      "63  1.000000  0.3   1.0  0.000000\n",
      "62  1.000000  0.1   0.1  0.000000\n",
      "61  1.000000  0.1   0.5  0.000000\n",
      "60  1.000000  0.1   1.0  0.000000\n",
      "59  0.100000  0.9   0.1  0.000000\n"
     ]
    }
   ],
   "source": [
    "print(\"10 melhores combinações:\")\n",
    "print(best_results)"
   ]
  }
 ],
 "metadata": {
  "kernelspec": {
   "display_name": "Python 3",
   "language": "python",
   "name": "python3"
  },
  "language_info": {
   "codemirror_mode": {
    "name": "ipython",
    "version": 3
   },
   "file_extension": ".py",
   "mimetype": "text/x-python",
   "name": "python",
   "nbconvert_exporter": "python",
   "pygments_lexer": "ipython3",
   "version": "3.10.12"
  }
 },
 "nbformat": 4,
 "nbformat_minor": 5
}
