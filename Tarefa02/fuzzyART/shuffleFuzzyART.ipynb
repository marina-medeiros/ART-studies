{
 "cells": [
  {
   "cell_type": "markdown",
   "id": "85fe31c4",
   "metadata": {},
   "source": [
    "# FuzzyART"
   ]
  },
  {
   "cell_type": "markdown",
   "id": "598a8d3d",
   "metadata": {},
   "source": [
    "Aqui, embaralharemos os dados e avaliaremos o modelo usando a métrica ARI."
   ]
  },
  {
   "cell_type": "markdown",
   "id": "10a63f15",
   "metadata": {},
   "source": [
    "## Importando bibliotecas"
   ]
  },
  {
   "cell_type": "code",
   "execution_count": 1,
   "id": "348b7bf8",
   "metadata": {},
   "outputs": [],
   "source": [
    "import torch\n",
    "from torchvision import datasets, transforms\n",
    "from sklearn.utils import shuffle\n",
    "import numpy as np\n",
    "from sklearn.model_selection import train_test_split\n",
    "import matplotlib.pyplot as plt\n",
    "from artlib import FuzzyART\n",
    "from sklearn.metrics.cluster import adjusted_rand_score\n",
    "import pandas as pd"
   ]
  },
  {
   "cell_type": "markdown",
   "id": "595f3ef4",
   "metadata": {},
   "source": [
    "## Baixando base de dados"
   ]
  },
  {
   "cell_type": "code",
   "execution_count": 2,
   "id": "82355035",
   "metadata": {},
   "outputs": [
    {
     "name": "stdout",
     "output_type": "stream",
     "text": [
      "(7291, 1, 16, 16) (7291,)\n"
     ]
    }
   ],
   "source": [
    "transform = transforms.ToTensor()\n",
    "dataset = datasets.USPS(root='./data', train = True, download=True, transform=transform)\n",
    "\n",
    "X = np.stack([img.numpy() for img, _ in dataset])\n",
    "y = np.array([label for _, label in dataset])\n",
    "\n",
    "X, y = shuffle(X, y, random_state=42)\n",
    "\n",
    "print(X.shape, y.shape)"
   ]
  },
  {
   "cell_type": "code",
   "execution_count": 3,
   "id": "dfc5ccf3",
   "metadata": {},
   "outputs": [
    {
     "name": "stdout",
     "output_type": "stream",
     "text": [
      "(2917, 1, 16, 16) (4374, 1, 16, 16)\n",
      "(2917,) (4374,)\n"
     ]
    }
   ],
   "source": [
    "X_train, X_test, y_train, y_test = train_test_split(X, y, test_size=0.4, random_state=0)\n",
    "\n",
    "print(X_test.shape, X_train.shape)\n",
    "print(y_test.shape, y_train.shape)"
   ]
  },
  {
   "cell_type": "markdown",
   "id": "5f235a7c",
   "metadata": {},
   "source": [
    "## Treinando o modelo"
   ]
  },
  {
   "cell_type": "code",
   "execution_count": 4,
   "id": "eba76e9c",
   "metadata": {},
   "outputs": [],
   "source": [
    "alphas = [0.0] \n",
    "rhos   = [0.3]\n",
    "betas  = [1.0]\n",
    "\n",
    "results = []\n",
    "\n",
    "for alpha in alphas:\n",
    "    for rho in rhos:\n",
    "        for beta in betas:\n",
    "\n",
    "            model = FuzzyART(rho=rho, alpha=alpha, beta=beta)\n",
    "            \n",
    "            lower_bound, upper_bound = model.find_data_bounds(X)\n",
    "            model.set_data_bounds(lower_bound, upper_bound)\n",
    "\n",
    "            # Preparar os dados (normalizados internamente pelo modelo)\n",
    "            train_X_prep = model.prepare_data(X_train)\n",
    "            test_X_prep  = model.prepare_data(X_test)\n",
    "\n",
    "            # Treinar\n",
    "            model.fit(train_X_prep, y_train)\n",
    "\n",
    "            # Prever\n",
    "            predictions = model.predict(test_X_prep)\n",
    "\n",
    "            # Calcular accuracy\n",
    "            ari = adjusted_rand_score(y_test, predictions)\n",
    "\n",
    "            results.append({\n",
    "                'alpha': alpha,\n",
    "                'rho': rho,\n",
    "                'beta': beta,\n",
    "                'ARI': ari\n",
    "            })\n",
    "\n",
    "            #print(f\"alpha={alpha:.1e}, rho={rho}, beta={beta} → acc={acc:.3f}\")\n",
    "\n",
    "df_results = pd.DataFrame(results)\n",
    "best_results = df_results.sort_values(by='ARI', ascending=False).head(10)\n"
   ]
  },
  {
   "cell_type": "code",
   "execution_count": 5,
   "id": "fec8e327",
   "metadata": {},
   "outputs": [
    {
     "name": "stdout",
     "output_type": "stream",
     "text": [
      "10 melhores combinações:\n",
      "   alpha  rho  beta  ARI\n",
      "0    0.0  0.3   1.0  0.0\n"
     ]
    }
   ],
   "source": [
    "print(\"10 melhores combinações:\")\n",
    "print(best_results)"
   ]
  }
 ],
 "metadata": {
  "kernelspec": {
   "display_name": "base",
   "language": "python",
   "name": "python3"
  },
  "language_info": {
   "codemirror_mode": {
    "name": "ipython",
    "version": 3
   },
   "file_extension": ".py",
   "mimetype": "text/x-python",
   "name": "python",
   "nbconvert_exporter": "python",
   "pygments_lexer": "ipython3",
   "version": "3.12.7"
  }
 },
 "nbformat": 4,
 "nbformat_minor": 5
}
