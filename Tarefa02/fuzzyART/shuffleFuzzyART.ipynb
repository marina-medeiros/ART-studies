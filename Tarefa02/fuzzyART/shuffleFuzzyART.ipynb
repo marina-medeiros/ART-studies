{
 "cells": [
  {
   "cell_type": "markdown",
   "id": "85fe31c4",
   "metadata": {},
   "source": [
    "# FuzzyART"
   ]
  },
  {
   "cell_type": "markdown",
   "id": "598a8d3d",
   "metadata": {},
   "source": [
    "Aqui, embaralharemos os dados e avaliaremos o modelo usando a métrica ARI."
   ]
  },
  {
   "cell_type": "markdown",
   "id": "10a63f15",
   "metadata": {},
   "source": [
    "## Importando bibliotecas"
   ]
  },
  {
   "cell_type": "code",
   "execution_count": 17,
   "id": "348b7bf8",
   "metadata": {},
   "outputs": [],
   "source": [
    "import torch\n",
    "from torchvision import datasets, transforms\n",
    "from sklearn.utils import shuffle\n",
    "import numpy as np\n",
    "from sklearn.model_selection import train_test_split\n",
    "import matplotlib.pyplot as plt\n",
    "from artlib import FuzzyART\n",
    "from sklearn.metrics.cluster import adjusted_rand_score\n",
    "import pandas as pd"
   ]
  },
  {
   "cell_type": "markdown",
   "id": "595f3ef4",
   "metadata": {},
   "source": [
    "## Baixando base de dados"
   ]
  },
  {
   "cell_type": "code",
   "execution_count": 18,
   "id": "82355035",
   "metadata": {},
   "outputs": [
    {
     "name": "stdout",
     "output_type": "stream",
     "text": [
      "(7291, 256) (7291,)\n"
     ]
    }
   ],
   "source": [
    "transform = transforms.ToTensor()\n",
    "dataset = datasets.USPS(root='./data', train=True, download=True, transform=transform)\n",
    "\n",
    "X = np.array([img.numpy().flatten() for img, _ in dataset])  # Flatten das imagens\n",
    "y = np.array([label for _, label in dataset])\n",
    "\n",
    "X, y = shuffle(X, y, random_state=42)\n",
    "\n",
    "print(X.shape, y.shape)"
   ]
  },
  {
   "cell_type": "code",
   "execution_count": 19,
   "id": "dfc5ccf3",
   "metadata": {},
   "outputs": [
    {
     "name": "stdout",
     "output_type": "stream",
     "text": [
      "(2917, 256) (4374, 256)\n",
      "(2917,) (4374,)\n"
     ]
    }
   ],
   "source": [
    "X_train, X_test, y_train, y_test = train_test_split(X, y, test_size=0.4, random_state=0)\n",
    "\n",
    "print(X_test.shape, X_train.shape)\n",
    "print(y_test.shape, y_train.shape)"
   ]
  },
  {
   "cell_type": "markdown",
   "id": "5f235a7c",
   "metadata": {},
   "source": [
    "## Treinando o modelo"
   ]
  },
  {
   "cell_type": "code",
   "execution_count": 20,
   "id": "eba76e9c",
   "metadata": {},
   "outputs": [
    {
     "name": "stdout",
     "output_type": "stream",
     "text": [
      "O ARI obtido foi: 0.000000\n"
     ]
    }
   ],
   "source": [
    "model = FuzzyART(rho=0.9, alpha=0.0, beta=1.0)\n",
    "\n",
    "n_dim = 16*16\n",
    "# Estabelecendo bounds\n",
    "lower_bounds = np.zeros(n_dim) ## Isso foi feito com base no exemplo que está no github da biblioteca\n",
    "upper_bounds = np.full(n_dim, 255.0)\n",
    "\n",
    "model.set_data_bounds(lower_bounds, upper_bounds)\n",
    "\n",
    "# Preparar os dados (normalizados internamente pelo modelo)\n",
    "train_X_prep = model.prepare_data(X_train)\n",
    "test_X_prep  = model.prepare_data(X_test)\n",
    "\n",
    "# Treinar\n",
    "model.fit(train_X_prep, y_train)\n",
    "\n",
    "# Prever\n",
    "predictions = model.predict(test_X_prep)\n",
    "\n",
    "# Calcular accuracy\n",
    "ari = adjusted_rand_score(y_test, predictions)\n",
    "\n",
    "print(f\"O ARI obtido foi: {ari:.6f}\")\n"
   ]
  }
 ],
 "metadata": {
  "kernelspec": {
   "display_name": "base",
   "language": "python",
   "name": "python3"
  },
  "language_info": {
   "codemirror_mode": {
    "name": "ipython",
    "version": 3
   },
   "file_extension": ".py",
   "mimetype": "text/x-python",
   "name": "python",
   "nbconvert_exporter": "python",
   "pygments_lexer": "ipython3",
   "version": "3.12.7"
  }
 },
 "nbformat": 4,
 "nbformat_minor": 5
}
