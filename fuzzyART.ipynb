{
 "cells": [
  {
   "cell_type": "markdown",
   "id": "5366f8ac",
   "metadata": {},
   "source": [
    "# Fuzzy ART"
   ]
  },
  {
   "cell_type": "markdown",
   "id": "6e667800",
   "metadata": {},
   "source": []
  }
 ],
 "metadata": {
  "language_info": {
   "name": "python"
  }
 },
 "nbformat": 4,
 "nbformat_minor": 5
}
