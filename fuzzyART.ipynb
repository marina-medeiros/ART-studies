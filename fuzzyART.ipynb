{
 "cells": [
  {
   "cell_type": "markdown",
   "id": "5366f8ac",
   "metadata": {},
   "source": [
    "# Fuzzy ART"
   ]
  },
  {
   "cell_type": "markdown",
   "id": "6e667800",
   "metadata": {},
   "source": [
    "Esse algoritmo é usado em tarefas de aprendizado não supervisionado.\n",
    "\n",
    "Ele utiliza o operador lógico 'fuzzy AND'."
   ]
  },
  {
   "cell_type": "markdown",
   "id": "d0597b9d",
   "metadata": {},
   "source": [
    "## Importando bibliotecas"
   ]
  },
  {
   "cell_type": "markdown",
   "id": "6d80f9bf",
   "metadata": {},
   "source": [
    "Usaremos a base de dados MNIST (Modified National Institute of Standards and Technology). Ela contém imagens de dígitos escritos à mão."
   ]
  },
  {
   "cell_type": "code",
   "execution_count": 2,
   "id": "72a0da89",
   "metadata": {},
   "outputs": [
    {
     "name": "stderr",
     "output_type": "stream",
     "text": [
      "2025-10-09 10:35:20.541935: I external/local_xla/xla/tsl/cuda/cudart_stub.cc:31] Could not find cuda drivers on your machine, GPU will not be used.\n",
      "2025-10-09 10:35:20.542174: I tensorflow/core/util/port.cc:153] oneDNN custom operations are on. You may see slightly different numerical results due to floating-point round-off errors from different computation orders. To turn them off, set the environment variable `TF_ENABLE_ONEDNN_OPTS=0`.\n",
      "2025-10-09 10:35:20.577740: I tensorflow/core/platform/cpu_feature_guard.cc:210] This TensorFlow binary is optimized to use available CPU instructions in performance-critical operations.\n",
      "To enable the following instructions: AVX2 AVX_VNNI FMA, in other operations, rebuild TensorFlow with the appropriate compiler flags.\n",
      "2025-10-09 10:35:21.392628: I tensorflow/core/util/port.cc:153] oneDNN custom operations are on. You may see slightly different numerical results due to floating-point round-off errors from different computation orders. To turn them off, set the environment variable `TF_ENABLE_ONEDNN_OPTS=0`.\n",
      "2025-10-09 10:35:21.393132: I external/local_xla/xla/tsl/cuda/cudart_stub.cc:31] Could not find cuda drivers on your machine, GPU will not be used.\n"
     ]
    }
   ],
   "source": [
    "from artlib import FuzzyART\n",
    "import numpy as np\n",
    "from tensorflow.keras.datasets import mnist"
   ]
  },
  {
   "cell_type": "markdown",
   "id": "00197e72",
   "metadata": {},
   "source": [
    "## Carregando a base de dados"
   ]
  },
  {
   "cell_type": "code",
   "execution_count": 4,
   "id": "487a24e8",
   "metadata": {},
   "outputs": [
    {
     "name": "stdout",
     "output_type": "stream",
     "text": [
      "Downloading data from https://storage.googleapis.com/tensorflow/tf-keras-datasets/mnist.npz\n",
      "\u001b[1m11490434/11490434\u001b[0m \u001b[32m━━━━━━━━━━━━━━━━━━━━\u001b[0m\u001b[37m\u001b[0m \u001b[1m1s\u001b[0m 0us/step\n"
     ]
    }
   ],
   "source": [
    "n_dim = 28*28\n",
    "(X_train, _), (X_test, _) = mnist.load_data()\n",
    "X_train = X_train.reshape((-1, n_dim)) # flatten images\n",
    "X_test = X_test.reshape((-1, n_dim))"
   ]
  },
  {
   "cell_type": "markdown",
   "id": "e3e3895c",
   "metadata": {},
   "source": [
    "## Inicializando o modelo Fuzzy ART "
   ]
  },
  {
   "cell_type": "code",
   "execution_count": 3,
   "id": "ce0ac4a1",
   "metadata": {},
   "outputs": [],
   "source": [
    "model = FuzzyART(rho=0.7, alpha = 0.0, beta=1.0)"
   ]
  },
  {
   "cell_type": "markdown",
   "id": "cd1fec71",
   "metadata": {},
   "source": [
    "## Normalização"
   ]
  },
  {
   "cell_type": "markdown",
   "id": "4b64b4cc",
   "metadata": {},
   "source": [
    "Essa parte é opcional. Aqui, dizemos ao modelo os limites dos dados para a normalização."
   ]
  },
  {
   "cell_type": "code",
   "execution_count": 5,
   "id": "16e865a9",
   "metadata": {},
   "outputs": [],
   "source": [
    "lower_bounds = np.array([0.]*n_dim)\n",
    "upper_bounds = np.array([255.]*n_dim)\n",
    "model.set_data_bounds(lower_bounds, upper_bounds)"
   ]
  },
  {
   "cell_type": "markdown",
   "id": "bdbe7376",
   "metadata": {},
   "source": [
    "## Preparando os dados"
   ]
  },
  {
   "cell_type": "markdown",
   "id": "646068dd",
   "metadata": {},
   "source": [
    "Essa função faz o pré-processamento dos dados."
   ]
  },
  {
   "cell_type": "code",
   "execution_count": 6,
   "id": "534b8f98",
   "metadata": {},
   "outputs": [],
   "source": [
    "train_X_prep = model.prepare_data(X_train)\n",
    "test_X_prep = model.prepare_data(X_test)"
   ]
  },
  {
   "cell_type": "markdown",
   "id": "e62ff8f8",
   "metadata": {},
   "source": [
    "## Fazendo o \"fit\" e as predições"
   ]
  },
  {
   "cell_type": "code",
   "execution_count": null,
   "id": "8c0f7570",
   "metadata": {},
   "outputs": [],
   "source": [
    "# Fit the model\n",
    "model.fit(train_X_prep)\n",
    "\n",
    "# Predict data labels\n",
    "predictions = model.predict(test_X_prep)"
   ]
  }
 ],
 "metadata": {
  "kernelspec": {
   "display_name": "base",
   "language": "python",
   "name": "python3"
  },
  "language_info": {
   "codemirror_mode": {
    "name": "ipython",
    "version": 3
   },
   "file_extension": ".py",
   "mimetype": "text/x-python",
   "name": "python",
   "nbconvert_exporter": "python",
   "pygments_lexer": "ipython3",
   "version": "3.12.7"
  }
 },
 "nbformat": 4,
 "nbformat_minor": 5
}
